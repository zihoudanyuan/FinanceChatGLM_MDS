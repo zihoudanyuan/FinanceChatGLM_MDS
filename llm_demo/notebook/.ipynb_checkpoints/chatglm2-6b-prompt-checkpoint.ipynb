{
 "cells": [
  {
   "cell_type": "markdown",
   "id": "7d1453a2-5bf5-482c-89e0-736ac141b167",
   "metadata": {},
   "source": [
    "# dd"
   ]
  },
  {
   "cell_type": "code",
   "execution_count": 1,
   "id": "8dc1db35-ed2f-48f5-a482-94d0c9de24f3",
   "metadata": {},
   "outputs": [
    {
     "name": "stderr",
     "output_type": "stream",
     "text": [
      "2023-07-28 07:20:06,969 - modelscope - INFO - PyTorch version 2.0.1 Found.\n",
      "2023-07-28 07:20:06,971 - modelscope - INFO - Loading ast index from /root/.cache/modelscope/ast_indexer\n",
      "2023-07-28 07:20:07,110 - modelscope - INFO - Loading done! Current index file version is 1.7.2rc0, with md5 5dded4bf6e3a476529a20be6d1605b13 and a total number of 863 components indexed\n",
      "/root/miniconda3/envs/cft/lib/python3.9/site-packages/tqdm/auto.py:21: TqdmWarning: IProgress not found. Please update jupyter and ipywidgets. See https://ipywidgets.readthedocs.io/en/stable/user_install.html\n",
      "  from .autonotebook import tqdm as notebook_tqdm\n"
     ]
    }
   ],
   "source": [
    "# 备注：最新模型版本要求modelscope >= 1.7.2\n",
    "\n",
    "# 当前可用版本：\n",
    "# Step1: pip3 install \"modelscope==1.7.2rc0\" -f https://modelscope.oss-cn-beijing.aliyuncs.com/releases/repo.html\n",
    "# Step2: 如为dsw notebook环境需要重启kernel\n",
    "\n",
    "from modelscope.utils.constant import Tasks\n",
    "from modelscope import Model\n",
    "from modelscope.pipelines import pipeline"
   ]
  },
  {
   "cell_type": "code",
   "execution_count": 2,
   "id": "1d877b47-fd6b-4ca7-93ae-dda35f264ffb",
   "metadata": {},
   "outputs": [
    {
     "name": "stderr",
     "output_type": "stream",
     "text": [
      "2023-07-28 07:20:37,310 - modelscope - INFO - initialize model from /root/autodl-tmp/ZhipuAI/chatglm2-6b\n",
      "Loading checkpoint shards: 100%|██████████| 7/7 [00:16<00:00,  2.35s/it]\n",
      "The tokenizer class you load from this checkpoint is not the same type as the class this function is called from. It may result in unexpected tokenization. \n",
      "The tokenizer class you load from this checkpoint is 'ChatGLMTokenizer'. \n",
      "The class this function is called from is 'ChatGLM2Tokenizer'.\n",
      "2023-07-28 07:20:55,414 - modelscope - WARNING - No preprocessor field found in cfg.\n",
      "2023-07-28 07:20:55,415 - modelscope - WARNING - No val key and type key found in preprocessor domain of configuration.json file.\n",
      "2023-07-28 07:20:55,416 - modelscope - WARNING - Cannot find available config to build preprocessor at mode inference, current config: {'model_dir': '/root/autodl-tmp/ZhipuAI/chatglm2-6b'}. trying to build by task and model information.\n",
      "2023-07-28 07:20:55,416 - modelscope - WARNING - No preprocessor key ('chatglm2-6b', 'chat') found in PREPROCESSOR_MAP, skip building preprocessor.\n"
     ]
    }
   ],
   "source": [
    "model = Model.from_pretrained('/root/autodl-tmp/ZhipuAI/chatglm2-6b', device_map='auto')\n",
    "pipe = pipeline(task=Tasks.chat, model=model)"
   ]
  },
  {
   "cell_type": "code",
   "execution_count": 3,
   "id": "890ffcbe-ce50-4ae2-88c4-1ce95cb4f4a5",
   "metadata": {},
   "outputs": [
    {
     "name": "stdout",
     "output_type": "stream",
     "text": [
      "{'response': '清华大学是中国著名的高等教育机构之一，位于中国北京市海淀区双清路30号，其历史可以追溯到 1911 年创建的清华学堂，1925 年改名为清华学校，最终在 1949 年成为清华大学。作为我国顶尖的大学之一，清华大学在科学研究、工程技术、信息技术、经济管理等领域具有极高的声誉和影响力。\\n\\n清华大学的校训是“自强不息、厚德载物”，体现了学校一贯追求的办学理念和核心价值观。清华大学强调“以学生为本”，注重创新教育、素质教育，鼓励学生勇于创新、独立思考，培养学生的综合素质和国际化视野。\\n\\n清华大学拥有一流的师资队伍，包括众多国内外知名学者和专家，为学生提供了优质的教育资源和良好的学术氛围。校园内设施齐全，包括图书馆、实验室、体育馆、艺术中心等，为学生提供了便利的学习和生活条件。\\n\\n近年来，清华大学在国内外各个领域取得了巨大的成就，如在科研方面，清华大学的科研团队在多个领域取得了突破性进展，取得了举世瞩目的成果；在人才培养方面，清华大学培养了大批具有国际视野和创新精神的优秀人才，为社会做出了重要贡献。\\n\\n清华大学是我国乃至全球知名的高等教育机构之一，以其卓越的学术水平和优秀的人才培养成果，成为了国内外各界人士所赞誉的顶尖学府。', 'history': [('你好', '你好👋！我是人工智能助手 ChatGLM2-6B，很高兴见到你，欢迎问我任何问题。'), ('介绍下清华大学', '清华大学是中国著名的高等教育机构之一，位于中国北京市海淀区双清路30号，其历史可以追溯到 1911 年创建的清华学堂，1925 年改名为清华学校，最终在 1949 年成为清华大学。作为我国顶尖的大学之一，清华大学在科学研究、工程技术、信息技术、经济管理等领域具有极高的声誉和影响力。\\n\\n清华大学的校训是“自强不息、厚德载物”，体现了学校一贯追求的办学理念和核心价值观。清华大学强调“以学生为本”，注重创新教育、素质教育，鼓励学生勇于创新、独立思考，培养学生的综合素质和国际化视野。\\n\\n清华大学拥有一流的师资队伍，包括众多国内外知名学者和专家，为学生提供了优质的教育资源和良好的学术氛围。校园内设施齐全，包括图书馆、实验室、体育馆、艺术中心等，为学生提供了便利的学习和生活条件。\\n\\n近年来，清华大学在国内外各个领域取得了巨大的成就，如在科研方面，清华大学的科研团队在多个领域取得了突破性进展，取得了举世瞩目的成果；在人才培养方面，清华大学培养了大批具有国际视野和创新精神的优秀人才，为社会做出了重要贡献。\\n\\n清华大学是我国乃至全球知名的高等教育机构之一，以其卓越的学术水平和优秀的人才培养成果，成为了国内外各界人士所赞誉的顶尖学府。')]}\n"
     ]
    }
   ],
   "source": [
    "inputs = {'text':'你好', 'history': []}\n",
    "result = pipe(inputs)\n",
    "inputs = {'text':'介绍下清华大学', 'history': result['history']}\n",
    "result = pipe(inputs)\n",
    "print(result)"
   ]
  },
  {
   "cell_type": "code",
   "execution_count": 4,
   "id": "937c27ca-82ca-455d-87b8-97bf89f242a3",
   "metadata": {},
   "outputs": [
    {
     "name": "stdout",
     "output_type": "stream",
     "text": [
      "{'response': '2020年金宇生物技术股份有限公司的年报中，展示了公司在社会责任方面的工作情况。\\n\\n1. 环保责任：公司坚持可持续发展理念，加强环境管理，提高资源综合利用率，减少污染排放，降低能源消耗。报告期内，公司通过改进生产工艺、提高资源利用效率以及增加废弃物处理能力等手段，减少了废气、废水和固体废物的排放。\\n\\n2. 产品质量责任：公司致力于生产高品质产品，加强质量控制，对产品进行严格检测，确保产品质量符合相关法规和客户需求。\\n\\n3. 员工福利责任：公司为员工提供良好的工作环境和福利待遇，关心员工生活，提高员工综合素质。\\n\\n4. 社会责任：公司积极参与公益事业，通过捐赠、志愿者活动等方式，为社会做出一定贡献。此外，公司还与政府、客户、供应商等建立良好的合作关系，共同推动社会进步。\\n\\n5. 环保政策：公司积极采取措施，加强环保管理，降低能源消耗，减少废气、废水和固体废物的排放，为构建绿色企业而努力。\\n\\n6. 企业文化建设：公司注重企业文化建设，提升员工的道德素质和综合能力，倡导健康、积极的企业文化氛围。\\n\\n总之，2020年金宇生物技术股份有限公司在社会责任方面取得了一定的成绩，为股东、政府和社会带来了积极影响。', 'history': [('能否根据2020年金宇生物技术股份有限公司的年报，给我简要介绍一下报告期内公司的社会责任工作情况？', '2020年金宇生物技术股份有限公司的年报中，展示了公司在社会责任方面的工作情况。\\n\\n1. 环保责任：公司坚持可持续发展理念，加强环境管理，提高资源综合利用率，减少污染排放，降低能源消耗。报告期内，公司通过改进生产工艺、提高资源利用效率以及增加废弃物处理能力等手段，减少了废气、废水和固体废物的排放。\\n\\n2. 产品质量责任：公司致力于生产高品质产品，加强质量控制，对产品进行严格检测，确保产品质量符合相关法规和客户需求。\\n\\n3. 员工福利责任：公司为员工提供良好的工作环境和福利待遇，关心员工生活，提高员工综合素质。\\n\\n4. 社会责任：公司积极参与公益事业，通过捐赠、志愿者活动等方式，为社会做出一定贡献。此外，公司还与政府、客户、供应商等建立良好的合作关系，共同推动社会进步。\\n\\n5. 环保政策：公司积极采取措施，加强环保管理，降低能源消耗，减少废气、废水和固体废物的排放，为构建绿色企业而努力。\\n\\n6. 企业文化建设：公司注重企业文化建设，提升员工的道德素质和综合能力，倡导健康、积极的企业文化氛围。\\n\\n总之，2020年金宇生物技术股份有限公司在社会责任方面取得了一定的成绩，为股东、政府和社会带来了积极影响。')]}\n"
     ]
    }
   ],
   "source": [
    "inputs = {'text':'能否根据2020年金宇生物技术股份有限公司的年报，给我简要介绍一下报告期内公司的社会责任工作情况？', 'history': []}\n",
    "result = pipe(inputs)\n",
    "# inputs = {'text':'介绍下清华大学', 'history': result['history']}\n",
    "# result = pipe(inputs)\n",
    "print(result)"
   ]
  },
  {
   "cell_type": "code",
   "execution_count": 5,
   "id": "86b98655-8b39-4bf7-bfcc-90f151b9e12b",
   "metadata": {},
   "outputs": [],
   "source": [
    "import json\n",
    "import pandas as pd"
   ]
  },
  {
   "cell_type": "code",
   "execution_count": 8,
   "id": "b849058a-1f8d-42e0-8772-992a631fc98f",
   "metadata": {},
   "outputs": [],
   "source": [
    "test_data = []\n",
    "with open('/root/autodl-tmp/chatglm_llm_fintech_raw_dataset/test_questions.jsonl','rt',encoding='utf-8') as f:\n",
    "    for line in f:\n",
    "        one_data = json.loads(line.strip())\n",
    "        test_data.append(one_data)"
   ]
  },
  {
   "cell_type": "code",
   "execution_count": 9,
   "id": "1a39de69-e549-4a3e-8530-be6d16adcd6e",
   "metadata": {},
   "outputs": [
    {
     "data": {
      "text/plain": [
       "5000"
      ]
     },
     "execution_count": 9,
     "metadata": {},
     "output_type": "execute_result"
    }
   ],
   "source": [
    "len(test_data)"
   ]
  },
  {
   "cell_type": "code",
   "execution_count": 10,
   "id": "2f60ca47-d271-4ca8-a0c8-29c23f556ea9",
   "metadata": {},
   "outputs": [
    {
     "data": {
      "text/plain": [
       "{'id': 0, 'question': '能否根据2020年金宇生物技术股份有限公司的年报，给我简要介绍一下报告期内公司的社会责任工作情况？'}"
      ]
     },
     "execution_count": 10,
     "metadata": {},
     "output_type": "execute_result"
    }
   ],
   "source": [
    "test_data[0]"
   ]
  },
  {
   "cell_type": "code",
   "execution_count": 11,
   "id": "43f76e79-372d-4203-8c5a-ccbe7a301129",
   "metadata": {},
   "outputs": [],
   "source": [
    "from tqdm import tqdm"
   ]
  },
  {
   "cell_type": "code",
   "execution_count": 12,
   "id": "3e303802-0268-4108-b70c-a3bc2e2791c3",
   "metadata": {},
   "outputs": [
    {
     "name": "stderr",
     "output_type": "stream",
     "text": [
      "100%|██████████| 5000/5000 [3:51:38<00:00,  2.78s/it]   \n"
     ]
    }
   ],
   "source": [
    "test_data_answer = []\n",
    "for one in tqdm(test_data):\n",
    "    inputs = {'text':one['question'], 'history': []}\n",
    "    result = pipe(inputs)\n",
    "    test_data_answer.append({'id':one['id'],'question':one['question'],'answer':result})"
   ]
  },
  {
   "cell_type": "code",
   "execution_count": 13,
   "id": "4ecfdd37-095d-44f8-9d4a-4a430ae3c66e",
   "metadata": {},
   "outputs": [
    {
     "data": {
      "text/plain": [
       "5000"
      ]
     },
     "execution_count": 13,
     "metadata": {},
     "output_type": "execute_result"
    }
   ],
   "source": [
    "len(test_data_answer)"
   ]
  },
  {
   "cell_type": "code",
   "execution_count": 14,
   "id": "2e87ab45-5674-4393-a0ce-4ff10234341c",
   "metadata": {
    "collapsed": true,
    "jupyter": {
     "outputs_hidden": true
    },
    "tags": []
   },
   "outputs": [
    {
     "data": {
      "text/plain": [
       "{'id': 0,\n",
       " 'question': '能否根据2020年金宇生物技术股份有限公司的年报，给我简要介绍一下报告期内公司的社会责任工作情况？',\n",
       " 'answer': {'response': '2020年金宇生物技术股份有限公司的年报显示，公司在社会责任方面主要开展了以下工作：\\n\\n1. 疫情期间，公司通过电话、短信、网络等多种形式，提醒员工做好个人防护，避免前往疫情高风险区。同时，公司为员工每人无偿捐赠口罩1000个，为有需要的员工提供口罩平价渠道购买。此外，公司还通过在线办公、远程教育等措施，确保员工权益。\\n\\n2. 定期举办员工培训活动，提升员工技能水平。培训内容涵盖生物产品知识、质量管理、法律法规等方面，以提高员工的专业素质。\\n\\n3. 公司积极参与社会公益活动。2020年，公司通过向困难农村地区捐赠物资、为贫困地区学生捐赠学习用品等方式，助力我国贫困地区的发展。此外，公司还积极参与核酸检测工作，为疫情防控贡献力量。\\n\\n4. 加强环境管理，提高资源利用率。公司通过优化生产流程、提高资源利用率等措施，降低生产成本，减少废水、废气、废渣等排放，保护环境。\\n\\n5. 加强员工关怀，提高员工满意度。公司定期举办员工文化活动，提升员工凝聚力；并通过完善员工福利制度，提高员工的福利待遇。\\n\\n总之，2020年金宇生物技术股份有限公司在社会责任方面呈现出积极向上的态度，为我国的发展贡献了一份力量。',\n",
       "  'history': [('能否根据2020年金宇生物技术股份有限公司的年报，给我简要介绍一下报告期内公司的社会责任工作情况？',\n",
       "    '2020年金宇生物技术股份有限公司的年报显示，公司在社会责任方面主要开展了以下工作：\\n\\n1. 疫情期间，公司通过电话、短信、网络等多种形式，提醒员工做好个人防护，避免前往疫情高风险区。同时，公司为员工每人无偿捐赠口罩1000个，为有需要的员工提供口罩平价渠道购买。此外，公司还通过在线办公、远程教育等措施，确保员工权益。\\n\\n2. 定期举办员工培训活动，提升员工技能水平。培训内容涵盖生物产品知识、质量管理、法律法规等方面，以提高员工的专业素质。\\n\\n3. 公司积极参与社会公益活动。2020年，公司通过向困难农村地区捐赠物资、为贫困地区学生捐赠学习用品等方式，助力我国贫困地区的发展。此外，公司还积极参与核酸检测工作，为疫情防控贡献力量。\\n\\n4. 加强环境管理，提高资源利用率。公司通过优化生产流程、提高资源利用率等措施，降低生产成本，减少废水、废气、废渣等排放，保护环境。\\n\\n5. 加强员工关怀，提高员工满意度。公司定期举办员工文化活动，提升员工凝聚力；并通过完善员工福利制度，提高员工的福利待遇。\\n\\n总之，2020年金宇生物技术股份有限公司在社会责任方面呈现出积极向上的态度，为我国的发展贡献了一份力量。')]}}"
      ]
     },
     "execution_count": 14,
     "metadata": {},
     "output_type": "execute_result"
    }
   ],
   "source": [
    "test_data_answer[0]"
   ]
  },
  {
   "cell_type": "code",
   "execution_count": 18,
   "id": "d81f9840-3ed8-4253-acd1-b3b246102354",
   "metadata": {},
   "outputs": [],
   "source": [
    "with open('/root/autodl-tmp/chatglm_llm_fintech_raw_dataset/机器爱学习_result.json','wt',encoding='utf8') as f:\n",
    "    for one_answer in test_data_answer:\n",
    "        f.write(json.dumps(one_answer, ensure_ascii=False)+'\\n')"
   ]
  },
  {
   "cell_type": "code",
   "execution_count": 19,
   "id": "70408673-9b1b-48f3-80de-514aca80e52f",
   "metadata": {},
   "outputs": [
    {
     "name": "stdout",
     "output_type": "stream",
     "text": [
      "-rw-r--r-- 1 root root 5.5M 7月  28 21:22 /root/autodl-tmp/chatglm_llm_fintech_raw_dataset/机器爱学习_result.json\n"
     ]
    }
   ],
   "source": [
    "!ls -lh /root/autodl-tmp/chatglm_llm_fintech_raw_dataset/机器爱学习_result.json"
   ]
  },
  {
   "cell_type": "code",
   "execution_count": 21,
   "id": "7109f598-9a84-4c83-80c7-63817d8cc1ec",
   "metadata": {},
   "outputs": [
    {
     "data": {
      "text/plain": [
       "{'id': 0,\n",
       " 'question': '能否根据2020年金宇生物技术股份有限公司的年报，给我简要介绍一下报告期内公司的社会责任工作情况？',\n",
       " 'answer': {'response': '2020年金宇生物技术股份有限公司的年报显示，公司在社会责任方面主要开展了以下工作：\\n\\n1. 疫情期间，公司通过电话、短信、网络等多种形式，提醒员工做好个人防护，避免前往疫情高风险区。同时，公司为员工每人无偿捐赠口罩1000个，为有需要的员工提供口罩平价渠道购买。此外，公司还通过在线办公、远程教育等措施，确保员工权益。\\n\\n2. 定期举办员工培训活动，提升员工技能水平。培训内容涵盖生物产品知识、质量管理、法律法规等方面，以提高员工的专业素质。\\n\\n3. 公司积极参与社会公益活动。2020年，公司通过向困难农村地区捐赠物资、为贫困地区学生捐赠学习用品等方式，助力我国贫困地区的发展。此外，公司还积极参与核酸检测工作，为疫情防控贡献力量。\\n\\n4. 加强环境管理，提高资源利用率。公司通过优化生产流程、提高资源利用率等措施，降低生产成本，减少废水、废气、废渣等排放，保护环境。\\n\\n5. 加强员工关怀，提高员工满意度。公司定期举办员工文化活动，提升员工凝聚力；并通过完善员工福利制度，提高员工的福利待遇。\\n\\n总之，2020年金宇生物技术股份有限公司在社会责任方面呈现出积极向上的态度，为我国的发展贡献了一份力量。',\n",
       "  'history': [('能否根据2020年金宇生物技术股份有限公司的年报，给我简要介绍一下报告期内公司的社会责任工作情况？',\n",
       "    '2020年金宇生物技术股份有限公司的年报显示，公司在社会责任方面主要开展了以下工作：\\n\\n1. 疫情期间，公司通过电话、短信、网络等多种形式，提醒员工做好个人防护，避免前往疫情高风险区。同时，公司为员工每人无偿捐赠口罩1000个，为有需要的员工提供口罩平价渠道购买。此外，公司还通过在线办公、远程教育等措施，确保员工权益。\\n\\n2. 定期举办员工培训活动，提升员工技能水平。培训内容涵盖生物产品知识、质量管理、法律法规等方面，以提高员工的专业素质。\\n\\n3. 公司积极参与社会公益活动。2020年，公司通过向困难农村地区捐赠物资、为贫困地区学生捐赠学习用品等方式，助力我国贫困地区的发展。此外，公司还积极参与核酸检测工作，为疫情防控贡献力量。\\n\\n4. 加强环境管理，提高资源利用率。公司通过优化生产流程、提高资源利用率等措施，降低生产成本，减少废水、废气、废渣等排放，保护环境。\\n\\n5. 加强员工关怀，提高员工满意度。公司定期举办员工文化活动，提升员工凝聚力；并通过完善员工福利制度，提高员工的福利待遇。\\n\\n总之，2020年金宇生物技术股份有限公司在社会责任方面呈现出积极向上的态度，为我国的发展贡献了一份力量。')]}}"
      ]
     },
     "execution_count": 21,
     "metadata": {},
     "output_type": "execute_result"
    }
   ],
   "source": [
    "test_data_answer[0]"
   ]
  },
  {
   "cell_type": "code",
   "execution_count": 22,
   "id": "2b319247-86ed-455a-9227-fb18d24ec918",
   "metadata": {},
   "outputs": [],
   "source": [
    "submit_answer = []\n",
    "for one in test_data_answer:\n",
    "    submit_answer.append({'id' : one['id'], 'question': one['question'], 'answer': one['answer']['response']})"
   ]
  },
  {
   "cell_type": "code",
   "execution_count": 23,
   "id": "0c07c406-ac42-4026-9cc6-36812b2da679",
   "metadata": {},
   "outputs": [
    {
     "data": {
      "text/plain": [
       "5000"
      ]
     },
     "execution_count": 23,
     "metadata": {},
     "output_type": "execute_result"
    }
   ],
   "source": [
    "len(submit_answer)"
   ]
  },
  {
   "cell_type": "code",
   "execution_count": 24,
   "id": "9094fc97-01f6-4506-865f-f47d7751f153",
   "metadata": {},
   "outputs": [
    {
     "data": {
      "text/plain": [
       "{'id': 4999,\n",
       " 'question': '有友食品股份有限公司2021年应付职工薪酬是多少元?',\n",
       " 'answer': '根据题目所给的信息，有友食品股份有限公司在2021年应付职工薪酬的金额是多少呢？\\n\\n首先，我们需要知道有友食品股份有限公司2021年的净利润是多少。题目中没有给出具体的数字，但是我们知道，净利润与应付职工薪酬是有一定的关系的。因此，我们可以先计算出净利润。\\n\\n假设有友食品股份有限公司2021年的净利润为1000万元，那么其应付职工薪酬的金额应该是多少呢？根据题目中的信息，应付职工薪酬的100%应该等于净利润的100%。因此，应付职工薪酬的金额应该是1000万元的100%，即100万元。\\n\\n因此，有友食品股份有限公司2021年应付职工薪酬的金额是100万元。'}"
      ]
     },
     "execution_count": 24,
     "metadata": {},
     "output_type": "execute_result"
    }
   ],
   "source": [
    "submit_answer[-1]"
   ]
  },
  {
   "cell_type": "code",
   "execution_count": 25,
   "id": "9dc90dcb-a03a-4795-8b5a-3ec7378ed847",
   "metadata": {},
   "outputs": [
    {
     "data": {
      "text/plain": [
       "{'id': 4000,\n",
       " 'question': '请简要分析绍兴贝斯美化工股份有限公司2019年公司地位的情况。',\n",
       " 'answer': '绍兴贝斯美化工股份有限公司2019年的公司地位有以下几点：\\n\\n1. 公司规模：公司规模较小，总股本为1.38亿元，流通股本为0.68亿元。\\n\\n2. 公司地位：公司为一家化工企业，主要从事氯气、氯碱、烧碱和聚氯乙烯等化工产品的生产与销售。在所处行业中，公司规模较小，但具有一定的竞争力和市场占有率。\\n\\n3. 公司业绩：公司2019年实现营业收入为2.96亿元，同比增长20.44%；净利润为0.24亿元，同比增长45.25%。公司的业绩增长较快，主要得益于产品价格上涨和规模扩大。\\n\\n4. 公司地位：公司为一家技术领先的企业，拥有多项专利技术，并被评为“浙江省化工科学技术奖”和“中国氯碱工业优秀企业”。此外，公司还是氯碱行业的国家标准制定者之一，具有较高的行业影响力和地位。\\n\\n5. 公司规模：公司规模适中，总资产为5.37亿元，净资产为2.88亿元。公司的资产负债率适中，负债压力较小。\\n\\n综上所述，绍兴贝斯美化工股份有限公司2019年的公司地位具有一定的竞争力和市场占有率，但规模较小，资产负债率适中。公司需要继续努力提升产品质量和扩大规模，以提高市场占有率和利润水平。'}"
      ]
     },
     "execution_count": 25,
     "metadata": {},
     "output_type": "execute_result"
    }
   ],
   "source": [
    "submit_answer[4000]"
   ]
  },
  {
   "cell_type": "code",
   "execution_count": 26,
   "id": "f656b90d-36d7-4820-800d-bcd69c6382c6",
   "metadata": {},
   "outputs": [],
   "source": [
    "with open('/root/autodl-tmp/chatglm_llm_fintech_raw_dataset/机器爱学习_result.json','wt',encoding='utf8') as f:\n",
    "    for one_answer in submit_answer:\n",
    "        f.write(json.dumps(one_answer, ensure_ascii=False)+'\\n')"
   ]
  },
  {
   "cell_type": "code",
   "execution_count": 27,
   "id": "76ef4a89-991a-4225-b125-309c7fdf7b7b",
   "metadata": {},
   "outputs": [
    {
     "name": "stdout",
     "output_type": "stream",
     "text": [
      "{\"id\": 0, \"question\": \"能否根据2020年金宇生物技术股份有限公司的年报，给我简要介绍一下报告期内公司的社会责任工作情况？\", \"answer\": \"2020年金宇生物技术股份有限公司的年报显示，公司在社会责任方面主要开展了以下工作：\\n\\n1. 疫情期间，公司通过电话、短信、网络等多种形式，提醒员工做好个人防护，避免前往疫情高风险区。同时，公司为员工每人无偿捐赠口罩1000个，为有需要的员工提供口罩平价渠道购买。此外，公司还通过在线办公、远程教育等措施，确保员工权益。\\n\\n2. 定期举办员工培训活动，提升员工技能水平。培训内容涵盖生物产品知识、质量管理、法律法规等方面，以提高员工的专业素质。\\n\\n3. 公司积极参与社会公益活动。2020年，公司通过向困难农村地区捐赠物资、为贫困地区学生捐赠学习用品等方式，助力我国贫困地区的发展。此外，公司还积极参与核酸检测工作，为疫情防控贡献力量。\\n\\n4. 加强环境管理，提高资源利用率。公司通过优化生产流程、提高资源利用率等措施，降低生产成本，减少废水、废气、废渣等排放，保护环境。\\n\\n5. 加强员工关怀，提高员工满意度。公司定期举办员工文化活动，提升员工凝聚力；并通过完善员工福利制度，提高员工的福利待遇。\\n\\n总之，2020年金宇生物技术股份有限公司在社会责任方面呈现出积极向上的态度，为我国的发展贡献了一份力量。\"}\n",
      "{\"id\": 1, \"question\": \"请根据江化微2019年的年报，简要介绍报告期内公司主要销售客户的客户集中度情况，并结合同行业情况进行分析。\", \"answer\": \"根据江化微2019年的年报，公司在报告期内，主要销售客户集中度情况如下：\\n\\n1.  top10 客户：报告期内，公司前10名客户的销售额占公司总销售额的比重为54.14%，集中度较高。其中，前五大客户分别为：中石化、中石油、中国石化、中国乙烯和齐翔化工，占公司总销售额的比重分别为24.87%、20.84%、13.12%、11.89%和8.56%。\\n\\n2. top20 客户：报告期内，公司前20名客户的销售额占公司总销售额的比重为39.90%，集中度较高。其中，前五大客户分别为：中石化、中石油、中国石化、中国乙烯和齐翔化工，占公司总销售额的比重分别为24.87%、20.84%、13.12%、11.89%和8.56%。\\n\\n3. top30 客户：报告期内，公司前30名客户的销售额占公司总销售额的比重为36.92%，集中度较高。其中，前五大客户分别为：中石化、中石油、中国石化、中国乙烯和齐翔化工，占公司总销售额的比重分别为24.87%、20.84%、13.12%、11.89%和8.56%。\\n\\n同行业情况方面，2019年，我国石油化工行业整体呈现前移的趋势，行业整体需求增加，竞争加剧。在这种情况下，公司的主要销售客户集中度较高也在情理之中。此外，公司的主要客户集中度较高，也反映出公司具有较好的市场竞争力和市场渗透力，有助于公司在行业中保持稳定的地位。\"}\n",
      "{\"id\": 2, \"question\": \"2019年四方科技电子信箱是什么?\", \"answer\": \"很抱歉，我无法回答这个问题，因为我是在2021年的知识库上进行训练的，四方科技电子信箱的具体信息可能仅在最近几年内发生变化。建议您访问四方科技的官方网站或联系他们的客服人员，以获取最新的信息。\"}\n",
      "{\"id\": 3, \"question\": \"研发费用对公司的技术创新和竞争优势有何影响？\", \"answer\": \"研发费用是公司用于研究、开发和测试新产品、新技术、新业务等的费用,对公司的技术创新和竞争优势具有重要的影响。\\n\\n以下是研发费用对公司的技术创新和竞争优势产生影响的几点:\\n\\n1. 技术领先优势:通过研发费用,公司可以引进新技术、新产品,提升公司的技术水平,建立技术领先优势,增加公司在市场上的竞争优势。\\n\\n2. 产品创新优势:通过研发费用,公司可以开发出更具创新性的产品,满足消费者的需求,提升公司的产品在市场上的竞争力。\\n\\n3. 市场竞争力:通过研发费用,公司可以提升产品和服务的质量,增强公司的市场竞争力,提高公司在市场上的生存能力。\\n\\n4. 品牌建设:通过研发费用,公司可以提升品牌形象和品牌价值,增加消费者对公司的认可度和忠诚度,提升公司的品牌竞争优势。\\n\\n5. 降低风险:通过研发费用,公司可以降低新产品、新技术的风险,增加公司在市场上的风险承受能力。\\n\\n研发费用对于公司的技术创新和竞争优势具有重要的影响。通过合理的研发费用的使用,公司可以实现技术领先、产品创新、市场竞争力提升等目标,进一步提升公司的综合竞争优势。\"}\n",
      "{\"id\": 4, \"question\": \"康希诺生物股份公司在2020年的资产负债比率具体是多少，需要保留至小数点后两位？\", \"answer\": \"我无法提供具体的资产负债比率数据，因为我是一个人工智能助手，我的训练时间截止到2023年，我无法获取实时数据。建议您查阅康希诺生物科技股份有限公司（股票代码：300222.SZ）的官方财报或专业金融数据平台，以获取最新的资产负债比率数据。\"}\n"
     ]
    }
   ],
   "source": [
    "!head -n 5  /root/autodl-tmp/chatglm_llm_fintech_raw_dataset/机器爱学习_result.json"
   ]
  },
  {
   "cell_type": "code",
   "execution_count": null,
   "id": "271574dd-4b54-4672-924e-bec0e66c8e88",
   "metadata": {},
   "outputs": [],
   "source": []
  }
 ],
 "metadata": {
  "kernelspec": {
   "display_name": "cft",
   "language": "python",
   "name": "cft"
  },
  "language_info": {
   "codemirror_mode": {
    "name": "ipython",
    "version": 3
   },
   "file_extension": ".py",
   "mimetype": "text/x-python",
   "name": "python",
   "nbconvert_exporter": "python",
   "pygments_lexer": "ipython3",
   "version": "3.9.17"
  }
 },
 "nbformat": 4,
 "nbformat_minor": 5
}
