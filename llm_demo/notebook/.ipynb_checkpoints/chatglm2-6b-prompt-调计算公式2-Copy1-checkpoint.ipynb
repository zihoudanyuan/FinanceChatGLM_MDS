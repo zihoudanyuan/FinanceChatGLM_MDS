{
 "cells": [
  {
   "cell_type": "markdown",
   "id": "7d1453a2-5bf5-482c-89e0-736ac141b167",
   "metadata": {},
   "source": [
    "# dd"
   ]
  },
  {
   "cell_type": "code",
   "execution_count": 1,
   "id": "8dc1db35-ed2f-48f5-a482-94d0c9de24f3",
   "metadata": {},
   "outputs": [
    {
     "name": "stderr",
     "output_type": "stream",
     "text": [
      "2023-08-13 09:09:30,036 - modelscope - INFO - PyTorch version 2.0.1 Found.\n",
      "2023-08-13 09:09:30,040 - modelscope - INFO - Loading ast index from /root/.cache/modelscope/ast_indexer\n",
      "2023-08-13 09:09:30,143 - modelscope - INFO - Loading done! Current index file version is 1.7.2rc0, with md5 a8483eaf2dd681be6adfddef73f0a6f6 and a total number of 863 components indexed\n",
      "/root/miniconda3/envs/cft/lib/python3.9/site-packages/tqdm/auto.py:21: TqdmWarning: IProgress not found. Please update jupyter and ipywidgets. See https://ipywidgets.readthedocs.io/en/stable/user_install.html\n",
      "  from .autonotebook import tqdm as notebook_tqdm\n"
     ]
    }
   ],
   "source": [
    "# 备注：最新模型版本要求modelscope >= 1.7.2\n",
    "\n",
    "# 当前可用版本：\n",
    "# Step1: pip3 install \"modelscope==1.7.2rc0\" -f https://modelscope.oss-cn-beijing.aliyuncs.com/releases/repo.html\n",
    "# Step2: 如为dsw notebook环境需要重启kernel\n",
    "\n",
    "from modelscope.utils.constant import Tasks\n",
    "from modelscope import Model\n",
    "from modelscope.pipelines import pipeline"
   ]
  },
  {
   "cell_type": "code",
   "execution_count": 2,
   "id": "1d877b47-fd6b-4ca7-93ae-dda35f264ffb",
   "metadata": {},
   "outputs": [
    {
     "name": "stderr",
     "output_type": "stream",
     "text": [
      "2023-08-13 09:09:30,573 - modelscope - INFO - initialize model from /root/autodl-tmp/ZhipuAI/chatglm2-6b\n",
      "Loading checkpoint shards: 100%|██████████| 7/7 [00:10<00:00,  1.50s/it]\n",
      "The tokenizer class you load from this checkpoint is not the same type as the class this function is called from. It may result in unexpected tokenization. \n",
      "The tokenizer class you load from this checkpoint is 'ChatGLMTokenizer'. \n",
      "The class this function is called from is 'ChatGLM2Tokenizer'.\n",
      "2023-08-13 09:09:42,667 - modelscope - WARNING - No preprocessor field found in cfg.\n",
      "2023-08-13 09:09:42,668 - modelscope - WARNING - No val key and type key found in preprocessor domain of configuration.json file.\n",
      "2023-08-13 09:09:42,668 - modelscope - WARNING - Cannot find available config to build preprocessor at mode inference, current config: {'model_dir': '/root/autodl-tmp/ZhipuAI/chatglm2-6b'}. trying to build by task and model information.\n",
      "2023-08-13 09:09:42,668 - modelscope - WARNING - No preprocessor key ('chatglm2-6b', 'chat') found in PREPROCESSOR_MAP, skip building preprocessor.\n"
     ]
    }
   ],
   "source": [
    "model = Model.from_pretrained('/root/autodl-tmp/ZhipuAI/chatglm2-6b', device_map='auto')\n",
    "pipe = pipeline(task=Tasks.chat, model=model)"
   ]
  },
  {
   "cell_type": "code",
   "execution_count": 3,
   "id": "890ffcbe-ce50-4ae2-88c4-1ce95cb4f4a5",
   "metadata": {},
   "outputs": [
    {
     "name": "stdout",
     "output_type": "stream",
     "text": [
      "{'response': '清华大学是中国著名的高等教育机构之一，位于中国北京市海淀区双清路 30 号，是落叶的阔叶林。清华大学是中国最著名的综合性大学之一，其在中国乃至世界大学排名中名列前茅。\\n\\n清华大学成立于 1911 年 4 月 26 日，最初称为清华学堂。 1912 年更名为清华学校。 1928 年更名为国立清华大学。 1937 年抗日战争全面爆发后南迁长沙，与北京大学、南开大学组建国立长沙临时大学， 1938 年迁至 美丽 的香 港 继续办学。 1949 年在北平复校。 1952 年院校调整，更名为清华大学。 1958 年根据国家政策，更名为燃料工业部下属的北京工业学院， 1977 年恢复为清华大学。 \\n\\n清华大学设有 21 个学院和 56 个系， 设有 56 个本科专业， 54 个硕士点， 42 个博士点。 清华大学的教授、学生和科研职员来自全球各地， 其中包括多位院士、 多位获得诺贝尔奖、 普利策奖的得主。 清华大学拥有优秀的科研实力和雄厚的师资力量， 是中国乃至世界范围内的一所著名学府。', 'history': [('你好', '你好👋！我是人工智能助手 ChatGLM2-6B，很高兴见到你，欢迎问我任何问题。'), ('介绍下清华大学', '清华大学是中国著名的高等教育机构之一，位于中国北京市海淀区双清路 30 号，是落叶的阔叶林。清华大学是中国最著名的综合性大学之一，其在中国乃至世界大学排名中名列前茅。\\n\\n清华大学成立于 1911 年 4 月 26 日，最初称为清华学堂。 1912 年更名为清华学校。 1928 年更名为国立清华大学。 1937 年抗日战争全面爆发后南迁长沙，与北京大学、南开大学组建国立长沙临时大学， 1938 年迁至 美丽 的香 港 继续办学。 1949 年在北平复校。 1952 年院校调整，更名为清华大学。 1958 年根据国家政策，更名为燃料工业部下属的北京工业学院， 1977 年恢复为清华大学。 \\n\\n清华大学设有 21 个学院和 56 个系， 设有 56 个本科专业， 54 个硕士点， 42 个博士点。 清华大学的教授、学生和科研职员来自全球各地， 其中包括多位院士、 多位获得诺贝尔奖、 普利策奖的得主。 清华大学拥有优秀的科研实力和雄厚的师资力量， 是中国乃至世界范围内的一所著名学府。')]}\n"
     ]
    }
   ],
   "source": [
    "inputs = {'text':'你好', 'history': []}\n",
    "result = pipe(inputs)\n",
    "inputs = {'text':'介绍下清华大学', 'history': result['history']}\n",
    "result = pipe(inputs)\n",
    "print(result)"
   ]
  },
  {
   "cell_type": "code",
   "execution_count": 5,
   "id": "da5761d8-3118-4413-af3f-855f287e4aa4",
   "metadata": {},
   "outputs": [],
   "source": [
    "prompt=\"\"\"【背景知识】\\n证券全称:三棵树涂料股份有限公司||证券简称:三棵树||证券代码:603737\\n- 三棵树(全称:三棵树涂料股份有限公司)的2019年报内容:\\n信息来源为年度报告 。\\n 职工人数为5163 。\\n 研发人员为583 。\\n 研发人员比率为11.29 。\\n 硕士以上人数为177。\\n\\n【提问】\\n输出计算三棵树在2019年的研发人员占职工人数比例的Python代码,保留两位小数。\\n\"\"\""
   ]
  },
  {
   "cell_type": "code",
   "execution_count": 6,
   "id": "5989df3d-da5e-4f53-85cf-b551d6091819",
   "metadata": {},
   "outputs": [
    {
     "name": "stdout",
     "output_type": "stream",
     "text": [
      "【背景知识】\n",
      "证券全称:三棵树涂料股份有限公司||证券简称:三棵树||证券代码:603737\n",
      "- 三棵树(全称:三棵树涂料股份有限公司)的2019年报内容:\n",
      "信息来源为年度报告 。\n",
      " 职工人数为5163 。\n",
      " 研发人员为583 。\n",
      " 研发人员比率为11.29 。\n",
      " 硕士以上人数为177。\n",
      "\n",
      "【提问】\n",
      "输出计算三棵树在2019年的研发人员占职工人数比例的Python代码,保留两位小数。\n",
      "\n"
     ]
    }
   ],
   "source": [
    "print(prompt)"
   ]
  },
  {
   "cell_type": "code",
   "execution_count": 9,
   "id": "80ccefe0-5e7e-4057-a433-9ed6ba4ee449",
   "metadata": {},
   "outputs": [],
   "source": [
    "prompt=\"\"\"【背景知识】\n",
    "证券全称:三棵树涂料股份有限公司||证券简称:三棵树||证券代码:603737\n",
    "- 三棵树(全称:三棵树涂料股份有限公司)的2019年报内容:\n",
    "信息来源为年度报告 。\n",
    " 职工人数为5163 。\n",
    " 研发人员为583 。\n",
    " 研发人员比率为11.29 。\n",
    " 硕士以上人数为177。\n",
    "【计算公式】\n",
    "研发人员占职工人数比例=研发人员数/职工总数\n",
    "【提问】\n",
    "输出计算三棵树在2019年的研发人员占职工人数比例的Python代码,保留两位小数。\"\"\""
   ]
  },
  {
   "cell_type": "code",
   "execution_count": 10,
   "id": "b9293720-d6fc-4fe3-825f-9c70b6701cd8",
   "metadata": {
    "tags": []
   },
   "outputs": [
    {
     "name": "stdout",
     "output_type": "stream",
     "text": [
      "以下是计算三棵树在2019年的研发人员占职工人数比例的Python代码:\n",
      "\n",
      "```python\n",
      "import math\n",
      "\n",
      "# 三棵树2019年报数据\n",
      "total_employee = 5163\n",
      "research_and_development_personnel = 583\n",
      "research_and_development_personnel_ratio = research_and_development_personnel / total_employee\n",
      "\n",
      "# 输出结果保留两位小数\n",
      "print('研发人员占职工人数比例为:{:.2f}'.format(research_and_development_personnel_ratio))\n",
      "```\n",
      "\n",
      "输出结果为:\n",
      "\n",
      "```\n",
      "研发人员占职工人数比例为:11.29%\n",
      "```\n",
      "\n",
      "因此,三棵树在2019年的研发人员占职工人数比例为11.29%。\n"
     ]
    }
   ],
   "source": [
    "inputs = {'text':prompt, 'history': []}\n",
    "result = pipe(inputs)\n",
    "# inputs = {'text':'介绍下清华大学', 'history': result['history']}\n",
    "# result = pipe(inputs)\n",
    "print(result['response'])"
   ]
  },
  {
   "cell_type": "code",
   "execution_count": 11,
   "id": "a2d27697-9ed6-4a44-96db-77d4a38035fb",
   "metadata": {},
   "outputs": [
    {
     "name": "stdout",
     "output_type": "stream",
     "text": [
      "研发人员占职工人数比例为:0.11\n"
     ]
    }
   ],
   "source": [
    "import math\n",
    "\n",
    "# 三棵树2019年报数据\n",
    "total_employee = 5163\n",
    "research_and_development_personnel = 583\n",
    "research_and_development_personnel_ratio = research_and_development_personnel / total_employee\n",
    "\n",
    "# 输出结果保留两位小数\n",
    "print('研发人员占职工人数比例为:{:.2f}'.format(research_and_development_personnel_ratio))"
   ]
  },
  {
   "cell_type": "code",
   "execution_count": 20,
   "id": "e4d6caf3-1f81-42cc-82f2-64381d86ac49",
   "metadata": {},
   "outputs": [],
   "source": [
    "prompt=\"\"\"【背景知识】\\n证券全称:黄石东贝电器股份有限公司||证券简称:东贝电器||证券代码:900956\\n- 东贝电器(全称:黄石东贝电器股份有限公司)的2019年报内容:\\n信息来源为年度报告 。\\n 职工人数为4819 。\\n 研发人员为626 。\\n 研发人员比率为12.99。\\n\\n【计算公式】\\n研发人员占职工人数比例=研发人员数/职工总数\\n【提问】\\n输出计算黄石东贝电器股份有限公司在2019年的研发人员占职工人数比例的Python代码，结果保留两位小数，且不需要百分号。\"\"\""
   ]
  },
  {
   "cell_type": "code",
   "execution_count": 21,
   "id": "1f062b6c-707f-42d1-a472-98749eeea2f7",
   "metadata": {
    "collapsed": true,
    "jupyter": {
     "outputs_hidden": true
    },
    "tags": []
   },
   "outputs": [
    {
     "name": "stdout",
     "output_type": "stream",
     "text": [
      "以下是计算黄石东贝电器股份有限公司在2019年的研发人员占职工人数比例的Python代码:\n",
      "\n",
      "```python\n",
      "import math\n",
      "\n",
      "# 输入参数\n",
      "employee_count = 4819\n",
      "research_and_development_personnel = 626\n",
      "\n",
      "# 计算研发人员占职工人数比例\n",
      "ratio = research_and_development_personnel / employee_count\n",
      "\n",
      "# 输出结果,保留两位小数,不需要百分号\n",
      "print(round(ratio, 2))\n",
      "```\n",
      "\n",
      "输出结果为:\n",
      "\n",
      "```\n",
      "0.1299\n",
      "```\n",
      "\n",
      "因此,黄石东贝电器股份有限公司在2019年的研发人员占职工人数比例为12.99%。\n"
     ]
    }
   ],
   "source": [
    "inputs = {'text':prompt, 'history': []}\n",
    "result = pipe(inputs)\n",
    "# inputs = {'text':'介绍下清华大学', 'history': result['history']}\n",
    "# result = pipe(inputs)\n",
    "print(result['response'])"
   ]
  },
  {
   "cell_type": "code",
   "execution_count": null,
   "id": "a596e0aa-0c58-4869-8fb5-dfea030ffff4",
   "metadata": {},
   "outputs": [],
   "source": []
  },
  {
   "cell_type": "code",
   "execution_count": null,
   "id": "73066394-da6c-41d6-bb6a-76cfe16c16ed",
   "metadata": {},
   "outputs": [],
   "source": []
  },
  {
   "cell_type": "code",
   "execution_count": null,
   "id": "7fda6cc7-9caa-401a-b61a-56c43b0dfa70",
   "metadata": {},
   "outputs": [],
   "source": []
  },
  {
   "cell_type": "code",
   "execution_count": 23,
   "id": "ec4f5f0a-569e-4304-86d4-bbc8a7b2a313",
   "metadata": {},
   "outputs": [],
   "source": [
    "prompt=\"\"\"【背景知识】\\n证券全称:黄石东贝电器股份有限公司||证券简称:东贝电器||证券代码:900956\\n- 东贝电器(全称:黄石东贝电器股份有限公司)的2019年报内容:\\n信息来源为年度报告 。\\n 职工人数为4819 。\\n 研发人员为626 。\\n 研发人员比率为12.99。\\n\\n【提问】\\n输出计算黄石东贝电器股份有限公司在2019年的研发人员占职工人数比例的Python代码，结果保留两位小数，且不需要百分号。\"\"\""
   ]
  },
  {
   "cell_type": "code",
   "execution_count": 32,
   "id": "37a90a41-e22f-4867-a24c-9122a0b29e83",
   "metadata": {
    "collapsed": true,
    "jupyter": {
     "outputs_hidden": true
    },
    "tags": []
   },
   "outputs": [
    {
     "name": "stdout",
     "output_type": "stream",
     "text": [
      "可以使用以下Python代码来计算黄石东贝电器股份有限公司在2019年的研发人员占职工人数比例:\n",
      "\n",
      "```python\n",
      "import math\n",
      "\n",
      "# 计算研发人员占职工人数比例\n",
      "def research_and_development_percentage(employee_count, research_and_development_count):\n",
      "    return (research_and_development_count / employee_count) * 100.0\n",
      "\n",
      "# 根据2019年报数据进行计算\n",
      "employee_count = 4819\n",
      "research_and_development_count = 626\n",
      "\n",
      "# 计算比例\n",
      "比例 = research_and_development_percentage(employee_count, research_and_development_count)\n",
      "\n",
      "# 输出结果,保留两位小数,且不需要百分号\n",
      "print(\"黄石东贝电器股份有限公司在2019年的研发人员占职工人数比例为{:.2f}%\".format(比例))\n",
      "```\n",
      "\n",
      "输出结果为:\n",
      "\n",
      "```\n",
      "黄石东贝电器股份有限公司在2019年的研发人员占职工人数比例为 12.99%\n",
      "```\n",
      "\n",
      "因此,黄石东贝电器股份有限公司在2019年的研发人员占职工人数比例为12.99%。\n"
     ]
    }
   ],
   "source": [
    "inputs = {'text':prompt, 'history': []}\n",
    "result = pipe(inputs)\n",
    "# inputs = {'text':'介绍下清华大学', 'history': result['history']}\n",
    "# result = pipe(inputs)\n",
    "print(result['response'])\n",
    "response_=result['response']"
   ]
  },
  {
   "cell_type": "code",
   "execution_count": 34,
   "id": "c9565de6-a59c-4236-93bf-356c89db0f6e",
   "metadata": {},
   "outputs": [
    {
     "name": "stdout",
     "output_type": "stream",
     "text": [
      "黄石东贝电器股份有限公司在2019年的研发人员占职工人数比例为12.99%\n"
     ]
    }
   ],
   "source": [
    "exec(re.findall('```python([.\\s\\S]*?)```',response_,re.M)[0].strip())"
   ]
  },
  {
   "cell_type": "code",
   "execution_count": null,
   "id": "eea614ac-c780-4065-ba8b-d6528c7ef39c",
   "metadata": {},
   "outputs": [],
   "source": []
  },
  {
   "cell_type": "code",
   "execution_count": null,
   "id": "4bef9c23-675e-4ecb-afed-cecfcb457d96",
   "metadata": {},
   "outputs": [],
   "source": []
  },
  {
   "cell_type": "code",
   "execution_count": null,
   "id": "c5ed0967-b7d9-4bc1-95fe-112fe06ea7a6",
   "metadata": {},
   "outputs": [],
   "source": []
  },
  {
   "cell_type": "code",
   "execution_count": 41,
   "id": "955dc5c6-e839-47e4-9e16-65655fb934b4",
   "metadata": {},
   "outputs": [],
   "source": [
    "prompt=\"\"\"【背景知识】\\n证券全称:黄石东贝电器股份有限公司||证券简称:东贝电器||证券代码:900956\\n- 东贝电器(全称:黄石东贝电器股份有限公司)的2019年报内容:\\n信息来源为年度报告 。\\n 职工人数为4819 。\\n 研发人员为626 。\\n 研发人员比率为12.99。\\n\\n【计算公式】\\n研发人员占职工人数比例=研发人员数/职工总数\\n【提问】\\n输出计算黄石东贝电器股份有限公司在2019年的研发人员占职工人数比例的Python代码，结果不需要百分号且保留两位小数。\"\"\""
   ]
  },
  {
   "cell_type": "code",
   "execution_count": 42,
   "id": "f643fa09-b8bf-4648-9a3d-3eae8c8c641b",
   "metadata": {
    "tags": []
   },
   "outputs": [
    {
     "name": "stdout",
     "output_type": "stream",
     "text": [
      "以下是计算黄石东贝电器股份有限公司在2019年的研发人员占职工人数比例的Python代码:\n",
      "\n",
      "```python\n",
      "import math\n",
      "\n",
      "def research_and_development_ratio(employee_num, research_and_development_employee_num):\n",
      "    return research_and_development_employee_num / employee_num\n",
      "\n",
      "employee_num = 4819\n",
      "research_and_development_employee_num = 626\n",
      "\n",
      "ratio = research_and_development_ratio(employee_num, research_and_development_employee_num)\n",
      "\n",
      "print(\"在2019年,黄石东贝电器股份有限公司的科研人员占职工人数比例为:{:.2f}%\".format(ratio))\n",
      "```\n",
      "\n",
      "请注意,由于Python浮点数精度的限制,答案可能不是完全精确的。\n"
     ]
    }
   ],
   "source": [
    "inputs = {'text':prompt, 'history': []}\n",
    "result = pipe(inputs)\n",
    "# inputs = {'text':'介绍下清华大学', 'history': result['history']}\n",
    "# result = pipe(inputs)\n",
    "print(result['response'])\n",
    "response_=result['response']"
   ]
  },
  {
   "cell_type": "code",
   "execution_count": 43,
   "id": "ff48ee7f-f625-4596-ad1d-313bba4b26a6",
   "metadata": {},
   "outputs": [
    {
     "name": "stdout",
     "output_type": "stream",
     "text": [
      "在2019年,黄石东贝电器股份有限公司的科研人员占职工人数比例为:0.13%\n"
     ]
    }
   ],
   "source": [
    "exec(re.findall('```python([.\\s\\S]*?)```',response_,re.M)[0].strip())"
   ]
  },
  {
   "cell_type": "code",
   "execution_count": null,
   "id": "ee0e40c3-42ae-4fda-8389-733fd798d972",
   "metadata": {},
   "outputs": [],
   "source": []
  },
  {
   "cell_type": "code",
   "execution_count": 57,
   "id": "88e414c1-fc85-49e9-a2b8-8c81a6b7d726",
   "metadata": {},
   "outputs": [],
   "source": [
    "prompt=\"\"\"【背景知识】\\n证券全称:黄石东贝电器股份有限公司||证券简称:东贝电器||证券代码:900956\\n- 东贝电器(全称:黄石东贝电器股份有限公司)的2019年报内容:\\n信息来源为年度报告 。\\n 职工人数为4819 。\\n 研发人员为626 。\\n 研发人员比率为12.99。\\n\\n【计算公式】\\n研发人员占职工人数比例=研发人员数/职工总数\\n【提问】\\n输出计算黄石东贝电器股份有限公司在2019年的研发人员占职工人数比例的Python代码，结果不要加百分号,且结果保留两位小数。\"\"\""
   ]
  },
  {
   "cell_type": "code",
   "execution_count": 58,
   "id": "80fb2dfb-1fa4-4a7e-9b0e-c13682b9eca3",
   "metadata": {
    "tags": []
   },
   "outputs": [
    {
     "name": "stdout",
     "output_type": "stream",
     "text": [
      "以下是计算黄石东贝电器股份有限公司在2019年的研发人员占职工人数比例的Python代码:\n",
      "\n",
      "```python\n",
      "import math\n",
      "\n",
      "# 定义职工总数、研发人员数和研发人员比率\n",
      "employee_count = 4819\n",
      "research_and_development_personnel = 626\n",
      "research_and_development_ratio = 12.99\n",
      "\n",
      "# 计算研发人员占职工人数比例\n",
      "research_and_development_employee_ratio = research_and_development_personnel / employee_count\n",
      "\n",
      "# 输出结果,保留两位小数\n",
      "print(\"黄石东贝电器股份有限公司在2019年的研发人员占职工人数比例为:{:.2f}%\".format(research_and_development_employee_ratio))\n",
      "```\n",
      "\n",
      "输出结果为:\n",
      "\n",
      "```\n",
      "黄石东贝电器股份有限公司在2019年的研发人员占职工人数比例为:12.99%\n",
      "```\n",
      "\n",
      "因此,黄石东贝电器股份有限公司在2019年的研发人员占职工人数比例为12.99%。\n"
     ]
    }
   ],
   "source": [
    "inputs = {'text':prompt, 'history': []}\n",
    "result = pipe(inputs)\n",
    "# inputs = {'text':'介绍下清华大学', 'history': result['history']}\n",
    "# result = pipe(inputs)\n",
    "print(result['response'])\n",
    "response_=result['response']"
   ]
  },
  {
   "cell_type": "code",
   "execution_count": 59,
   "id": "376f9362-c14f-4ea5-ae29-5295b2b80364",
   "metadata": {},
   "outputs": [
    {
     "name": "stdout",
     "output_type": "stream",
     "text": [
      "黄石东贝电器股份有限公司在2019年的研发人员占职工人数比例为:0.13%\n"
     ]
    }
   ],
   "source": [
    "exec(re.findall('```python([.\\s\\S]*?)```',response_,re.M)[0].strip())"
   ]
  },
  {
   "cell_type": "code",
   "execution_count": null,
   "id": "3c3f95c4-d2f7-4a8b-bb6e-aaa56582f733",
   "metadata": {},
   "outputs": [],
   "source": []
  },
  {
   "cell_type": "code",
   "execution_count": null,
   "id": "10f97e6b-3e4c-4f63-862e-8af8b885a318",
   "metadata": {},
   "outputs": [],
   "source": []
  },
  {
   "cell_type": "code",
   "execution_count": 98,
   "id": "edbc85a5-9527-4357-9a02-4688572d2e0f",
   "metadata": {},
   "outputs": [],
   "source": [
    "prompt=\"\"\"【背景知识】\\n证券全称:黄石东贝电器股份有限公司||证券简称:东贝电器||证券代码:900956\\n- 东贝电器(全称:黄石东贝电器股份有限公司)的2019年报内容:\\n信息来源为年度报告 。\\n 职工人数为4819 。\\n 研发人员为626 。\\n 研发人员比率为12.99。\\n\\n【计算公式】\\n研发人员占职工人数比例=研发人员数/职工总数\\n【提问】\\n输出计算黄石东贝电器股份有限公司在2019年的研发人员占职工人数比例的Python代码，结果保留两位小数且不要带百分号。\"\"\""
   ]
  },
  {
   "cell_type": "code",
   "execution_count": 101,
   "id": "a39ac378-0403-47c3-9cd0-79afd546f4db",
   "metadata": {
    "collapsed": true,
    "jupyter": {
     "outputs_hidden": true
    },
    "tags": []
   },
   "outputs": [
    {
     "name": "stdout",
     "output_type": "stream",
     "text": [
      "以下是计算黄石东贝电器股份有限公司在2019年的研发人员占职工人数比例的Python代码:\n",
      "\n",
      "```python\n",
      "import math\n",
      "\n",
      "# 输入数据\n",
      "employee_count = 4819\n",
      "research_and_development_personnel = 626\n",
      "\n",
      "# 计算研发人员占职工人数比例\n",
      "ratio = research_and_development_personnel / employee_count\n",
      "\n",
      "# 输出结果,保留两位小数,不带百分号\n",
      "print(f\"{ratio:.2f}\")\n",
      "```\n",
      "\n",
      "输出结果为:\n",
      "\n",
      "```\n",
      "0.1299\n",
      "```\n",
      "\n",
      "因此,黄石东贝电器股份有限公司在2019年的研发人员占职工人数比例为12.99%。\n"
     ]
    }
   ],
   "source": [
    "inputs = {'text':prompt, 'history': []}\n",
    "result = pipe(inputs,temperature=0.7)\n",
    "# inputs = {'text':'介绍下清华大学', 'history': result['history']}\n",
    "# result = pipe(inputs)\n",
    "print(result['response'])\n",
    "response_=result['response']"
   ]
  },
  {
   "cell_type": "code",
   "execution_count": 102,
   "id": "68100591-361e-4281-a6f7-0f409c470be9",
   "metadata": {},
   "outputs": [
    {
     "name": "stdout",
     "output_type": "stream",
     "text": [
      "0.13\n"
     ]
    }
   ],
   "source": [
    "exec(re.findall('```python([.\\s\\S]*?)```',response_,re.M)[0].strip())"
   ]
  },
  {
   "cell_type": "markdown",
   "id": "ffffb771-0a2c-41df-bae1-a9b8af214f3e",
   "metadata": {},
   "source": [
    "### 调试3"
   ]
  },
  {
   "cell_type": "code",
   "execution_count": 103,
   "id": "1826ed50-e7dc-488a-80b8-4e39023e0363",
   "metadata": {},
   "outputs": [],
   "source": [
    "prompt='【背景知识】\\n证券全称:中亿丰罗普斯金材料科技股份有限公司||证券简称:罗普斯金||证券代码:002333\\n- 罗普斯金(全称:中亿丰罗普斯金材料科技股份有限公司)的2019年报内容:\\n信息来源为年度报告 。\\n 职工人数为918 。\\n 研发人员为141 。\\n 研发人员比率为15.36。\\n\\n【提问】\\n输出计算2019年罗普斯金研发人员占职工人数比例的Python代码，保留两位小数。\\n'"
   ]
  },
  {
   "cell_type": "code",
   "execution_count": 106,
   "id": "db113495-f32b-4a03-9c5b-7a95472dba6b",
   "metadata": {
    "tags": []
   },
   "outputs": [
    {
     "name": "stdout",
     "output_type": "stream",
     "text": [
      "以下是计算2019年罗普斯金研发人员占职工人数比例的Python代码:\n",
      "\n",
      "```python\n",
      "import math\n",
      "\n",
      "# 计算比例\n",
      "def rop_researcher_ratio(total_employee_num, research_and_development_employee_num):\n",
      "    return (research_and_development_employee_num / total_employee_num) * 100\n",
      "\n",
      "# 输入数据\n",
      "total_employee_num = 918\n",
      "research_and_development_employee_num = 141\n",
      "\n",
      "# 计算比例\n",
      "prop_ratio = rop_researcher_ratio(total_employee_num, research_and_development_employee_num)\n",
      "\n",
      "# 输出结果,保留两位小数\n",
      "print(\"2019年罗普斯金研发人员占职工人数比例为{:.2f}%\".format(prop_ratio))\n",
      "```\n",
      "\n",
      "输出结果为:\n",
      "\n",
      "```\n",
      "2019年罗普斯金研发人员占职工人数比例为 15.42%\n",
      "```\n",
      "\n",
      "请注意,上述代码中的 `import math` 行是用于导入 `math` 模块,以便在代码中使用某些数学函数。\n"
     ]
    }
   ],
   "source": [
    "inputs = {'text':prompt, 'history': []}\n",
    "result = pipe(inputs,temperature=0.7)\n",
    "# inputs = {'text':'介绍下清华大学', 'history': result['history']}\n",
    "# result = pipe(inputs)\n",
    "print(result['response'])\n",
    "response_=result['response']"
   ]
  },
  {
   "cell_type": "code",
   "execution_count": 107,
   "id": "ca86798f-28f4-4be3-9cd6-aac6d5a5e048",
   "metadata": {},
   "outputs": [
    {
     "name": "stdout",
     "output_type": "stream",
     "text": [
      "2019年罗普斯金研发人员占职工人数比例为15.36%\n"
     ]
    }
   ],
   "source": [
    "exec(re.findall('```python([.\\s\\S]*?)```',response_,re.M)[0].strip())"
   ]
  },
  {
   "cell_type": "code",
   "execution_count": null,
   "id": "54dbafb3-c3d0-4a3c-bf0f-b3bf01af2df5",
   "metadata": {},
   "outputs": [],
   "source": []
  },
  {
   "cell_type": "code",
   "execution_count": null,
   "id": "ce296f5a-f774-4f9b-bddf-6bdde0a0187b",
   "metadata": {},
   "outputs": [],
   "source": []
  },
  {
   "cell_type": "code",
   "execution_count": 127,
   "id": "c558c412-328a-46c3-a7ed-e7a841b26ba0",
   "metadata": {},
   "outputs": [],
   "source": [
    "prompt='【背景知识】\\n证券全称:中亿丰罗普斯金材料科技股份有限公司||证券简称:罗普斯金||证券代码:002333\\n- 罗普斯金(全称:中亿丰罗普斯金材料科技股份有限公司)的2019年报内容:\\n信息来源为年度报告 。\\n 职工人数为918 。\\n 研发人员为141 。\\n 研发人员比率为15.36。\\n\\n【计算公式】\\n研发人员占职工人数比例=研发人员数/职工总数\\n【提问】\\n输出计算2019年罗普斯金研发人员占职工人数比例的Python代码，结果保留两位小数且不要带百分号。\\n'"
   ]
  },
  {
   "cell_type": "code",
   "execution_count": 134,
   "id": "9b531247-b004-44b1-82fa-6e8fed9fccd8",
   "metadata": {
    "tags": []
   },
   "outputs": [
    {
     "name": "stdout",
     "output_type": "stream",
     "text": [
      "以下是计算2019年罗普斯金研发人员占职工人数比例的Python代码:\n",
      "\n",
      "```python\n",
      "import math\n",
      "\n",
      "# 计算研发人员占职工人数比例\n",
      "def research_and_development_ratio(employee_count, research_and_development_employee_count):\n",
      "    return research_and_development_employee_count / employee_count\n",
      "\n",
      "# 根据2019年报数据\n",
      "employee_count = 918\n",
      "research_and_development_employee_count = 141\n",
      "\n",
      "# 计算比例\n",
      "ratio = research_and_development_ratio(employee_count, research_and_development_employee_count)\n",
      "\n",
      "# 输出结果,保留两位小数,不带百分号\n",
      "print(round(ratio, 2))\n",
      "```\n",
      "\n",
      "输出结果为:\n",
      "\n",
      "```\n",
      "0.15\n",
      "```\n",
      "\n",
      "因此,2019年罗普斯金研发人员占职工人数比例为0.15。\n"
     ]
    }
   ],
   "source": [
    "inputs = {'text':prompt, 'history': []}\n",
    "result = pipe(inputs,temperature=0.7)\n",
    "# inputs = {'text':'介绍下清华大学', 'history': result['history']}\n",
    "# result = pipe(inputs)\n",
    "print(result['response'])\n",
    "response_=result['response']"
   ]
  },
  {
   "cell_type": "code",
   "execution_count": 135,
   "id": "bb166773-a96b-4c0a-98bb-98e3a84d0009",
   "metadata": {},
   "outputs": [
    {
     "name": "stdout",
     "output_type": "stream",
     "text": [
      "0.15\n"
     ]
    }
   ],
   "source": [
    "exec(re.findall('```python([.\\s\\S]*?)```',response_,re.M)[0].strip())"
   ]
  },
  {
   "cell_type": "code",
   "execution_count": null,
   "id": "78f758b8-825b-4817-9637-36b8a996d7e1",
   "metadata": {},
   "outputs": [],
   "source": []
  },
  {
   "cell_type": "code",
   "execution_count": null,
   "id": "7cfdfb5a-9989-4ece-a24f-0b51983a3abe",
   "metadata": {},
   "outputs": [],
   "source": []
  },
  {
   "cell_type": "code",
   "execution_count": 125,
   "id": "2bce7486-c10b-480d-a472-ed079a9f9ac9",
   "metadata": {},
   "outputs": [
    {
     "name": "stdout",
     "output_type": "stream",
     "text": [
      "2019年罗普斯金研发人员占职工人数比例为:0.15%\n"
     ]
    }
   ],
   "source": [
    "import math\n",
    "\n",
    "# 输入数据\n",
    "ro布斯_total_employee = 918\n",
    "ro布斯_researcher_count = 141\n",
    "\n",
    "# 计算比例\n",
    "researcher_ratio = ro布斯_researcher_count / ro布斯_total_employee\n",
    "\n",
    "# 输出结果,保留两位小数\n",
    "print(\"2019年罗普斯金研发人员占职工人数比例为:{:.2f}%\".format(researcher_ratio))"
   ]
  },
  {
   "cell_type": "code",
   "execution_count": 126,
   "id": "94bf10ba-43ef-4e01-a05a-1614926acf38",
   "metadata": {},
   "outputs": [
    {
     "data": {
      "text/plain": [
       "1"
      ]
     },
     "execution_count": 126,
     "metadata": {},
     "output_type": "execute_result"
    }
   ],
   "source": [
    "你好=1\n",
    "不好=0\n",
    "你好-不好"
   ]
  },
  {
   "cell_type": "code",
   "execution_count": null,
   "id": "3c555f7b-9529-430e-a86b-2572b7e89b1e",
   "metadata": {},
   "outputs": [],
   "source": []
  },
  {
   "cell_type": "code",
   "execution_count": null,
   "id": "a6288128-77cf-4f1d-af0e-32f12c3c6ede",
   "metadata": {},
   "outputs": [],
   "source": []
  },
  {
   "cell_type": "code",
   "execution_count": null,
   "id": "2d5fee0e-3b14-491d-8959-fbc0eba12bdc",
   "metadata": {},
   "outputs": [],
   "source": []
  },
  {
   "cell_type": "markdown",
   "id": "d054d15a-2f8d-46a5-be12-30d8367bb5b9",
   "metadata": {},
   "source": [
    "### 调试2"
   ]
  },
  {
   "cell_type": "code",
   "execution_count": 83,
   "id": "56496453-106e-4a76-95b8-cfac13e82941",
   "metadata": {},
   "outputs": [],
   "source": [
    "prompt=\"\"\"【背景知识】\\n证券全称:黄石东贝电器股份有限公司||证券简称:东贝电器||证券代码:900956\\n- 东贝电器(全称:黄石东贝电器股份有限公司)的2019年报内容:\\n信息来源为年度报告 。\\n 职工人数为4819 。\\n 研发人员为626 。\\n 研发人员比率为12.99。\\n\\n【提问】\\n输出计算黄石东贝电器股份有限公司在2019年的研发人员占职工人数比例的Python代码，结果保留两位小数且不要带百分号。\"\"\""
   ]
  },
  {
   "cell_type": "code",
   "execution_count": 90,
   "id": "91a1bb69-1b20-46c0-9f36-be444d8f88fe",
   "metadata": {
    "tags": []
   },
   "outputs": [
    {
     "name": "stdout",
     "output_type": "stream",
     "text": [
      "以下是计算黄石东贝电器股份有限公司在2019年的研发人员占职工人数比例的Python代码:\n",
      "\n",
      "```python\n",
      "import math\n",
      "\n",
      "# 计算研发人员占职工人数比例\n",
      "def research_and_development_ratio(total_employee_count, research_and_development_employee_count):\n",
      "    return (research_and_development_employee_count / total_employee_count) * 100.0\n",
      "\n",
      "# 输入数据\n",
      "total_employee_count = 4819\n",
      "research_and_development_employee_count = 626\n",
      "\n",
      "# 计算比例\n",
      "ratio = research_and_development_ratio(total_employee_count, research_and_development_employee_count)\n",
      "\n",
      "# 输出结果,保留两位小数,不带百分号\n",
      "print(\"黄石东贝电器股份有限公司在2019年的研发人员占职工人数比例为{:.2f}%\".format(ratio))\n",
      "```\n",
      "\n",
      "输出结果为:\n",
      "\n",
      "```\n",
      "黄石东贝电器股份有限公司在2019年的研发人员占职工人数比例为 12.99%\n",
      "```\n",
      "\n",
      "因此,黄石东贝电器股份有限公司在2019年的研发人员占职工人数比例为12.99%。\n"
     ]
    }
   ],
   "source": [
    "inputs = {'text':prompt, 'history': []}\n",
    "result = pipe(inputs,temperature=0.7)\n",
    "# inputs = {'text':'介绍下清华大学', 'history': result['history']}\n",
    "# result = pipe(inputs)\n",
    "print(result['response'])\n",
    "response_=result['response']"
   ]
  },
  {
   "cell_type": "code",
   "execution_count": 91,
   "id": "69111c59-5f0b-4598-9ca4-6c6c67a34e4b",
   "metadata": {},
   "outputs": [
    {
     "name": "stdout",
     "output_type": "stream",
     "text": [
      "黄石东贝电器股份有限公司在2019年的研发人员占职工人数比例为12.99%\n"
     ]
    }
   ],
   "source": [
    "exec(re.findall('```python([.\\s\\S]*?)```',response_,re.M)[0].strip())"
   ]
  },
  {
   "cell_type": "code",
   "execution_count": null,
   "id": "f2dbd772-818b-4b9d-b0ed-b17e4fb084a9",
   "metadata": {},
   "outputs": [],
   "source": []
  },
  {
   "cell_type": "code",
   "execution_count": null,
   "id": "87952908-c878-4c25-851c-9c24cd71df05",
   "metadata": {},
   "outputs": [],
   "source": []
  },
  {
   "cell_type": "code",
   "execution_count": 22,
   "id": "31f3f0b8-c920-4fea-b33d-cfdcc32b5a79",
   "metadata": {},
   "outputs": [
    {
     "name": "stdout",
     "output_type": "stream",
     "text": [
      "0.13\n"
     ]
    }
   ],
   "source": [
    "import math\n",
    "\n",
    "# 输入参数\n",
    "employee_count = 4819\n",
    "research_and_development_personnel = 626\n",
    "\n",
    "# 计算研发人员占职工人数比例\n",
    "ratio = research_and_development_personnel / employee_count\n",
    "\n",
    "# 输出结果,保留两位小数,不需要百分号\n",
    "print(round(ratio, 2))"
   ]
  },
  {
   "cell_type": "code",
   "execution_count": null,
   "id": "9772b982-e4d7-4774-81f7-7c7b686fed1a",
   "metadata": {},
   "outputs": [],
   "source": []
  },
  {
   "cell_type": "code",
   "execution_count": null,
   "id": "10eb85f0-f44b-485d-9a32-957bac9c8984",
   "metadata": {},
   "outputs": [],
   "source": []
  },
  {
   "cell_type": "code",
   "execution_count": null,
   "id": "08a8b085-7d8f-4b89-a603-e48f63adce21",
   "metadata": {},
   "outputs": [],
   "source": []
  },
  {
   "cell_type": "code",
   "execution_count": null,
   "id": "5f462e39-c54e-4d22-984c-9760f23dee59",
   "metadata": {},
   "outputs": [],
   "source": []
  },
  {
   "cell_type": "code",
   "execution_count": null,
   "id": "289125c8-09d7-46e0-9ae9-9f62c56a9915",
   "metadata": {},
   "outputs": [],
   "source": [
    "prompt=\"\"\"【背景知识】\\n证券全称:黄石东贝电器股份有限公司||证券简称:东贝电器||证券代码:900956\\n- 东贝电器(全称:黄石东贝电器股份有限公司)的2019年报内容:\\n信息来源为年度报告 。\\n 职工人数为4819 。\\n 研发人员为626 。\\n 研发人员比率为12.99。\\n\\n【提问】\\n输出计算黄石东贝电器股份有限公司在2019年的研发人员占职工人数比例的Python代码，保留两位小数。\"\"\""
   ]
  },
  {
   "cell_type": "code",
   "execution_count": null,
   "id": "3365c85b-8d8d-4693-83a3-97c8a5a2fef7",
   "metadata": {},
   "outputs": [],
   "source": []
  },
  {
   "cell_type": "code",
   "execution_count": null,
   "id": "a79223c3-52f4-4248-a0d2-1c433e2f812d",
   "metadata": {},
   "outputs": [],
   "source": []
  },
  {
   "cell_type": "code",
   "execution_count": null,
   "id": "9f499a31-8c8e-4155-99b6-ccdcc8b07734",
   "metadata": {},
   "outputs": [],
   "source": []
  },
  {
   "cell_type": "code",
   "execution_count": null,
   "id": "d8ecd5ce-6d7b-4b26-9719-e1f1474bbc6d",
   "metadata": {},
   "outputs": [],
   "source": []
  },
  {
   "cell_type": "code",
   "execution_count": null,
   "id": "22f62cd9-bcae-41d9-a81c-883381eadb12",
   "metadata": {},
   "outputs": [],
   "source": [
    "prompt=\"\"\"【背景知识】\n",
    "证券全称:三棵树涂料股份有限公司||证券简称:三棵树||证券代码:603737\n",
    "- 三棵树(全称:三棵树涂料股份有限公司)的2019年报内容:\n",
    "信息来源为年度报告 。\n",
    " 职工人数为5163 。\n",
    " 研发人员为583 。\n",
    " 研发人员比率为11.29 。\n",
    " 硕士以上人数为177。\n",
    "\n",
    "【提问】\n",
    "输出计算三棵树在2019年的研发人员占职工人数比例的Python代码,保留两位小数。\"\"\""
   ]
  },
  {
   "cell_type": "code",
   "execution_count": null,
   "id": "96f7ab49-f49d-4d2d-8630-61a67f7e50b9",
   "metadata": {},
   "outputs": [],
   "source": []
  },
  {
   "cell_type": "code",
   "execution_count": 4,
   "id": "07f8d22d-53d0-4b5f-b564-d0c0cac30269",
   "metadata": {},
   "outputs": [],
   "source": [
    "prompt=\"\"\"【任务要求】\n",
    "请按照以下的步骤和要求，回答提问：\n",
    "第一，读取并理解【背景知识】。\n",
    "第二，财务指标的增长率【背景知识】里已算好，直接取即可。\n",
    "第三，整理你找到或计算出的数据。若涉及数字，请用纯数字。\n",
    "第四，若回答需要计算，请明确并简洁地给出计算步骤。\n",
    "第五，遵守小数点的要求，确保答案精确性。\n",
    "第六，用中文表述并回答问题。\n",
    "第七，涉及比率，请用百分比% 。\n",
    "如果无法从中得到答案，请说 “根据已知信息无法回答该问题” 或 “没有提供足够的相关信息”。答案请使用中文。\n",
    "【背景知识】\n",
    "证券全称:中亿丰罗普斯金材料科技股份有限公司||证券简称:罗普斯金||证券代码:002333\n",
    "- 罗普斯金(全称:中亿丰罗普斯金材料科技股份有限公司)的2019年报内容:\n",
    "信息来源为年度报告 。\n",
    " 职工人数为918 。\n",
    " 研发人员为141 。\n",
    " 研发人员比率为15.36。\n",
    "\n",
    "【提问】\n",
    "2019年罗普斯金的研发人员占职工人数的比例是多少？请保留两位小数。\"\"\""
   ]
  },
  {
   "cell_type": "code",
   "execution_count": 5,
   "id": "fe5e4603-fb0a-4c9d-90c3-3c0ea2307cda",
   "metadata": {},
   "outputs": [
    {
     "name": "stdout",
     "output_type": "stream",
     "text": [
      "根据【背景知识】，2019年罗普斯金的研发人员为141，职工人数为918。所以，罗普斯金的研发人员占职工人数的比例为：\n",
      "\n",
      "141 / 918 ≈ 0.1528\n",
      "\n",
      "答案为0.15（保留两位小数）。\n"
     ]
    }
   ],
   "source": [
    "inputs = {'text':prompt, 'history': []}\n",
    "result = pipe(inputs)\n",
    "# inputs = {'text':'介绍下清华大学', 'history': result['history']}\n",
    "# result = pipe(inputs)\n",
    "print(result['response'])"
   ]
  },
  {
   "cell_type": "code",
   "execution_count": 6,
   "id": "218bd7d5-0d24-4551-890b-f4e563b508d8",
   "metadata": {},
   "outputs": [
    {
     "data": {
      "text/plain": [
       "0.15359477124183007"
      ]
     },
     "execution_count": 6,
     "metadata": {},
     "output_type": "execute_result"
    }
   ],
   "source": [
    "141/918"
   ]
  },
  {
   "cell_type": "code",
   "execution_count": 7,
   "id": "2485f4bf-55e5-4376-ae03-86242c54df6b",
   "metadata": {},
   "outputs": [],
   "source": [
    "prompt=\"\"\"【任务要求】\n",
    "请按照以下的步骤和要求，回答提问：\n",
    "第一，读取并理解【背景知识】。\n",
    "第二，财务指标的增长率【背景知识】里已算好，直接取即可。\n",
    "第三，整理你找到或计算出的数据。若涉及数字，请用纯数字。\n",
    "第四，若回答需要计算，请明确并简洁地给出计算步骤。\n",
    "第五，遵守小数点的要求，确保答案精确性。\n",
    "第六，用中文表述并回答问题。\n",
    "第七，涉及比率，请用百分比% 。\n",
    "如果无法从中得到答案，请说 “根据已知信息无法回答该问题” 或 “没有提供足够的相关信息”。答案请使用中文。\n",
    "【背景知识】\n",
    "证券全称:黄石东贝电器股份有限公司||证券简称:东贝电器||证券代码:900956\n",
    "- 东贝电器(全称:黄石东贝电器股份有限公司)的2019年报内容:\n",
    "信息来源为年度报告 。\n",
    " 职工人数为4819 。\n",
    " 研发人员为626 。\n",
    " 研发人员比率为12.99。\n",
    "\n",
    "【提问】\n",
    "黄石东贝电器股份有限公司在2019年的研发人员占职工人数的比例是多少?请保留两位小数。\"\"\""
   ]
  },
  {
   "cell_type": "code",
   "execution_count": 8,
   "id": "9bb516e8-f10e-45a8-8b86-c8430b02a8bf",
   "metadata": {},
   "outputs": [
    {
     "name": "stdout",
     "output_type": "stream",
     "text": [
      "根据【背景知识】，东贝电器在2019年的职工人数为4819，研发人员为626，且研发人员比率为12.99。\n",
      "\n",
      "因此，黄石东贝电器股份有限公司在2019年的研发人员占职工人数的比例为：\n",
      "\n",
      "(626/4819) * 100% ≈ 13.43%\n",
      "\n",
      "答案为13.43%（保留两位小数）。\n"
     ]
    }
   ],
   "source": [
    "inputs = {'text':prompt, 'history': []}\n",
    "result = pipe(inputs)\n",
    "# inputs = {'text':'介绍下清华大学', 'history': result['history']}\n",
    "# result = pipe(inputs)\n",
    "print(result['response'])"
   ]
  },
  {
   "cell_type": "code",
   "execution_count": 9,
   "id": "c75e35c2-f1a2-43f8-a409-f16a4aff2a71",
   "metadata": {},
   "outputs": [
    {
     "data": {
      "text/plain": [
       "0.12990246939199004"
      ]
     },
     "execution_count": 9,
     "metadata": {},
     "output_type": "execute_result"
    }
   ],
   "source": [
    "626/4819"
   ]
  },
  {
   "cell_type": "code",
   "execution_count": 10,
   "id": "5720b651-f070-4677-b0d3-9916f9b94d82",
   "metadata": {},
   "outputs": [],
   "source": [
    "prompt=\"\"\"【任务要求】\n",
    "请按照以下的步骤和要求，回答提问：\n",
    "第一，读取并理解【背景知识】。\n",
    "第二，财务指标的增长率【背景知识】里已算好，直接取即可。\n",
    "第三，整理你找到或计算出的数据。若涉及数字，请用纯数字。\n",
    "第四，若回答需要计算，请明确并简洁地给出计算步骤。\n",
    "第五，遵守小数点的要求，确保答案精确性。\n",
    "第六，用中文表述并回答问题。\n",
    "第七，涉及比率，请用百分比% 。\n",
    "如果无法从中得到答案，请说 “根据已知信息无法回答该问题” 或 “没有提供足够的相关信息”。答案请使用中文。\n",
    "【背景知识】\n",
    "证券全称:黄石东贝电器股份有限公司||证券简称:东贝电器||证券代码:900956\n",
    "- 东贝电器(全称:黄石东贝电器股份有限公司)的2019年报内容:\n",
    "信息来源为年度报告 。\n",
    " 职工人数为4819 。\n",
    " 研发人员为626 。\n",
    " 研发人员比率为12.99。\n",
    "\n",
    "【提问】\n",
    "黄石东贝电器股份有限公司在2019年的研发人员占职工人数的比例是多少?请保留两位小数。涉及到比例计算的请转为python代码计算并输出结果\"\"\""
   ]
  },
  {
   "cell_type": "code",
   "execution_count": 11,
   "id": "86da8186-233f-4ccb-bc4b-7e1fe5ad999c",
   "metadata": {},
   "outputs": [
    {
     "name": "stdout",
     "output_type": "stream",
     "text": [
      "根据给出的背景知识，黄石东贝电器股份有限公司在2019年的职工人数为4819人，研发人员为626人。因此，该公司在2019年的研发人员占职工人数的比例为：\n",
      "\n",
      "626 / 4819 ≈ 0.1355\n",
      "\n",
      "将结果保留两位小数，得到答案为0.1355或13.55%。\n"
     ]
    }
   ],
   "source": [
    "inputs = {'text':prompt, 'history': []}\n",
    "result = pipe(inputs)\n",
    "# inputs = {'text':'介绍下清华大学', 'history': result['history']}\n",
    "# result = pipe(inputs)\n",
    "print(result['response'])"
   ]
  },
  {
   "cell_type": "code",
   "execution_count": 12,
   "id": "7b419cdd-ec10-443e-9d57-c65eb9ba42e2",
   "metadata": {},
   "outputs": [],
   "source": [
    "prompt=\"\"\"输出下面python代码的执行结果。626/4819=\"\"\""
   ]
  },
  {
   "cell_type": "code",
   "execution_count": 13,
   "id": "36cf0f93-b778-4ba6-80ee-d4521c5023a2",
   "metadata": {},
   "outputs": [
    {
     "name": "stdout",
     "output_type": "stream",
     "text": [
      "输出结果为约等于 0.13721777277507867。\n"
     ]
    }
   ],
   "source": [
    "inputs = {'text':prompt, 'history': []}\n",
    "result = pipe(inputs)\n",
    "# inputs = {'text':'介绍下清华大学', 'history': result['history']}\n",
    "# result = pipe(inputs)\n",
    "print(result['response'])"
   ]
  },
  {
   "cell_type": "code",
   "execution_count": 14,
   "id": "3f0fd862-0437-4ed6-a12b-fd1e981895c6",
   "metadata": {},
   "outputs": [],
   "source": [
    "prompt=\"\"\"【任务要求】\n",
    "请按照以下的步骤和要求，回答提问：\n",
    "第一，读取并理解【背景知识】。\n",
    "第二，财务指标的增长率【背景知识】里已算好，直接取即可。\n",
    "第三，整理你找到或计算出的数据。若涉及数字，请用纯数字。\n",
    "第四，若回答需要计算，请明确并简洁地给出计算步骤。\n",
    "第五，遵守小数点的要求，确保答案精确性。\n",
    "第六，用中文表述并回答问题。\n",
    "第七，涉及比率，请用百分比% 。\n",
    "如果无法从中得到答案，请说 “根据已知信息无法回答该问题” 或 “没有提供足够的相关信息”。答案请使用中文。\n",
    "【背景知识】\n",
    "证券全称:江苏华信新材料股份有限公司||证券简称:华信新材||证券代码:300717\n",
    "- 华信新材(全称:江苏华信新材料股份有限公司)的2019年报内容:\n",
    "信息来源为年度报告 。\n",
    " 职工人数为400 。\n",
    " 研发人员为55 。\n",
    " 研发人员比率为13.75 。\n",
    " 硕士人数为2 。\n",
    " 硕士以上人数为4 。\n",
    " 博士人数为2 。\n",
    " 博士以上人数为2。\n",
    "\n",
    "【提问】\n",
    "华信新材在2019年的研发人员占职工人数比例是多少?请保留2位小数。\"\"\""
   ]
  },
  {
   "cell_type": "code",
   "execution_count": 15,
   "id": "9f88438e-843c-4ee8-8121-f1ad499a037f",
   "metadata": {},
   "outputs": [
    {
     "name": "stdout",
     "output_type": "stream",
     "text": [
      "根据【背景知识】，华信新材的2019年报表中，研发人员为55人，职工人数为400人。那么，华信新材在2019年的研发人员占职工人数比例是多少呢？\n",
      "\n",
      "解答过程：\n",
      "1. 计算研发人员占职工人数的比例。\n",
      "   比例 = (研发人员人数 ÷ 职工人数) × 100%\n",
      "   比例 = (55 ÷ 400) × 100%\n",
      "   比例 = 13.75%\n",
      "2. 根据计算结果，保留2位小数。\n",
      "   答案：华信新材在2019年的研发人员占职工人数比例是13.75%。\n",
      "\n",
      "【答案】华信新材在2019年的研发人员占职工人数比例是13.75%。\n"
     ]
    }
   ],
   "source": [
    "inputs = {'text':prompt, 'history': []}\n",
    "result = pipe(inputs)\n",
    "# inputs = {'text':'介绍下清华大学', 'history': result['history']}\n",
    "# result = pipe(inputs)\n",
    "print(result['response'])"
   ]
  },
  {
   "cell_type": "code",
   "execution_count": 18,
   "id": "1cb91a82-dd2a-4cd9-a0a1-f8dd3ab3298f",
   "metadata": {},
   "outputs": [],
   "source": [
    "prompt=\"\"\"【任务要求】\n",
    "请按照以下的步骤和要求，回答提问：\n",
    "第一，读取并理解【背景知识】。\n",
    "第二，财务指标的增长率【背景知识】里已算好，直接取即可。\n",
    "第三，整理你找到或计算出的数据。若涉及数字，请用纯数字。\n",
    "第四，若回答需要计算，请明确并简洁地给出计算步骤。\n",
    "第五，遵守小数点的要求，确保答案精确性。\n",
    "第六，用中文表述并回答问题。\n",
    "第七，涉及比率，请用百分比% 。\n",
    "如果无法从中得到答案，请说 “根据已知信息无法回答该问题” 或 “没有提供足够的相关信息”。答案请使用中文。\n",
    "【背景知识】\n",
    "证券全称:三棵树涂料股份有限公司||证券简称:三棵树||证券代码:603737\n",
    "- 三棵树(全称:三棵树涂料股份有限公司)的2019年报内容:\n",
    "信息来源为年度报告 。\n",
    " 职工人数为5163 。\n",
    " 研发人员为583 。\n",
    " 研发人员比率为11.29 。\n",
    " 硕士以上人数为177。\n",
    " 计算公式：研发人员占职工人数的比例=研发人员数/职工总数\n",
    "【提问】\n",
    "三棵树在2019年的研发人员占职工人数的比例是多少？请保留两位小数。\"\"\""
   ]
  },
  {
   "cell_type": "code",
   "execution_count": 19,
   "id": "f1d924b9-b54d-4d0b-9467-568f620d36a8",
   "metadata": {},
   "outputs": [
    {
     "name": "stdout",
     "output_type": "stream",
     "text": [
      "根据【背景知识】，我们得知三棵树在2019年的研发人员为583，职工总数为5163。要求计算三棵树在2019年的研发人员占职工人数的比例。\n",
      "\n",
      "【解答】\n",
      "研发人员占职工人数的比例 = 研发人员数 ÷ 职工总数\n",
      "= 583 ÷ 5163\n",
      "≈ 11.15%\n",
      "\n",
      "【答案】\n",
      "三棵树在2019年的研发人员占职工人数的比例约为11.15%。\n"
     ]
    }
   ],
   "source": [
    "inputs = {'text':prompt, 'history': []}\n",
    "result = pipe(inputs)\n",
    "# inputs = {'text':'介绍下清华大学', 'history': result['history']}\n",
    "# result = pipe(inputs)\n",
    "print(result['response'])"
   ]
  },
  {
   "cell_type": "code",
   "execution_count": 21,
   "id": "631f714e-5769-4ab1-9419-1716bead3471",
   "metadata": {},
   "outputs": [
    {
     "data": {
      "text/plain": [
       "0.11291884563238427"
      ]
     },
     "execution_count": 21,
     "metadata": {},
     "output_type": "execute_result"
    }
   ],
   "source": [
    "583 / 5163"
   ]
  },
  {
   "cell_type": "code",
   "execution_count": 26,
   "id": "804ceccd-f2b7-4d3b-8be9-9dd18b3a9fdf",
   "metadata": {},
   "outputs": [],
   "source": [
    "prompt=\"\"\"\n",
    "【背景知识】\n",
    "证券全称:三棵树涂料股份有限公司||证券简称:三棵树||证券代码:603737\n",
    "- 三棵树(全称:三棵树涂料股份有限公司)的2019年报内容:\n",
    "信息来源为年度报告 。\n",
    " 职工人数为5163 。\n",
    " 研发人员为583 。\n",
    " 研发人员比率为11.29 。\n",
    " 硕士以上人数为177。\n",
    " 计算公式：研发人员占职工人数的比例=研发人员数/职工总数\n",
    "【提问】\n",
    "输出计算三棵树在2019年的研发人员占职工人数的比例的python代码\"\"\""
   ]
  },
  {
   "cell_type": "code",
   "execution_count": 27,
   "id": "919d6d94-a865-4646-aa7b-1e2c29c3db4a",
   "metadata": {
    "collapsed": true,
    "jupyter": {
     "outputs_hidden": true
    },
    "tags": []
   },
   "outputs": [
    {
     "name": "stdout",
     "output_type": "stream",
     "text": [
      "以下是计算三棵树在2019年的研发人员占职工人数的比例的Python代码:\n",
      "\n",
      "```python\n",
      "import math\n",
      "\n",
      "# 计算研发人员占职工人数的比例\n",
      "def research_and_development_employee_ratio(total_employee_num, research_and_development_employee_num):\n",
      "    ratio = research_and_development_employee_num / total_employee_num\n",
      "    return ratio\n",
      "\n",
      "# 根据2019年报内容,代入计算\n",
      "total_employee_num = 5163\n",
      "research_and_development_employee_num = 583\n",
      "\n",
      "ratio = research_and_development_employee_ratio(total_employee_num, research_and_development_employee_num)\n",
      "\n",
      "print(\"三棵树在2019年的研发人员占职工人数的比例为:\", ratio)\n",
      "```\n",
      "\n",
      "输出结果为:\n",
      "\n",
      "```\n",
      "三棵树在2019年的研发人员占职工人数的比例为: 11.29%\n",
      "```\n",
      "\n",
      "因此,三棵树在2019年的研发人员占职工人数的比例为11.29%。\n"
     ]
    }
   ],
   "source": [
    "inputs = {'text':prompt, 'history': []}\n",
    "result = pipe(inputs)\n",
    "# inputs = {'text':'介绍下清华大学', 'history': result['history']}\n",
    "# result = pipe(inputs)\n",
    "print(result['response'])"
   ]
  },
  {
   "cell_type": "code",
   "execution_count": 28,
   "id": "7802b2ba-b20c-4124-9559-b6325caae045",
   "metadata": {},
   "outputs": [
    {
     "name": "stdout",
     "output_type": "stream",
     "text": [
      "三棵树在2019年的研发人员占职工人数的比例为: 0.11291884563238427\n"
     ]
    }
   ],
   "source": [
    "import math\n",
    "\n",
    "# 计算研发人员占职工人数的比例\n",
    "def research_and_development_employee_ratio(total_employee_num, research_and_development_employee_num):\n",
    "    ratio = research_and_development_employee_num / total_employee_num\n",
    "    return ratio\n",
    "\n",
    "# 根据2019年报内容,代入计算\n",
    "total_employee_num = 5163\n",
    "research_and_development_employee_num = 583\n",
    "\n",
    "ratio = research_and_development_employee_ratio(total_employee_num, research_and_development_employee_num)\n",
    "\n",
    "print(\"三棵树在2019年的研发人员占职工人数的比例为:\", ratio)"
   ]
  },
  {
   "cell_type": "code",
   "execution_count": 29,
   "id": "d307b245-1216-440b-9a7c-7da8821d9c94",
   "metadata": {},
   "outputs": [],
   "source": [
    "prompt=\"\"\"\n",
    "【背景知识】\n",
    "证券全称:三棵树涂料股份有限公司||证券简称:三棵树||证券代码:603737\n",
    "- 三棵树(全称:三棵树涂料股份有限公司)的2019年报内容:\n",
    "信息来源为年度报告 。\n",
    " 职工人数为5163 。\n",
    " 研发人员为583 。\n",
    " 研发人员比率为11.29 。\n",
    " 硕士以上人数为177。\n",
    " 计算公式：研发人员占职工人数的比例=研发人员数/职工总数\n",
    "【提问】\n",
    "输出计算三棵树在2019年的研发人员占职工人数的比例的python代码，结果保留两位小数\"\"\""
   ]
  },
  {
   "cell_type": "code",
   "execution_count": 30,
   "id": "c09cac44-e857-4269-ad8d-e5bd1d7ff0fb",
   "metadata": {
    "collapsed": true,
    "jupyter": {
     "outputs_hidden": true
    },
    "tags": []
   },
   "outputs": [
    {
     "name": "stdout",
     "output_type": "stream",
     "text": [
      "以下是计算三棵树在2019年的研发人员占职工人数的比例的Python代码:\n",
      "\n",
      "```python\n",
      "import math\n",
      "\n",
      "# 三棵树2019年报数据\n",
      "total_employee = 5163\n",
      "research_and_development_employee = 583\n",
      "research_and_development_ratio = research_and_development_employee / total_employee\n",
      "\n",
      "# 计算比例保留两位小数\n",
      "ratio = round(research_and_development_ratio, 2)\n",
      "\n",
      "print(\"三棵树在2019年的研发人员占职工人数的比例为:\", ratio)\n",
      "```\n",
      "\n",
      "输出结果为:\n",
      "\n",
      "```\n",
      "三棵树在2019年的研发人员占职工人数的比例为: 11.29%\n",
      "```\n",
      "\n",
      "因此,三棵树在2019年的研发人员占职工人数的比例为11.29%。\n"
     ]
    }
   ],
   "source": [
    "inputs = {'text':prompt, 'history': []}\n",
    "result = pipe(inputs)\n",
    "# inputs = {'text':'介绍下清华大学', 'history': result['history']}\n",
    "# result = pipe(inputs)\n",
    "print(result['response'])"
   ]
  },
  {
   "cell_type": "code",
   "execution_count": 31,
   "id": "2f10eb5c-b075-41c2-a622-f87ceb1a482e",
   "metadata": {},
   "outputs": [
    {
     "name": "stdout",
     "output_type": "stream",
     "text": [
      "三棵树在2019年的研发人员占职工人数的比例为: 0.11\n"
     ]
    }
   ],
   "source": [
    "import math\n",
    "\n",
    "# 三棵树2019年报数据\n",
    "total_employee = 5163\n",
    "research_and_development_employee = 583\n",
    "research_and_development_ratio = research_and_development_employee / total_employee\n",
    "\n",
    "# 计算比例保留两位小数\n",
    "ratio = round(research_and_development_ratio, 2)\n",
    "\n",
    "print(\"三棵树在2019年的研发人员占职工人数的比例为:\", ratio)"
   ]
  },
  {
   "cell_type": "code",
   "execution_count": 32,
   "id": "bb93e82a-26e6-4dd2-8530-8ff0a1e81f18",
   "metadata": {},
   "outputs": [],
   "source": [
    "prompt=\"\"\"【背景知识】\n",
    "证券全称:无锡雪浪环境科技股份有限公司||证券简称:雪浪环境||证券代码:300385\n",
    "- 雪浪环境(全称:无锡雪浪环境科技股份有限公司)的2019年报内容:\n",
    "信息来源为年度报告 。\n",
    " 职工人数为702 。\n",
    " 研发人员为172 。\n",
    " 研发人员比率为24.5 。\n",
    " 硕士人数为13 。\n",
    " 硕士以上人数为13。\n",
    "\n",
    "【提问】\n",
    "请问，雪浪环境2019年研发人员占职工人数的比例是多少?保留2位小数。\"\"\""
   ]
  },
  {
   "cell_type": "code",
   "execution_count": 33,
   "id": "1eb6ad91-7ab4-4a7c-b94c-eaae2012a9e4",
   "metadata": {},
   "outputs": [
    {
     "name": "stdout",
     "output_type": "stream",
     "text": [
      "根据雪浪环境2019年报，研发人员为172，职工人数为702。我们可以计算出研发人员占职工人数的比例。\n",
      "\n",
      "研发人员占比 = (研发人员数 ÷ 职工人数) × 100%\n",
      "\n",
      "将数据代入公式得：\n",
      "\n",
      "(172 ÷ 702) × 100% ≈ 23.85%\n",
      "\n",
      "因此，雪浪环境2019年研发人员占职工人数的比例约为23.85%。\n"
     ]
    }
   ],
   "source": [
    "inputs = {'text':prompt, 'history': []}\n",
    "result = pipe(inputs)\n",
    "# inputs = {'text':'介绍下清华大学', 'history': result['history']}\n",
    "# result = pipe(inputs)\n",
    "print(result['response'])"
   ]
  },
  {
   "cell_type": "code",
   "execution_count": null,
   "id": "84b71320-f6ed-4b80-9ec4-92aced4b36b8",
   "metadata": {},
   "outputs": [],
   "source": []
  },
  {
   "cell_type": "code",
   "execution_count": 34,
   "id": "4556d9de-1a30-41df-9f2d-75be3460f286",
   "metadata": {},
   "outputs": [],
   "source": [
    "prompt=\"\"\"【背景知识】\n",
    "证券全称:无锡雪浪环境科技股份有限公司||证券简称:雪浪环境||证券代码:300385\n",
    "- 雪浪环境(全称:无锡雪浪环境科技股份有限公司)的2019年报内容:\n",
    "信息来源为年度报告 。\n",
    " 职工人数为702 。\n",
    " 研发人员为172 。\n",
    " 研发人员比率为24.5 。\n",
    " 硕士人数为13 。\n",
    " 硕士以上人数为13。\n",
    "\n",
    "【提问】\n",
    "输出计算雪浪环境2019年研发人员占职工人数的比例是多少的python代码，保留2位小数。\"\"\""
   ]
  },
  {
   "cell_type": "code",
   "execution_count": 37,
   "id": "cb1b00f1-b147-4b35-99e0-fb86ed1abce1",
   "metadata": {
    "tags": []
   },
   "outputs": [
    {
     "name": "stdout",
     "output_type": "stream",
     "text": [
      "以下是计算雪浪环境2019年研发人员占职工人数的比例的Python代码,保留2位小数:\n",
      "\n",
      "```python\n",
      "import math\n",
      "\n",
      "# 雪浪环境2019年报内容\n",
      "信息来源为年度报告,职工人数为702,研发人员为172,研发人员比率为24.5,硕士人数为13,硕士以上人数为13。\n",
      "\n",
      "# 计算研发人员占职工人数的比例\n",
      "result = (研发人员 / 职工人数) * 100\n",
      "\n",
      "# 输出结果,保留2位小数\n",
      "print(result)\n",
      "```\n",
      "\n",
      "输出结果为:\n",
      "\n",
      "```\n",
      "0.245781538428578\n",
      "```\n",
      "\n",
      "因此,雪浪环境2019年研发人员占职工人数的比例为24.58%。\n"
     ]
    }
   ],
   "source": [
    "inputs = {'text':prompt, 'history': []}\n",
    "result = pipe(inputs)\n",
    "# inputs = {'text':'介绍下清华大学', 'history': result['history']}\n",
    "# result = pipe(inputs)\n",
    "print(result['response'])"
   ]
  },
  {
   "cell_type": "code",
   "execution_count": 43,
   "id": "dbf8c2f3-4d29-4e3e-98c5-bd85ab48efa8",
   "metadata": {},
   "outputs": [],
   "source": [
    "prompt=\"\"\"【背景知识】\n",
    "证券全称:无锡雪浪环境科技股份有限公司||证券简称:雪浪环境||证券代码:300385\n",
    "- 雪浪环境(全称:无锡雪浪环境科技股份有限公司)的2019年报内容:\n",
    "信息来源为年度报告 。\n",
    " 职工人数为702 。\n",
    " 研发人员为172 。\n",
    " 研发人员比率为24.5 。\n",
    " 硕士人数为13 。\n",
    " 硕士以上人数为13。\n",
    "\n",
    "【提问】\n",
    "输出计算雪浪环境2019年研发人员占职工人数的比例是多少的python代码，保留2位小数。\"\"\""
   ]
  },
  {
   "cell_type": "code",
   "execution_count": 44,
   "id": "cdfb6954-0681-4487-b9d9-254ab56ccce9",
   "metadata": {
    "tags": []
   },
   "outputs": [
    {
     "name": "stdout",
     "output_type": "stream",
     "text": [
      "以下是计算雪浪环境2019年研发人员占职工人数的比例的Python代码,保留2位小数:\n",
      "\n",
      "```python\n",
      "import math\n",
      "\n",
      "# 雪浪环境2019年报内容\n",
      "employee_count = 702\n",
      "research_and_development_employee_count = 172\n",
      "research_and_development_employee_ratio = research_and_development_employee_count / employee_count\n",
      "\n",
      "# 计算比例\n",
      "ratio = research_and_development_employee_ratio\n",
      "\n",
      "# 输出结果,保留2位小数\n",
      "print(f\"{ratio:.2f}\")\n",
      "```\n",
      "\n",
      "输出结果为:\n",
      "\n",
      "```\n",
      "0.245\n",
      "```\n",
      "\n",
      "因此,雪浪环境2019年研发人员占职工人数的比例为24.5%。\n"
     ]
    }
   ],
   "source": [
    "inputs = {'text':prompt, 'history': []}\n",
    "result = pipe(inputs)\n",
    "# inputs = {'text':'介绍下清华大学', 'history': result['history']}\n",
    "# result = pipe(inputs)\n",
    "print(result['response'])"
   ]
  },
  {
   "cell_type": "code",
   "execution_count": 45,
   "id": "4943d537-95d4-4fea-a990-a79a6b742114",
   "metadata": {},
   "outputs": [
    {
     "name": "stdout",
     "output_type": "stream",
     "text": [
      "0.25\n"
     ]
    }
   ],
   "source": [
    "import math\n",
    "\n",
    "# 雪浪环境2019年报内容\n",
    "employee_count = 702\n",
    "research_and_development_employee_count = 172\n",
    "research_and_development_employee_ratio = research_and_development_employee_count / employee_count\n",
    "\n",
    "# 计算比例\n",
    "ratio = research_and_development_employee_ratio\n",
    "\n",
    "# 输出结果,保留2位小数\n",
    "print(f\"{ratio:.2f}\")"
   ]
  },
  {
   "cell_type": "code",
   "execution_count": 46,
   "id": "4cc2879c-967c-4959-aedb-1c43f3819228",
   "metadata": {},
   "outputs": [
    {
     "data": {
      "text/plain": [
       "'以下是计算雪浪环境2019年研发人员占职工人数的比例的Python代码,保留2位小数:\\n\\n```python\\nimport math\\n\\n# 雪浪环境2019年报内容\\nemployee_count = 702\\nresearch_and_development_employee_count = 172\\nresearch_and_development_employee_ratio = research_and_development_employee_count / employee_count\\n\\n# 计算比例\\nratio = research_and_development_employee_ratio\\n\\n# 输出结果,保留2位小数\\nprint(f\"{ratio:.2f}\")\\n```\\n\\n输出结果为:\\n\\n```\\n0.245\\n```\\n\\n因此,雪浪环境2019年研发人员占职工人数的比例为24.5%。'"
      ]
     },
     "execution_count": 46,
     "metadata": {},
     "output_type": "execute_result"
    }
   ],
   "source": [
    "result['response']"
   ]
  },
  {
   "cell_type": "code",
   "execution_count": 47,
   "id": "ad1fdf25-ea98-47dc-8e1c-8d6b4bb8f06c",
   "metadata": {},
   "outputs": [],
   "source": [
    "import re"
   ]
  },
  {
   "cell_type": "code",
   "execution_count": 53,
   "id": "e9bc4c3f-ff07-4d6b-985f-b21ac42ee68d",
   "metadata": {},
   "outputs": [
    {
     "data": {
      "text/plain": [
       "['```python\\nimport math\\n\\n# 雪浪环境2019年报内容\\nemployee_count = 702\\nresearch_and_development_employee_count = 172\\nresearch_and_development_employee_ratio = research_and_development_employee_count / employee_count\\n\\n# 计算比例\\nratio = research_and_development_employee_ratio\\n\\n# 输出结果,保留2位小数\\nprint(f\"{ratio:.2f}\")\\n```\\n\\n输出结果为:\\n\\n```\\n0.245\\n```']"
      ]
     },
     "execution_count": 53,
     "metadata": {},
     "output_type": "execute_result"
    }
   ],
   "source": [
    "re.findall('```python.*```',result['response'],re.S)"
   ]
  },
  {
   "cell_type": "code",
   "execution_count": 60,
   "id": "889d6e73-a034-48fe-b040-acac0dd230b4",
   "metadata": {},
   "outputs": [
    {
     "data": {
      "text/plain": [
       "'import math\\n\\n# 雪浪环境2019年报内容\\nemployee_count = 702\\nresearch_and_development_employee_count = 172\\nresearch_and_development_employee_ratio = research_and_development_employee_count / employee_count\\n\\n# 计算比例\\nratio = research_and_development_employee_ratio\\n\\n# 输出结果,保留2位小数\\nprint(f\"{ratio:.2f}\")'"
      ]
     },
     "execution_count": 60,
     "metadata": {},
     "output_type": "execute_result"
    }
   ],
   "source": [
    "re.findall('```python([.\\s\\S]*?)```',result['response'],re.M)[0].strip()"
   ]
  },
  {
   "cell_type": "code",
   "execution_count": 61,
   "id": "599756da-d312-4799-85c8-a93bf3323d16",
   "metadata": {
    "collapsed": true,
    "jupyter": {
     "outputs_hidden": true
    },
    "tags": []
   },
   "outputs": [
    {
     "ename": "SyntaxError",
     "evalue": "invalid syntax (<string>, line 1)",
     "output_type": "error",
     "traceback": [
      "Traceback \u001b[0;36m(most recent call last)\u001b[0m:\n",
      "\u001b[0m  File \u001b[1;32m~/miniconda3/envs/cft/lib/python3.9/site-packages/IPython/core/interactiveshell.py:3508\u001b[0m in \u001b[1;35mrun_code\u001b[0m\n    exec(code_obj, self.user_global_ns, self.user_ns)\u001b[0m\n",
      "\u001b[0;36m  Cell \u001b[0;32mIn[61], line 1\u001b[0;36m\n\u001b[0;31m    eval(re.findall('```python([.\\s\\S]*?)```',result['response'],re.M)[0].strip())\u001b[0;36m\n",
      "\u001b[0;36m  File \u001b[0;32m<string>:1\u001b[0;36m\u001b[0m\n\u001b[0;31m    import math\u001b[0m\n\u001b[0m    ^\u001b[0m\n\u001b[0;31mSyntaxError\u001b[0m\u001b[0;31m:\u001b[0m invalid syntax\n"
     ]
    }
   ],
   "source": [
    "eval(re.findall('```python([.\\s\\S]*?)```',result['response'],re.M)[0].strip())"
   ]
  },
  {
   "cell_type": "code",
   "execution_count": 62,
   "id": "7ccb4646-bca3-4854-bc87-80a0a78b580d",
   "metadata": {},
   "outputs": [
    {
     "name": "stdout",
     "output_type": "stream",
     "text": [
      "0.25\n"
     ]
    }
   ],
   "source": [
    "exec(re.findall('```python([.\\s\\S]*?)```',result['response'],re.M)[0].strip())"
   ]
  },
  {
   "cell_type": "code",
   "execution_count": 65,
   "id": "d93863ee-a887-4623-b850-407f8b9fba63",
   "metadata": {},
   "outputs": [
    {
     "data": {
      "text/plain": [
       "'import math\\n\\n# 雪浪环境2019年报内容\\nemployee_count = 702\\nresearch_and_development_employee_count = 172\\nresearch_and_development_employee_ratio = research_and_development_employee_count / employee_count\\n\\n# 计算比例\\nratio = research_and_development_employee_ratio\\n\\n# 输出结果,保留2位小数\\nprint(f\"{ratio:.2f}\")'"
      ]
     },
     "execution_count": 65,
     "metadata": {},
     "output_type": "execute_result"
    }
   ],
   "source": [
    "re.findall('```python([.\\s\\S]*?)```',result['response'],re.M)[0].strip()"
   ]
  },
  {
   "cell_type": "code",
   "execution_count": 63,
   "id": "e4089a13-a7b4-4132-a9b1-5143d0004708",
   "metadata": {},
   "outputs": [
    {
     "name": "stdout",
     "output_type": "stream",
     "text": [
      "0.25\n"
     ]
    }
   ],
   "source": [
    "tmp = exec(re.findall('```python([.\\s\\S]*?)```',result['response'],re.M)[0].strip())"
   ]
  },
  {
   "cell_type": "code",
   "execution_count": 66,
   "id": "c9661958-ddf1-4718-8c70-05cfa5a49a57",
   "metadata": {},
   "outputs": [
    {
     "data": {
      "text/plain": [
       "0.245014245014245"
      ]
     },
     "execution_count": 66,
     "metadata": {},
     "output_type": "execute_result"
    }
   ],
   "source": [
    "ratio"
   ]
  },
  {
   "cell_type": "code",
   "execution_count": 67,
   "id": "a42a6b5c-f2bf-4464-befd-c0fbda842514",
   "metadata": {},
   "outputs": [],
   "source": [
    "prompt=\"\"\"【背景知识】\n",
    "证券全称:江苏华信新材料股份有限公司||证券简称:华信新材||证券代码:300717\n",
    "- 华信新材(全称:江苏华信新材料股份有限公司)的2019年报内容:\n",
    "信息来源为年度报告 。\n",
    " 职工人数为400 。\n",
    " 研发人员为55 。\n",
    " 研发人员比率为13.75 。\n",
    " 硕士人数为2 。\n",
    " 硕士以上人数为4 。\n",
    " 博士人数为2 。\n",
    " 博士以上人数为2。\n",
    "\n",
    "【提问】\n",
    "输出计算华信新材在2019年的研发人员占职工人数比例是多少的python代码，保留2位小数。\"\"\""
   ]
  },
  {
   "cell_type": "code",
   "execution_count": 68,
   "id": "06571fb4-b307-47e2-8a21-ec8bf899c237",
   "metadata": {
    "collapsed": true,
    "jupyter": {
     "outputs_hidden": true
    },
    "tags": []
   },
   "outputs": [
    {
     "name": "stdout",
     "output_type": "stream",
     "text": [
      "以下是计算华信新材在2019年的研发人员占职工人数比例的Python代码,保留2位小数:\n",
      "\n",
      "```python\n",
      "import math\n",
      "\n",
      "# 计算研发人员比率为13.75\n",
      "def research_and_development_ratio(total_staff):\n",
      "    research_and_development_person = 55\n",
      "    total_employee = 400\n",
      "    return research_and_development_ratio / total_employee\n",
      "\n",
      "# 计算2019年研发人员占职工人数比例\n",
      "def research_and_development_proportion(year_report):\n",
      "    return research_and_development_ratio(year_report.get_total_staff())\n",
      "\n",
      "# 输出结果\n",
      "print(\"2019年研发人员占职工人数比例为:{:.2f}%\".format(research_and_development_proportion(year_report)))\n",
      "```\n",
      "\n",
      "在上面的代码中,我们定义了两个函数 `research_and_development_ratio` 和 `research_and_development_proportion`。`research_and_development_ratio` 函数使用给定的数据计算出研发人员比率,`research_and_development_proportion` 函数使用 `year_report` 对象计算出2019年研发人员占职工人数比例,并将结果输出到控制台上。\n"
     ]
    }
   ],
   "source": [
    "inputs = {'text':prompt, 'history': []}\n",
    "result = pipe(inputs)\n",
    "# inputs = {'text':'介绍下清华大学', 'history': result['history']}\n",
    "# result = pipe(inputs)\n",
    "print(result['response'])"
   ]
  },
  {
   "cell_type": "code",
   "execution_count": 69,
   "id": "554eaa72-edfe-4786-97ec-bfafb006f5ac",
   "metadata": {
    "collapsed": true,
    "jupyter": {
     "outputs_hidden": true
    },
    "tags": []
   },
   "outputs": [
    {
     "ename": "NameError",
     "evalue": "name 'year_report' is not defined",
     "output_type": "error",
     "traceback": [
      "\u001b[0;31m---------------------------------------------------------------------------\u001b[0m",
      "\u001b[0;31mNameError\u001b[0m                                 Traceback (most recent call last)",
      "Cell \u001b[0;32mIn[69], line 1\u001b[0m\n\u001b[0;32m----> 1\u001b[0m \u001b[43mexec\u001b[49m\u001b[43m(\u001b[49m\u001b[43mre\u001b[49m\u001b[38;5;241;43m.\u001b[39;49m\u001b[43mfindall\u001b[49m\u001b[43m(\u001b[49m\u001b[38;5;124;43m'\u001b[39;49m\u001b[38;5;124;43m```python([.\u001b[39;49m\u001b[38;5;124;43m\\\u001b[39;49m\u001b[38;5;124;43ms\u001b[39;49m\u001b[38;5;124;43m\\\u001b[39;49m\u001b[38;5;124;43mS]*?)```\u001b[39;49m\u001b[38;5;124;43m'\u001b[39;49m\u001b[43m,\u001b[49m\u001b[43mresult\u001b[49m\u001b[43m[\u001b[49m\u001b[38;5;124;43m'\u001b[39;49m\u001b[38;5;124;43mresponse\u001b[39;49m\u001b[38;5;124;43m'\u001b[39;49m\u001b[43m]\u001b[49m\u001b[43m,\u001b[49m\u001b[43mre\u001b[49m\u001b[38;5;241;43m.\u001b[39;49m\u001b[43mM\u001b[49m\u001b[43m)\u001b[49m\u001b[43m[\u001b[49m\u001b[38;5;241;43m0\u001b[39;49m\u001b[43m]\u001b[49m\u001b[38;5;241;43m.\u001b[39;49m\u001b[43mstrip\u001b[49m\u001b[43m(\u001b[49m\u001b[43m)\u001b[49m\u001b[43m)\u001b[49m\n",
      "File \u001b[0;32m<string>:14\u001b[0m\n",
      "\u001b[0;31mNameError\u001b[0m: name 'year_report' is not defined"
     ]
    }
   ],
   "source": [
    "exec(re.findall('```python([.\\s\\S]*?)```',result['response'],re.M)[0].strip())"
   ]
  },
  {
   "cell_type": "code",
   "execution_count": 70,
   "id": "c96bdc74-47d2-4244-9dbb-c1c19edf8286",
   "metadata": {
    "collapsed": true,
    "jupyter": {
     "outputs_hidden": true
    },
    "tags": []
   },
   "outputs": [
    {
     "name": "stdout",
     "output_type": "stream",
     "text": [
      "以下是计算华信新材在2019年的研发人员占职工人数比例的Python代码,保留2位小数:\n",
      "\n",
      "```python\n",
      "import math\n",
      "\n",
      "# 计算比例\n",
      "r = (400*13.75)/(400*13.75+2)*100\n",
      "\n",
      "# 输出结果,保留2位小数\n",
      "print(r, round(r, 2))\n",
      "```\n",
      "\n",
      "输出结果为:\n",
      "\n",
      "```\n",
      "13.80\n",
      "```\n",
      "\n",
      "因此,华信新材在2019年的研发人员占职工人数比例为13.80%。\n"
     ]
    }
   ],
   "source": [
    "inputs = {'text':prompt, 'history': []}\n",
    "result = pipe(inputs)\n",
    "# inputs = {'text':'介绍下清华大学', 'history': result['history']}\n",
    "# result = pipe(inputs)\n",
    "print(result['response'])"
   ]
  },
  {
   "cell_type": "code",
   "execution_count": 71,
   "id": "4a1728dd-a796-4664-b27d-309e1ccc093c",
   "metadata": {},
   "outputs": [
    {
     "name": "stdout",
     "output_type": "stream",
     "text": [
      "99.96364958197019 99.96\n"
     ]
    }
   ],
   "source": [
    "exec(re.findall('```python([.\\s\\S]*?)```',result['response'],re.M)[0].strip())"
   ]
  },
  {
   "cell_type": "code",
   "execution_count": null,
   "id": "09fb8e53-2653-49c0-ab41-83a7c1418772",
   "metadata": {},
   "outputs": [],
   "source": []
  },
  {
   "cell_type": "code",
   "execution_count": 72,
   "id": "1b580c4b-13c3-4759-adc5-2a900197e2ca",
   "metadata": {
    "collapsed": true,
    "jupyter": {
     "outputs_hidden": true
    },
    "tags": []
   },
   "outputs": [
    {
     "name": "stdout",
     "output_type": "stream",
     "text": [
      "以下是计算华信新材在2019年的研发人员占职工人数比例的Python代码,保留2位小数:\n",
      "\n",
      "```python\n",
      "import math\n",
      "\n",
      "# 计算研发人员占职工人数比例\n",
      "def research_and_development_ratio(employee_num, research_and_development_employee_num):\n",
      "    return (research_and_development_employee_num / employee_num) * 100\n",
      "\n",
      "# 带入数据\n",
      "employee_num = 400\n",
      "research_and_development_employee_num = 55\n",
      "\n",
      "# 计算比例\n",
      "ratio = research_and_development_ratio(employee_num, research_and_development_employee_num)\n",
      "\n",
      "# 输出结果,保留2位小数\n",
      "print(\"研究和发展人员占职工人数比例为{:.2f}%\".format(ratio))\n",
      "```\n",
      "\n",
      "输出结果为:\n",
      "\n",
      "```\n",
      "研究和发展人员占职工人数比例为 13.76%\n",
      "```\n",
      "\n",
      "因此,华信新材在2019年的研发人员占职工人数比例为13.76%。\n"
     ]
    }
   ],
   "source": [
    "inputs = {'text':prompt, 'history': []}\n",
    "result = pipe(inputs)\n",
    "# inputs = {'text':'介绍下清华大学', 'history': result['history']}\n",
    "# result = pipe(inputs)\n",
    "print(result['response'])"
   ]
  },
  {
   "cell_type": "code",
   "execution_count": 73,
   "id": "82bd24e3-27a4-4a20-b1bf-a756bfb8b7ed",
   "metadata": {},
   "outputs": [
    {
     "name": "stdout",
     "output_type": "stream",
     "text": [
      "研究和发展人员占职工人数比例为13.75%\n"
     ]
    }
   ],
   "source": [
    "exec(re.findall('```python([.\\s\\S]*?)```',result['response'],re.M)[0].strip())"
   ]
  },
  {
   "cell_type": "code",
   "execution_count": 74,
   "id": "888d201e-62a9-43ed-8b43-7b2d2619a39d",
   "metadata": {},
   "outputs": [],
   "source": [
    "prompt=\"\"\"【背景知识】\n",
    "证券全称:江苏华信新材料股份有限公司||证券简称:华信新材||证券代码:300717\n",
    "- 华信新材(全称:江苏华信新材料股份有限公司)的2019年报内容:\n",
    "信息来源为年度报告 。\n",
    " 职工人数为400 。\n",
    " 研发人员为55 。\n",
    " 研发人员比率为13.75 。\n",
    " 硕士人数为2 。\n",
    " 硕士以上人数为4 。\n",
    " 博士人数为2 。\n",
    " 博士以上人数为2。\n",
    "\n",
    "【提问】\n",
    "输出计算华信新材在2019年的研发人员占职工人数比例的python代码，保留2位小数。\"\"\""
   ]
  },
  {
   "cell_type": "code",
   "execution_count": 75,
   "id": "11ffba2e-3301-485f-a857-20d0d7c79e2d",
   "metadata": {
    "tags": []
   },
   "outputs": [
    {
     "name": "stdout",
     "output_type": "stream",
     "text": [
      "以下是计算华信新材在2019年的研发人员占职工人数比例的Python代码,保留2位小数:\n",
      "\n",
      "```python\n",
      "import math\n",
      "\n",
      "# 计算研发人员占职工人数比例\n",
      "def research_and_development_percentage(total_employee_num, research_and_development_num, employee_num):\n",
      "    return (research_and_development_num / total_employee_num) * 100\n",
      "\n",
      "# 带入数据\n",
      "total_employee_num = 400\n",
      "research_and_development_num = 55\n",
      "employee_num = 400\n",
      "\n",
      "# 计算比例\n",
      "research_and_development_percentage = research_and_development_percentage(total_employee_num, research_and_development_num, employee_num)\n",
      "\n",
      "# 输出结果,保留2位小数\n",
      "print(\"{:.2f}%\".format(research_and_development_percentage))\n",
      "```\n",
      "\n",
      "输出结果为:\n",
      "\n",
      "```\n",
      "0.1375\n",
      "```\n",
      "\n",
      "因此,华信新材在2019年的研发人员占职工人数比例为13.75%。\n"
     ]
    }
   ],
   "source": [
    "inputs = {'text':prompt, 'history': []}\n",
    "result = pipe(inputs)\n",
    "# inputs = {'text':'介绍下清华大学', 'history': result['history']}\n",
    "# result = pipe(inputs)\n",
    "print(result['response'])"
   ]
  },
  {
   "cell_type": "code",
   "execution_count": 76,
   "id": "19415056-ce7f-42f1-bb05-ccb0ca67dadd",
   "metadata": {},
   "outputs": [
    {
     "name": "stdout",
     "output_type": "stream",
     "text": [
      "13.75%\n"
     ]
    }
   ],
   "source": [
    "exec(re.findall('```python([.\\s\\S]*?)```',result['response'],re.M)[0].strip())"
   ]
  },
  {
   "cell_type": "code",
   "execution_count": null,
   "id": "630665fe-7073-420b-b351-9b0a3b685895",
   "metadata": {},
   "outputs": [],
   "source": []
  },
  {
   "cell_type": "code",
   "execution_count": null,
   "id": "d23a3c2e-201c-4ffe-83e7-0d55b742a587",
   "metadata": {},
   "outputs": [],
   "source": []
  },
  {
   "cell_type": "code",
   "execution_count": 77,
   "id": "4568a4d4-c3c4-4a08-bb74-ef489d31c64b",
   "metadata": {},
   "outputs": [],
   "source": [
    "prompt=\"\"\"【背景知识】\n",
    "证券全称:江苏华信新材料股份有限公司||证券简称:华信新材||证券代码:300717\n",
    "- 华信新材(全称:江苏华信新材料股份有限公司)的2019年报内容:\n",
    "信息来源为年度报告 。\n",
    " 职工人数为400 。\n",
    " 研发人员为55 。\n",
    " 研发人员比率为13.75 。\n",
    " 硕士人数为2 。\n",
    " 硕士以上人数为4 。\n",
    " 博士人数为2 。\n",
    " 博士以上人数为2。\n",
    "\n",
    "【提问】\n",
    "输出计算华信新材在2019年的研发人员占职工人数比例的python代码，保留2位小数，不需要百分比。\"\"\""
   ]
  },
  {
   "cell_type": "code",
   "execution_count": 78,
   "id": "94cb6ae7-f835-44f9-9e6d-fc36f30b862b",
   "metadata": {
    "tags": []
   },
   "outputs": [
    {
     "name": "stdout",
     "output_type": "stream",
     "text": [
      "以下是计算华信新材在2019年的研发人员占职工人数比例的Python代码:\n",
      "\n",
      "```python\n",
      "import math\n",
      "\n",
      "# 定义职工人数和研发人员人数\n",
      "employee_count = 400\n",
      "research_and_development_count = 55\n",
      "\n",
      "# 计算研发人员占职工人数比例\n",
      "ratio = research_and_development_count / employee_count\n",
      "\n",
      "# 将比例保留两位小数,并四舍五入到小数点后第二位\n",
      "ratio = round(ratio, 2)\n",
      "\n",
      "# 输出结果\n",
      "print(\"华信新材在2019年的研发人员占职工人数比例为:\", ratio)\n",
      "```\n",
      "\n",
      "输出结果为:\n",
      "\n",
      "```\n",
      "华信新材在2019年的研发人员占职工人数比例为: 13.80%\n",
      "```\n",
      "\n",
      "因此,华信新材在2019年的研发人员占职工人数比例为13.80%。\n"
     ]
    }
   ],
   "source": [
    "inputs = {'text':prompt, 'history': []}\n",
    "result = pipe(inputs)\n",
    "# inputs = {'text':'介绍下清华大学', 'history': result['history']}\n",
    "# result = pipe(inputs)\n",
    "print(result['response'])"
   ]
  },
  {
   "cell_type": "code",
   "execution_count": 79,
   "id": "12267506-4408-401d-8385-7b4b9ace35c4",
   "metadata": {},
   "outputs": [
    {
     "name": "stdout",
     "output_type": "stream",
     "text": [
      "华信新材在2019年的研发人员占职工人数比例为: 0.14\n"
     ]
    }
   ],
   "source": [
    "exec(re.findall('```python([.\\s\\S]*?)```',result['response'],re.M)[0].strip())"
   ]
  },
  {
   "cell_type": "code",
   "execution_count": null,
   "id": "355a6c1a-9195-467f-b699-b5d9d7b1eb09",
   "metadata": {},
   "outputs": [],
   "source": []
  },
  {
   "cell_type": "code",
   "execution_count": 80,
   "id": "048dad5f-3c81-42ad-8a2d-c8e2a78928db",
   "metadata": {
    "tags": []
   },
   "outputs": [
    {
     "name": "stdout",
     "output_type": "stream",
     "text": [
      "以下是计算华信新材在2019年研发人员占职工人数比例的Python代码:\n",
      "\n",
      "```python\n",
      "import math\n",
      "\n",
      "# 计算总人数\n",
      "total_employee = 400\n",
      "\n",
      "# 计算研发人员数量\n",
      "development_employee = 55\n",
      "\n",
      "# 计算研发人员比例\n",
      "research_and_development_ratio = development_employee / total_employee\n",
      "\n",
      "# 将比例保留2位小数,四舍五入到小数点后2位\n",
      "research_and_development_ratio = round(research_and_development_ratio, 2)\n",
      "\n",
      "print(\"华信新材在2019年的研发人员占职工人数比例为:\", research_and_development_ratio)\n",
      "```\n",
      "\n",
      "输出结果为:\n",
      "\n",
      "```\n",
      "华信新材在2019年的研发人员占职工人数比例为 13.85%\n",
      "```\n",
      "\n",
      "因此,华信新材在2019年的研发人员占职工人数比例为13.85%。\n"
     ]
    }
   ],
   "source": [
    "inputs = {'text':prompt, 'history': []}\n",
    "result = pipe(inputs)\n",
    "# inputs = {'text':'介绍下清华大学', 'history': result['history']}\n",
    "# result = pipe(inputs)\n",
    "print(result['response'])"
   ]
  },
  {
   "cell_type": "code",
   "execution_count": 81,
   "id": "05a0e601-8508-4284-9040-4cbcca29b133",
   "metadata": {},
   "outputs": [
    {
     "name": "stdout",
     "output_type": "stream",
     "text": [
      "华信新材在2019年的研发人员占职工人数比例为: 0.14\n"
     ]
    }
   ],
   "source": [
    "exec(re.findall('```python([.\\s\\S]*?)```',result['response'],re.M)[0].strip())"
   ]
  },
  {
   "cell_type": "code",
   "execution_count": null,
   "id": "18cca720-959f-40f5-b838-9cac415adafa",
   "metadata": {},
   "outputs": [],
   "source": []
  },
  {
   "cell_type": "code",
   "execution_count": null,
   "id": "7df16694-99c2-46f8-9be4-3c02bd184832",
   "metadata": {},
   "outputs": [],
   "source": []
  },
  {
   "cell_type": "code",
   "execution_count": null,
   "id": "0dbeb98a-3ef7-4949-95b4-04254c5c1688",
   "metadata": {},
   "outputs": [],
   "source": []
  },
  {
   "cell_type": "code",
   "execution_count": 82,
   "id": "322f564e-71f2-472b-9c04-c1471fcfb7eb",
   "metadata": {},
   "outputs": [],
   "source": [
    "prompt=\"\"\"【背景知识】\n",
    "证券全称:江苏华信新材料股份有限公司||证券简称:华信新材||证券代码:300717\n",
    "- 华信新材(全称:江苏华信新材料股份有限公司)的2019年报内容:\n",
    "信息来源为年度报告 。\n",
    " 职工人数为400 。\n",
    " 研发人员为55 。\n",
    " 研发人员比率为13.75 。\n",
    " 硕士人数为2 。\n",
    " 硕士以上人数为4 。\n",
    " 博士人数为2 。\n",
    " 博士以上人数为2。\n",
    "\n",
    "【提问】\n",
    "输出计算华信新材在2019年的研发人员占职工人数比例的python代码，保留2位小数，需要百分比。\"\"\""
   ]
  },
  {
   "cell_type": "code",
   "execution_count": 83,
   "id": "274f7880-2197-440b-9428-fac120b3f7d5",
   "metadata": {
    "collapsed": true,
    "jupyter": {
     "outputs_hidden": true
    },
    "tags": []
   },
   "outputs": [
    {
     "name": "stdout",
     "output_type": "stream",
     "text": [
      "以下是计算华信新材在2019年的研发人员占职工人数比例的Python代码,保留2位小数,需要百分比:\n",
      "\n",
      "```python\n",
      "import math\n",
      "\n",
      "# 计算研发人员占职工人数比例\n",
      "def research_and_development_person_ratio(total_employee_count, research_and_development_person_count):\n",
      "    return (research_and_development_person_count / total_employee_count) * 100.0\n",
      "\n",
      "# 带入数据\n",
      "total_employee_count = 400\n",
      "research_and_development_person_count = 55\n",
      "\n",
      "# 计算比例\n",
      "ratio = research_and_development_person_ratio(total_employee_count, research_and_development_person_count)\n",
      "\n",
      "# 输出结果,保留2位小数,需要百分比\n",
      "print(\"{:.2f}%\".format(ratio))\n",
      "```\n",
      "\n",
      "输出结果为:\n",
      "\n",
      "```\n",
      "13.82%\n",
      "```\n",
      "\n",
      "因此,华信新材在2019年的研发人员占职工人数比例为13.82%。\n"
     ]
    }
   ],
   "source": [
    "inputs = {'text':prompt, 'history': []}\n",
    "result = pipe(inputs)\n",
    "# inputs = {'text':'介绍下清华大学', 'history': result['history']}\n",
    "# result = pipe(inputs)\n",
    "print(result['response'])"
   ]
  },
  {
   "cell_type": "code",
   "execution_count": 84,
   "id": "eb516579-c1d7-4093-afd5-a47f83a0dd1e",
   "metadata": {},
   "outputs": [
    {
     "name": "stdout",
     "output_type": "stream",
     "text": [
      "13.75%\n"
     ]
    }
   ],
   "source": [
    "exec(re.findall('```python([.\\s\\S]*?)```',result['response'],re.M)[0].strip())"
   ]
  },
  {
   "cell_type": "code",
   "execution_count": null,
   "id": "91d40559-e0d6-45a4-a597-31a036ea73bb",
   "metadata": {},
   "outputs": [],
   "source": []
  },
  {
   "cell_type": "code",
   "execution_count": 85,
   "id": "deb73803-8b14-4326-8f23-3d814ed73516",
   "metadata": {
    "collapsed": true,
    "jupyter": {
     "outputs_hidden": true
    },
    "tags": []
   },
   "outputs": [
    {
     "name": "stdout",
     "output_type": "stream",
     "text": [
      "以下是计算华信新材在2019年的研发人员占职工人数比例的Python代码:\n",
      "\n",
      "```python\n",
      "import math\n",
      "\n",
      "# 计算总人数\n",
      "total_employee = 400\n",
      "\n",
      "# 计算研发人员数量\n",
      "research_and_development_employee = 55\n",
      "\n",
      "# 计算研发人员比例\n",
      "research_and_development_ratio = research_and_development_employee / total_employee\n",
      "\n",
      "# 将比例转换为百分比\n",
      "percentage = math.round(research_and_development_ratio * 100, 2)\n",
      "\n",
      "print(\"华信新材在2019年的研发人员占职工人数比例为{:.2f}%\".format(percentage))\n",
      "```\n",
      "\n",
      "输出结果为:\n",
      "\n",
      "```\n",
      "华信新材在2019年的研发人员占职工人数比例为 13.75%\n",
      "```\n",
      "\n",
      "因此,华信新材在2019年的研发人员占职工人数比例为13.75%。\n"
     ]
    }
   ],
   "source": [
    "inputs = {'text':prompt, 'history': []}\n",
    "result = pipe(inputs)\n",
    "# inputs = {'text':'介绍下清华大学', 'history': result['history']}\n",
    "# result = pipe(inputs)\n",
    "print(result['response'])"
   ]
  },
  {
   "cell_type": "code",
   "execution_count": 86,
   "id": "2bf276b3-65c2-4054-b741-9b250261dc97",
   "metadata": {
    "collapsed": true,
    "jupyter": {
     "outputs_hidden": true
    },
    "tags": []
   },
   "outputs": [
    {
     "ename": "AttributeError",
     "evalue": "module 'math' has no attribute 'round'",
     "output_type": "error",
     "traceback": [
      "\u001b[0;31m---------------------------------------------------------------------------\u001b[0m",
      "\u001b[0;31mAttributeError\u001b[0m                            Traceback (most recent call last)",
      "Cell \u001b[0;32mIn[86], line 1\u001b[0m\n\u001b[0;32m----> 1\u001b[0m \u001b[43mexec\u001b[49m\u001b[43m(\u001b[49m\u001b[43mre\u001b[49m\u001b[38;5;241;43m.\u001b[39;49m\u001b[43mfindall\u001b[49m\u001b[43m(\u001b[49m\u001b[38;5;124;43m'\u001b[39;49m\u001b[38;5;124;43m```python([.\u001b[39;49m\u001b[38;5;124;43m\\\u001b[39;49m\u001b[38;5;124;43ms\u001b[39;49m\u001b[38;5;124;43m\\\u001b[39;49m\u001b[38;5;124;43mS]*?)```\u001b[39;49m\u001b[38;5;124;43m'\u001b[39;49m\u001b[43m,\u001b[49m\u001b[43mresult\u001b[49m\u001b[43m[\u001b[49m\u001b[38;5;124;43m'\u001b[39;49m\u001b[38;5;124;43mresponse\u001b[39;49m\u001b[38;5;124;43m'\u001b[39;49m\u001b[43m]\u001b[49m\u001b[43m,\u001b[49m\u001b[43mre\u001b[49m\u001b[38;5;241;43m.\u001b[39;49m\u001b[43mM\u001b[49m\u001b[43m)\u001b[49m\u001b[43m[\u001b[49m\u001b[38;5;241;43m0\u001b[39;49m\u001b[43m]\u001b[49m\u001b[38;5;241;43m.\u001b[39;49m\u001b[43mstrip\u001b[49m\u001b[43m(\u001b[49m\u001b[43m)\u001b[49m\u001b[43m)\u001b[49m\n",
      "File \u001b[0;32m<string>:13\u001b[0m\n",
      "\u001b[0;31mAttributeError\u001b[0m: module 'math' has no attribute 'round'"
     ]
    }
   ],
   "source": [
    "exec(re.findall('```python([.\\s\\S]*?)```',result['response'],re.M)[0].strip())"
   ]
  },
  {
   "cell_type": "code",
   "execution_count": null,
   "id": "f8c19a42-863a-4cc6-a753-0b83152351a5",
   "metadata": {},
   "outputs": [],
   "source": []
  },
  {
   "cell_type": "code",
   "execution_count": 93,
   "id": "507e937b-9eb9-4f8c-8653-3096cda4b772",
   "metadata": {},
   "outputs": [],
   "source": [
    "prompt=\"\"\"【背景知识】\n",
    "证券全称:无锡雪浪环境科技股份有限公司||证券简称:雪浪环境||证券代码:300385\n",
    "- 雪浪环境(全称:无锡雪浪环境科技股份有限公司)的2019年报内容:\n",
    "信息来源为年度报告 。\n",
    " 职工人数为702 。\n",
    " 研发人员为172 。\n",
    " 研发人员比率为24.5 。\n",
    " 硕士人数为13 。\n",
    " 硕士以上人数为13。\n",
    "\n",
    "【提问】\n",
    "输出计算下面问题的python代码：雪浪环境2019年研发人员占职工人数的比例是多少?保留2位小数。\"\"\""
   ]
  },
  {
   "cell_type": "code",
   "execution_count": 95,
   "id": "8efd3a28-d926-4335-91f8-bf2ffc580996",
   "metadata": {},
   "outputs": [
    {
     "name": "stdout",
     "output_type": "stream",
     "text": [
      "首先，我们需要使用提供的雪浪环境2019年报数据，计算出研发人员占职工人数的比例。\n",
      "\n",
      "根据年报，雪浪环境2019年的职工人数为702人，研发人员为172人，硕士人数为13人，硕士以上人数为13人。\n",
      "\n",
      "我们可以使用以下公式来计算研发人员占职工人数的比例：\n",
      "\n",
      "研发人员占职工人数的比例 = (研发人员人数 ÷ 职工人数) × 100%\n",
      "\n",
      "将提供的数据代入公式中，得到：\n",
      "\n",
      "(172 ÷ 702) × 100% ≈ 22.05%\n",
      "\n",
      "因此，雪浪环境2019年研发人员占职工人数的比例约为22.05%。答案保留2位小数。\n"
     ]
    }
   ],
   "source": [
    "inputs = {'text':prompt, 'history': []}\n",
    "result = pipe(inputs)\n",
    "# inputs = {'text':'介绍下清华大学', 'history': result['history']}\n",
    "# result = pipe(inputs)\n",
    "print(result['response'])"
   ]
  },
  {
   "cell_type": "code",
   "execution_count": null,
   "id": "8492569c-14e9-4dad-89e1-f62a104ab0ff",
   "metadata": {},
   "outputs": [],
   "source": []
  },
  {
   "cell_type": "code",
   "execution_count": null,
   "id": "3c13caf1-65d4-4687-b675-7c16d604b219",
   "metadata": {},
   "outputs": [],
   "source": []
  },
  {
   "cell_type": "code",
   "execution_count": 96,
   "id": "bf383111-371b-4a51-b433-6eb8a645b3cd",
   "metadata": {},
   "outputs": [],
   "source": [
    "prompt=\"\"\"【背景知识】\n",
    "证券全称:无锡雪浪环境科技股份有限公司||证券简称:雪浪环境||证券代码:300385\n",
    "- 雪浪环境(全称:无锡雪浪环境科技股份有限公司)的2019年报内容:\n",
    "信息来源为年度报告 。\n",
    " 职工人数为702 。\n",
    " 研发人员为172 。\n",
    " 研发人员比率为24.5 。\n",
    " 硕士人数为13 。\n",
    " 硕士以上人数为13。\n",
    "\n",
    "【提问】\n",
    "雪浪环境2019年研发人员占职工人数的比例是多少?保留2位小数。输出计算上面问题的python代码\"\"\""
   ]
  },
  {
   "cell_type": "code",
   "execution_count": 97,
   "id": "c5f27d26-c2b7-44e8-bf40-7f379218c54f",
   "metadata": {},
   "outputs": [
    {
     "name": "stdout",
     "output_type": "stream",
     "text": [
      "以下是计算雪浪环境2019年研发人员占职工人数的比例的Python代码:\n",
      "\n",
      "```python\n",
      "# 计算雪浪环境2019年研发人员占职工人数的比例\n",
      "ratio = (172 / 702) * 100\n",
      "print(\"雪浪环境2019年研发人员占职工人数的比例为:\", ratio)\n",
      "```\n",
      "\n",
      "输出结果为:\n",
      "\n",
      "```\n",
      "雪浪环境2019年研发人员占职工人数的比例为: 24.52%\n",
      "```\n",
      "\n",
      "因此,雪浪环境2019年研发人员占职工人数的比例为24.52%。\n"
     ]
    }
   ],
   "source": [
    "inputs = {'text':prompt, 'history': []}\n",
    "result = pipe(inputs)\n",
    "# inputs = {'text':'介绍下清华大学', 'history': result['history']}\n",
    "# result = pipe(inputs)\n",
    "print(result['response'])"
   ]
  },
  {
   "cell_type": "code",
   "execution_count": 98,
   "id": "2b5d4688-a5d2-4c9a-9dbe-04f8b60562bd",
   "metadata": {},
   "outputs": [
    {
     "name": "stdout",
     "output_type": "stream",
     "text": [
      "雪浪环境2019年研发人员占职工人数的比例为: 24.501424501424502\n"
     ]
    }
   ],
   "source": [
    "# 计算雪浪环境2019年研发人员占职工人数的比例\n",
    "ratio = (172 / 702) * 100\n",
    "print(\"雪浪环境2019年研发人员占职工人数的比例为:\", ratio)"
   ]
  },
  {
   "cell_type": "code",
   "execution_count": null,
   "id": "24118d15-7571-4fc0-93d7-10e0c7d936c2",
   "metadata": {},
   "outputs": [],
   "source": []
  },
  {
   "cell_type": "code",
   "execution_count": null,
   "id": "35cebbda-1c5d-4ea7-99cb-c7587b239e08",
   "metadata": {},
   "outputs": [],
   "source": []
  },
  {
   "cell_type": "code",
   "execution_count": 106,
   "id": "a99b33a8-cd25-4e10-9af3-8fadc00f22fc",
   "metadata": {},
   "outputs": [],
   "source": [
    "prompt=\"\"\"【背景知识】\n",
    "证券全称:无锡雪浪环境科技股份有限公司||证券简称:雪浪环境||证券代码:300385\n",
    "- 雪浪环境(全称:无锡雪浪环境科技股份有限公司)的2019年报内容:\n",
    "信息来源为年度报告 。\n",
    " 职工人数为702 。\n",
    " 研发人员为172 。\n",
    " 研发人员比率为24.5 。\n",
    " 硕士人数为13 。\n",
    " 硕士以上人数为13。\n",
    "\n",
    "【提问】\n",
    "雪浪环境2019年研发人员占职工人数的比例是多少?输出计算上面问题的python代码，保留2位小数，不需要百分比\"\"\""
   ]
  },
  {
   "cell_type": "code",
   "execution_count": 107,
   "id": "0c6431bf-e126-4b0d-9276-8d727d90df8e",
   "metadata": {},
   "outputs": [
    {
     "name": "stdout",
     "output_type": "stream",
     "text": [
      "首先，根据给出的信息，我们需要计算出雪浪环境2019年研发人员占职工人数的比例。\n",
      "\n",
      "根据公式：比例 = 研发人员 / 职工人数，我们可以得出：\n",
      "\n",
      "比例 = 172 / 702 ≈ 0.2458\n",
      "\n",
      "所以，雪浪环境2019年研发人员占职工人数的比例约为24.58%。\n"
     ]
    }
   ],
   "source": [
    "inputs = {'text':prompt, 'history': []}\n",
    "result = pipe(inputs)\n",
    "# inputs = {'text':'介绍下清华大学', 'history': result['history']}\n",
    "# result = pipe(inputs)\n",
    "print(result['response'])"
   ]
  },
  {
   "cell_type": "code",
   "execution_count": 105,
   "id": "d6b51202-f0b1-4ede-8e24-e2ada1f1c23b",
   "metadata": {},
   "outputs": [
    {
     "name": "stdout",
     "output_type": "stream",
     "text": [
      "雪浪环境2019年研发人员占职工人数的比例为： 0.245014245014245\n"
     ]
    }
   ],
   "source": [
    "def research_and_development_ratio(total_employee_count, research_and_development_employee_count):\n",
    "    return research_and_development_employee_count / total_employee_count\n",
    "\n",
    "# 根据2019年报数据，代入公式计算\n",
    "total_employee_count = 702\n",
    "research_and_development_employee_count = 172\n",
    "\n",
    "ratio = research_and_development_ratio(total_employee_count, research_and_development_employee_count)\n",
    "\n",
    "# 输出结果，保留2位小数\n",
    "print(\"雪浪环境2019年研发人员占职工人数的比例为：\", ratio)"
   ]
  },
  {
   "cell_type": "code",
   "execution_count": null,
   "id": "949b7c63-f0c8-4558-9aa6-6b08651d2046",
   "metadata": {},
   "outputs": [],
   "source": []
  },
  {
   "cell_type": "code",
   "execution_count": 98,
   "id": "d8edf1a2-a3f4-4c8e-abea-16a590b25054",
   "metadata": {},
   "outputs": [
    {
     "name": "stdout",
     "output_type": "stream",
     "text": [
      "雪浪环境2019年研发人员占职工人数的比例为: 24.501424501424502\n"
     ]
    }
   ],
   "source": [
    "# 计算雪浪环境2019年研发人员占职工人数的比例\n",
    "ratio = (172 / 702) * 100\n",
    "print(\"雪浪环境2019年研发人员占职工人数的比例为:\", ratio)"
   ]
  },
  {
   "cell_type": "code",
   "execution_count": null,
   "id": "d295989e-98a8-413e-8a30-0641a9c4bac0",
   "metadata": {},
   "outputs": [],
   "source": []
  },
  {
   "cell_type": "code",
   "execution_count": null,
   "id": "cebc91d0-5c0f-4dbd-9701-37f4dbedf965",
   "metadata": {},
   "outputs": [],
   "source": []
  },
  {
   "cell_type": "code",
   "execution_count": null,
   "id": "d4467dd5-21a8-42fd-908e-185e7008b0f3",
   "metadata": {},
   "outputs": [],
   "source": []
  },
  {
   "cell_type": "code",
   "execution_count": null,
   "id": "9f43725a-3147-4685-ae87-c33b617922a1",
   "metadata": {},
   "outputs": [],
   "source": [
    "prompt=\"\"\"【背景知识】\n",
    "证券全称:江苏华信新材料股份有限公司||证券简称:华信新材||证券代码:300717\n",
    "- 华信新材(全称:江苏华信新材料股份有限公司)的2019年报内容:\n",
    "信息来源为年度报告 。\n",
    " 职工人数为400 。\n",
    " 研发人员为55 。\n",
    " 研发人员比率为13.75 。\n",
    " 硕士人数为2 。\n",
    " 硕士以上人数为4 。\n",
    " 博士人数为2 。\n",
    " 博士以上人数为2。\n",
    "\n",
    "【提问】\n",
    "输出计算华信新材在2019年的研发人员占职工人数比例的python代码，保留2位小数，需要百分比。\"\"\""
   ]
  },
  {
   "cell_type": "code",
   "execution_count": 108,
   "id": "0a386f40-6707-4727-b799-e0b5a7948272",
   "metadata": {},
   "outputs": [],
   "source": [
    "prompt=\"\"\"\n",
    "例子1：\n",
    "输入： “请问，雪浪环境2019年研发人员占职工人数的比例是多少?保留2位小数。”\n",
    "输出： “输出计算雪浪环境2019年研发人员占职工人数的比例的python代码，保留2位小数。”\n",
    "参考上面的例子格式改写下面的句子：华信新材在2019年的研发人员占职工人数比例是多少?请保留2位小数。。\n",
    "\"\"\""
   ]
  },
  {
   "cell_type": "code",
   "execution_count": 109,
   "id": "4051c4fb-bf4a-458b-99fc-ba26cefc8b65",
   "metadata": {},
   "outputs": [
    {
     "name": "stdout",
     "output_type": "stream",
     "text": [
      "华信新材在2019年的研发人员占职工人数比例为多少?请保留2位小数。\n"
     ]
    }
   ],
   "source": [
    "inputs = {'text':prompt, 'history': []}\n",
    "result = pipe(inputs)\n",
    "# inputs = {'text':'介绍下清华大学', 'history': result['history']}\n",
    "# result = pipe(inputs)\n",
    "print(result['response'])"
   ]
  },
  {
   "cell_type": "code",
   "execution_count": null,
   "id": "344e8bc6-3303-4e92-9ac4-cb87c6f74f9c",
   "metadata": {},
   "outputs": [],
   "source": []
  },
  {
   "cell_type": "code",
   "execution_count": null,
   "id": "c570bd21-485d-4712-8fd0-0516030d66ff",
   "metadata": {},
   "outputs": [],
   "source": []
  },
  {
   "cell_type": "code",
   "execution_count": 116,
   "id": "9e52f6d4-92ea-48a8-932e-d718b24cc03e",
   "metadata": {},
   "outputs": [],
   "source": [
    "prompt=\"\"\"参考下面的例子改写输入的句子。\n",
    "例子1：\n",
    "输入： “请问，雪浪环境2019年研发人员占职工人数的比例是多少?保留2位小数。”\n",
    "输出： “输出计算雪浪环境2019年研发人员占职工人数的比例的python代码，保留2位小数。”\n",
    "例子2：\n",
    "输入：“华信新材在2019年的研发人员占职工人数比例是多少?请保留2位小数。”\n",
    "输出：“输出计算华信新材在2019年的研发人员占职工人数比例的python代码，保留2位小数”\n",
    "改写下面的句子。\n",
    "输入：“三棵树在2019年的研发人员占职工人数的比例是多少？请保留两位小数。”\n",
    "输出：\n",
    "\"\"\""
   ]
  },
  {
   "cell_type": "code",
   "execution_count": 117,
   "id": "c6270795-5bee-4616-b3e2-cf5f73b40971",
   "metadata": {},
   "outputs": [
    {
     "name": "stdout",
     "output_type": "stream",
     "text": [
      "\"输出计算三棵树在2019年的研发人员占职工人数比例的Python代码,保留两位小数。\"\n"
     ]
    }
   ],
   "source": [
    "inputs = {'text':prompt, 'history': []}\n",
    "result = pipe(inputs)\n",
    "# inputs = {'text':'介绍下清华大学', 'history': result['history']}\n",
    "# result = pipe(inputs)\n",
    "print(result['response'])"
   ]
  },
  {
   "cell_type": "code",
   "execution_count": 118,
   "id": "802fdbe2-1ab3-4077-a907-15879dfe418d",
   "metadata": {},
   "outputs": [],
   "source": [
    "prompt=\"\"\"参考下面的例子改写输入的句子。\n",
    "例子1：\n",
    "输入： “请问，雪浪环境2019年研发人员占职工人数的比例是多少?保留2位小数。”\n",
    "输出： “输出计算雪浪环境2019年研发人员占职工人数的比例的python代码，保留2位小数。”\n",
    "例子2：\n",
    "输入：“华信新材在2019年的研发人员占职工人数比例是多少?请保留2位小数。”\n",
    "输出：“输出计算华信新材在2019年的研发人员占职工人数比例的python代码，保留2位小数”\n",
    "改写下面的句子。\n",
    "输入：“金堆城钼业股份有限公司在2019年中，研发人员占职工人数的比例是多少，结果请保留两位小数”\n",
    "输出：\n",
    "\"\"\""
   ]
  },
  {
   "cell_type": "code",
   "execution_count": 119,
   "id": "a56c4c8b-34c2-49ba-bec4-2c5e86d71125",
   "metadata": {},
   "outputs": [
    {
     "name": "stdout",
     "output_type": "stream",
     "text": [
      "\"请输出金堆城钼业股份有限公司在2019年中研发人员占职工人数比例的Python代码,保留两位小数。\"\n"
     ]
    }
   ],
   "source": [
    "inputs = {'text':prompt, 'history': []}\n",
    "result = pipe(inputs)\n",
    "# inputs = {'text':'介绍下清华大学', 'history': result['history']}\n",
    "# result = pipe(inputs)\n",
    "print(result['response'])"
   ]
  },
  {
   "cell_type": "code",
   "execution_count": 156,
   "id": "7c45ceea-e0ef-46b1-8e32-9cb15d1bb895",
   "metadata": {},
   "outputs": [],
   "source": [
    "prompt=\"\"\"【背景知识】\n",
    "证券全称:金堆城钼业股份有限公司||证券简称:金钼股份||证券代码:601958\n",
    "- 金钼股份(全称:金堆城钼业股份有限公司)的2019年报内容:\n",
    "信息来源为年度报告 。\n",
    " 职工人数为5360 。\n",
    " 研发人员为713 。\n",
    " 研发人员比率为13.3 。\n",
    " 硕士人数为186 。\n",
    " 硕士以上人数为186。\n",
    "\n",
    "【提问】\n",
    "请输出计算金堆城钼业股份有限公司在2019年中研发人员占职工人数比例的Python代码,结果保留两位小数。\"\"\""
   ]
  },
  {
   "cell_type": "code",
   "execution_count": 157,
   "id": "5ea70004-faa9-4e5c-918f-2843bd66dbea",
   "metadata": {
    "tags": []
   },
   "outputs": [
    {
     "name": "stdout",
     "output_type": "stream",
     "text": [
      "以下是一个简单的Python代码，用于计算金堆城钼业股份有限公司在2019年中研发人员占职工人数比例：\n",
      "```python\n",
      "import math\n",
      "\n",
      "def research_and_development_ratio(total_employee_count, research_and_development_employee_count, math_and_data_employee_count):\n",
      "    return (research_and_development_employee_count / total_employee_count) * 100\n",
      "\n",
      "total_employee_count = 5360\n",
      "research_and_development_employee_count = 713\n",
      "math_and_data_employee_count = 186\n",
      "\n",
      "ratio = research_and_development_ratio(total_employee_count, research_and_development_employee_count, math_and_data_employee_count)\n",
      "\n",
      "print(\"金堆城钼业股份有限公司在2019年中研发人员占职工人数比例为：\", ratio)\n",
      "```\n",
      "请注意，这个比例是相对于总员工人数的，所以请确保您已经将所有员工人数都考虑在内。\n"
     ]
    }
   ],
   "source": [
    "inputs = {'text':prompt, 'history': []}\n",
    "result = pipe(inputs)\n",
    "# inputs = {'text':'介绍下清华大学', 'history': result['history']}\n",
    "# result = pipe(inputs)\n",
    "print(result['response'])"
   ]
  },
  {
   "cell_type": "code",
   "execution_count": 158,
   "id": "aaa8d3d4-3d31-490b-a9c8-fdcb2f348836",
   "metadata": {},
   "outputs": [
    {
     "name": "stdout",
     "output_type": "stream",
     "text": [
      "金堆城钼业股份有限公司在2019年中研发人员占职工人数比例为： 13.302238805970148\n"
     ]
    }
   ],
   "source": [
    "exec(re.findall('```python([.\\s\\S]*?)```',result['response'],re.M)[0].strip())"
   ]
  },
  {
   "cell_type": "code",
   "execution_count": 159,
   "id": "296e0262-6747-478d-bd80-f7b060841af7",
   "metadata": {},
   "outputs": [
    {
     "name": "stdout",
     "output_type": "stream",
     "text": [
      "out: Something wrong with the code\n",
      "\n"
     ]
    }
   ],
   "source": [
    "import sys\n",
    "from io import StringIO\n",
    "import contextlib\n",
    "\n",
    "@contextlib.contextmanager\n",
    "def stdoutIO(stdout=None):\n",
    "    old = sys.stdout\n",
    "    if stdout is None:\n",
    "        stdout = StringIO()\n",
    "    sys.stdout = stdout\n",
    "    yield stdout\n",
    "    sys.stdout = old\n",
    "\n",
    "# code = \"\"\"\n",
    "# i = [0,1,2]\n",
    "# for j in i :\n",
    "#     print(j)\n",
    "# \"\"\"\n",
    "wrong_status = 0\n",
    "with stdoutIO() as s:\n",
    "    try:\n",
    "        exec(re.findall('```python([.\\s\\S]*?)迭代```',result['response'],re.M)[0].strip())\n",
    "    except:\n",
    "        wrong_status = 1\n",
    "        print(\"Something wrong with the code\")\n",
    "print(\"out:\", s.getvalue())"
   ]
  },
  {
   "cell_type": "code",
   "execution_count": 160,
   "id": "a14fd17e-1b21-4391-8365-98f569c6fde9",
   "metadata": {},
   "outputs": [
    {
     "data": {
      "text/plain": [
       "'Something wrong with the code\\n'"
      ]
     },
     "execution_count": 160,
     "metadata": {},
     "output_type": "execute_result"
    }
   ],
   "source": [
    "s.getvalue()"
   ]
  },
  {
   "cell_type": "code",
   "execution_count": 161,
   "id": "40cdeaef-9b26-46b7-b485-1fd910539ad6",
   "metadata": {},
   "outputs": [
    {
     "data": {
      "text/plain": [
       "0.15359477124183007"
      ]
     },
     "execution_count": 161,
     "metadata": {},
     "output_type": "execute_result"
    }
   ],
   "source": [
    "141/918"
   ]
  },
  {
   "cell_type": "code",
   "execution_count": 146,
   "id": "cf1db6b3-006a-4b7d-9bf3-c54052c9eaec",
   "metadata": {},
   "outputs": [],
   "source": [
    "prompt=\"\"\"【背景知识】\n",
    "证券全称:金堆城钼业股份有限公司||证券简称:金钼股份||证券代码:601958\n",
    "- 金钼股份(全称:金堆城钼业股份有限公司)的2019年报内容:\n",
    "信息来源为年度报告 。\n",
    " 职工人数为5360 。\n",
    " 研发人员为713 。\n",
    " 研发人员比率为13.3 。\n",
    " 硕士人数为186 。\n",
    " 硕士以上人数为186。\n",
    "\n",
    "【提问】\n",
    "请定义计算金堆城钼业股份有限公司在2019年中研发人员占职工人数比例的Python函数，函数返回值是计算出的结果，保留两位小数。\"\"\""
   ]
  },
  {
   "cell_type": "code",
   "execution_count": 147,
   "id": "e26ab35e-2f5b-4c8b-8c3f-a32c0f6f1f97",
   "metadata": {},
   "outputs": [
    {
     "name": "stdout",
     "output_type": "stream",
     "text": [
      "以下是一个Python函数，用于计算金堆城钼业股份有限公司在2019年中研发人员占职工人数比例：\n",
      "```python\n",
      "def calculate_reformance_rate(total_employee_count, research_and_development_employee_count, research_and_development_ratio):\n",
      "    reformance_rate = (research_and_development_ratio / 100) * total_employee_count\n",
      "    return round(reformance_rate, 2)\n",
      "```\n",
      "该函数的参数为：\n",
      "\n",
      "- `total_employee_count`：金堆城钼业股份有限公司2019年的总员工人数\n",
      "- `research_and_development_employee_count`：金堆城钼业股份有限公司2019年的研发人员人数\n",
      "- `research_and_development_ratio`：金堆城钼业股份有限公司2019年的研发人员比例\n",
      "\n",
      "函数使用以下公式计算研发人员占职工人数比例：\n",
      "\n",
      "```\n",
      "reformance_rate = (research_and_development_ratio / 100) * total_employee_count\n",
      "```\n",
      "\n",
      "函数将计算结果保留两位小数并返回。\n"
     ]
    }
   ],
   "source": [
    "inputs = {'text':prompt, 'history': []}\n",
    "result = pipe(inputs)\n",
    "# inputs = {'text':'介绍下清华大学', 'history': result['history']}\n",
    "# result = pipe(inputs)\n",
    "print(result['response'])"
   ]
  },
  {
   "cell_type": "code",
   "execution_count": 148,
   "id": "227b4306-5a94-4e66-a391-7bbd60c15349",
   "metadata": {},
   "outputs": [],
   "source": [
    "exec(re.findall('```python([.\\s\\S]*?)```',result['response'],re.M)[0].strip())"
   ]
  },
  {
   "cell_type": "code",
   "execution_count": null,
   "id": "a1e6b02e-6c92-4b4a-a6c2-f3e8679e1456",
   "metadata": {},
   "outputs": [],
   "source": []
  },
  {
   "cell_type": "markdown",
   "id": "d277cada-52ba-4f92-ba9a-0ead50dbcbb7",
   "metadata": {},
   "source": [
    "# 硕士占比"
   ]
  },
  {
   "cell_type": "code",
   "execution_count": 138,
   "id": "68818082-e5f0-4277-96f2-cd5cfb813a61",
   "metadata": {},
   "outputs": [],
   "source": [
    "prompt='【背景知识】\\n证券全称:宁波长阳科技股份有限公司||证券简称:长阳科技||证券代码:688299\\n- 长阳科技(全称:宁波长阳科技股份有限公司)的2019年报内容:\\n信息来源为年度报告 。\\n 职工人数为515 。\\n 研发人员为73 。\\n 研发人员比率为14.17 。\\n 硕士人数为21 。\\n 硕士以上人数为27 。\\n 博士人数为6 。\\n 博士以上人数为6。\\n\\n【提问】\\n长阳科技2019年企业硕士及以上人员占职工人数比例是多少?保留2位小数。\\n'"
   ]
  },
  {
   "cell_type": "code",
   "execution_count": 139,
   "id": "b80bb565-f1d6-4c1f-b43e-498982aec341",
   "metadata": {},
   "outputs": [
    {
     "name": "stdout",
     "output_type": "stream",
     "text": [
      "根据长阳科技2019年报，该公司的职工人数为515人，其中硕士人数为21人，硕士以上人数为27人，博士人数为6人。因此，长阳科技2019年企业硕士及以上人员占职工人数比例为：\n",
      "\n",
      "(21 + 27 + 6) / 515 ≈ 0.64\n",
      "\n",
      "保留2位小数，答案为0.64。\n"
     ]
    }
   ],
   "source": [
    "inputs = {'text':prompt, 'history': []}\n",
    "result = pipe(inputs)\n",
    "# inputs = {'text':'介绍下清华大学', 'history': result['history']}\n",
    "# result = pipe(inputs)\n",
    "print(result['response'])"
   ]
  },
  {
   "cell_type": "code",
   "execution_count": null,
   "id": "3bfd4eea-cad3-48eb-a78a-89f13ff89bac",
   "metadata": {},
   "outputs": [],
   "source": []
  },
  {
   "cell_type": "code",
   "execution_count": 140,
   "id": "309ecbe8-fb46-4208-847c-d868f54da593",
   "metadata": {},
   "outputs": [],
   "source": [
    "prompt='【背景知识】\\n证券全称:宁波长阳科技股份有限公司||证券简称:长阳科技||证券代码:688299\\n- 长阳科技(全称:宁波长阳科技股份有限公司)的2019年报内容:\\n信息来源为年度报告 。\\n 职工人数为515 。\\n 研发人员为73 。\\n 研发人员比率为14.17 。\\n 硕士人数为21 。\\n 硕士以上人数为27 。\\n 博士人数为6 。\\n 博士以上人数为6。\\n\\n【计算公式】企业硕士及以上人员占职工人数比例=(硕士人数 + 博士及以上人数)/职工总数\\n【提问】\\n长阳科技2019年企业硕士及以上人员占职工人数比例是多少?保留2位小数。\\n'"
   ]
  },
  {
   "cell_type": "code",
   "execution_count": 141,
   "id": "e74e69b3-28c5-4202-bda8-693d1fe565bf",
   "metadata": {},
   "outputs": [
    {
     "name": "stdout",
     "output_type": "stream",
     "text": [
      "根据题目给出的信息，我们需要计算长阳科技2019年企业硕士及以上人员占职工人数比例。根据公式，我们需要先计算出硕士及以上人数和职工总数。根据年度报告，长阳科技2019年的职工人数为515人，硕士人数为21人，博士人数为6人，博士以上人数为6人。因此，硕士及以上人数为21+6=27人，职工总数为515人。将这两个数代入公式，得到：\n",
      "\n",
      "企业硕士及以上人员占职工人数比例 = (硕士人数 + 博士及以上人数)/职工总数 = (21 + 6)/515 ≈ 0.0496\n",
      "\n",
      "因此，长阳科技2019年企业硕士及以上人员占职工人数比例约为0.0496，保留2位小数后为0.05。\n"
     ]
    }
   ],
   "source": [
    "inputs = {'text':prompt, 'history': []}\n",
    "result = pipe(inputs)\n",
    "# inputs = {'text':'介绍下清华大学', 'history': result['history']}\n",
    "# result = pipe(inputs)\n",
    "print(result['response'])"
   ]
  },
  {
   "cell_type": "code",
   "execution_count": null,
   "id": "638fe960-fc3a-45ac-95fb-8247467e502f",
   "metadata": {},
   "outputs": [],
   "source": []
  },
  {
   "cell_type": "code",
   "execution_count": null,
   "id": "180c1551-ede1-4df3-b13b-8d03b73f21d7",
   "metadata": {},
   "outputs": [],
   "source": []
  },
  {
   "cell_type": "code",
   "execution_count": 241,
   "id": "0cb6f608-049b-4f49-8ccc-fabe1a22fea4",
   "metadata": {},
   "outputs": [],
   "source": [
    "prompt='【背景知识】\\n证券全称:宁波长阳科技股份有限公司||证券简称:长阳科技||证券代码:688299\\n- 长阳科技(全称:宁波长阳科技股份有限公司)的2019年报内容:\\n信息来源为年度报告 。\\n 职工人数为515 。\\n 研发人员为73 。\\n 研发人员比率为14.17 。\\n 硕士人数为21 。\\n 硕士以上人数为27 。\\n 博士人数为6 。\\n 博士以上人数为6。\\n\\n【计算公式】企业硕士及以上人员占职工人数比例=(硕士人数 + 博士及以上人数)/职工总数\\n【提问】\\n输出计算长阳科技2019年企业硕士及以上人员占职工人数比例的python代码，结果保留两位小数且不要带百分号。\\n'"
   ]
  },
  {
   "cell_type": "code",
   "execution_count": 245,
   "id": "2d5a9593-4f3d-4180-8f76-dd7c01be1a7f",
   "metadata": {
    "tags": []
   },
   "outputs": [
    {
     "name": "stdout",
     "output_type": "stream",
     "text": [
      "以下是一个简单的Python程序，用于计算长阳科技2019年企业硕士及以上人员占职工人数比例，并保留两位小数，不带百分号：\n",
      "\n",
      "```python\n",
      "import math\n",
      "\n",
      "# 输入数据\n",
      "total_employee = 515\n",
      "secret_arbitrage_ratio = 0\n",
      "\n",
      "# 计算硕士及以上人员数量\n",
      "phd_count = 6\n",
      "master_count = 21\n",
      "total_count = phd_count + master_count\n",
      "\n",
      "# 计算比例\n",
      "ratio = (total_count - 1) / total_employee\n",
      "\n",
      "# 输出结果，保留两位小数，不带百分号\n",
      "print(\"长阳科技2019年企业硕士及以上人员占职工人数比例为{:.2f}%\".format(ratio))\n",
      "```\n",
      "\n",
      "请注意，如果您需要更复杂的计算，例如考虑到不同部门的比例，可能需要进一步处理数据。\n"
     ]
    }
   ],
   "source": [
    "inputs = {'text':prompt, 'history': []}\n",
    "result = pipe(inputs,temperature=0.7)\n",
    "# inputs = {'text':'介绍下清华大学', 'history': result['history']}\n",
    "# result = pipe(inputs)\n",
    "print(result['response'])"
   ]
  },
  {
   "cell_type": "code",
   "execution_count": 246,
   "id": "c50790d7-48c0-4863-b769-3efe62a29ea0",
   "metadata": {
    "tags": []
   },
   "outputs": [
    {
     "name": "stdout",
     "output_type": "stream",
     "text": [
      "长阳科技2019年企业硕士及以上人员占职工人数比例为0.05%\n"
     ]
    }
   ],
   "source": [
    "exec(re.findall('```python([.\\s\\S]*?)```',result['response'],re.M)[0].strip())"
   ]
  },
  {
   "cell_type": "code",
   "execution_count": 247,
   "id": "4db6edfc-c11d-4b0c-8ae7-0e67ca02ef36",
   "metadata": {},
   "outputs": [
    {
     "data": {
      "text/plain": [
       "0.05242718446601942"
      ]
     },
     "execution_count": 247,
     "metadata": {},
     "output_type": "execute_result"
    }
   ],
   "source": [
    "27/515"
   ]
  },
  {
   "cell_type": "code",
   "execution_count": null,
   "id": "6401f7e8-6ca7-41ad-b60b-7a6c329dfa02",
   "metadata": {},
   "outputs": [],
   "source": []
  },
  {
   "cell_type": "code",
   "execution_count": 204,
   "id": "96c314be-5693-4316-b146-1f7e979108b3",
   "metadata": {},
   "outputs": [],
   "source": [
    "prompt='【任务要求】\\n请按照以下的步骤和要求，回答提问：\\n第一，读取并理解【背景知识】。\\n第二，财务指标的增长率【背景知识】里已算好，直接取即可。\\n第三，整理你找到或计算出的数据。若涉及数字，请用纯数字。\\n第四，若回答需要计算，请明确并简洁地给出计算步骤。\\n第五，遵守小数点的要求，确保答案精确性。\\n第六，用中文表述并回答问题。\\n第七，涉及比率，请用百分比% 。\\n如果无法从中得到答案，请说 “根据已知信息无法回答该问题” 或 “没有提供足够的相关信息”。答案请使用中文。\\n【背景知识】\\n证券全称:杭州泰格医药科技股份有限公司||证券简称:泰格医药||证券代码:300347\\n- 泰格医药(全称:杭州泰格医药科技股份有限公司)的2019年报内容:\\n信息来源为年度报告 。\\n 职工人数为4959 。\\n 研发人员为4429 。\\n 研发人员比率为89.31 。\\n 硕士以上人数为1254。\\n\\n【提问】\\n2019年泰格医药企业硕士及以上人员占职工人数比例是多少?保留2位小数。\\n'"
   ]
  },
  {
   "cell_type": "code",
   "execution_count": 205,
   "id": "8511e5bd-dba3-4cbf-a8cf-197d1f2a7334",
   "metadata": {
    "tags": []
   },
   "outputs": [
    {
     "name": "stdout",
     "output_type": "stream",
     "text": [
      "根据给出的背景知识，2019年泰格医药企业硕士及以上人员占职工人数比例为1254 / 4959 ≈ 0.24，保留2位小数后为0.24。\n"
     ]
    }
   ],
   "source": [
    "inputs = {'text':prompt, 'history': []}\n",
    "result = pipe(inputs,temperature=0.7)\n",
    "# inputs = {'text':'介绍下清华大学', 'history': result['history']}\n",
    "# result = pipe(inputs)\n",
    "print(result['response'])"
   ]
  },
  {
   "cell_type": "code",
   "execution_count": 206,
   "id": "d370b8bb-af34-42a5-a0be-a7b4c1c77b88",
   "metadata": {
    "tags": []
   },
   "outputs": [
    {
     "ename": "IndexError",
     "evalue": "list index out of range",
     "output_type": "error",
     "traceback": [
      "\u001b[0;31m---------------------------------------------------------------------------\u001b[0m",
      "\u001b[0;31mIndexError\u001b[0m                                Traceback (most recent call last)",
      "Cell \u001b[0;32mIn[206], line 1\u001b[0m\n\u001b[0;32m----> 1\u001b[0m exec(\u001b[43mre\u001b[49m\u001b[38;5;241;43m.\u001b[39;49m\u001b[43mfindall\u001b[49m\u001b[43m(\u001b[49m\u001b[38;5;124;43m'\u001b[39;49m\u001b[38;5;124;43m```python([.\u001b[39;49m\u001b[38;5;124;43m\\\u001b[39;49m\u001b[38;5;124;43ms\u001b[39;49m\u001b[38;5;124;43m\\\u001b[39;49m\u001b[38;5;124;43mS]*?)```\u001b[39;49m\u001b[38;5;124;43m'\u001b[39;49m\u001b[43m,\u001b[49m\u001b[43mresult\u001b[49m\u001b[43m[\u001b[49m\u001b[38;5;124;43m'\u001b[39;49m\u001b[38;5;124;43mresponse\u001b[39;49m\u001b[38;5;124;43m'\u001b[39;49m\u001b[43m]\u001b[49m\u001b[43m,\u001b[49m\u001b[43mre\u001b[49m\u001b[38;5;241;43m.\u001b[39;49m\u001b[43mM\u001b[49m\u001b[43m)\u001b[49m\u001b[43m[\u001b[49m\u001b[38;5;241;43m0\u001b[39;49m\u001b[43m]\u001b[49m\u001b[38;5;241m.\u001b[39mstrip())\n",
      "\u001b[0;31mIndexError\u001b[0m: list index out of range"
     ]
    }
   ],
   "source": [
    "exec(re.findall('```python([.\\s\\S]*?)```',result['response'],re.M)[0].strip())"
   ]
  },
  {
   "cell_type": "code",
   "execution_count": 207,
   "id": "b6267216-bdc8-49ee-a72b-dbf74dbca232",
   "metadata": {},
   "outputs": [
    {
     "data": {
      "text/plain": [
       "0.25287356321839083"
      ]
     },
     "execution_count": 207,
     "metadata": {},
     "output_type": "execute_result"
    }
   ],
   "source": [
    "1254 / 4959"
   ]
  },
  {
   "cell_type": "code",
   "execution_count": null,
   "id": "e116f78f-d1b0-4569-8d12-68b7e249d953",
   "metadata": {},
   "outputs": [],
   "source": []
  },
  {
   "cell_type": "code",
   "execution_count": 214,
   "id": "c211fa6b-3da5-461d-a391-fcc6696b77d8",
   "metadata": {},
   "outputs": [],
   "source": [
    "prompt='【背景知识】\\n证券全称:杭州泰格医药科技股份有限公司||证券简称:泰格医药||证券代码:300347\\n- 泰格医药(全称:杭州泰格医药科技股份有限公司)的2019年报内容:\\n信息来源为年度报告 。\\n 职工人数为4959 。\\n 研发人员为4429 。\\n 研发人员比率为89.31 。\\n 硕士以上人数为1254。\\n\\n【计算公式】企业硕士及以上人员占职工人数比例=(硕士人数 + 博士及以上人数)/职工总数\\n【提问】\\n输出计算2019年泰格医药企业硕士及以上人员占职工人数比例的python代码，比例不要乘以100且要保留两位小数且不要带百分号。\\n'"
   ]
  },
  {
   "cell_type": "code",
   "execution_count": 217,
   "id": "b4c4b9cf-adfd-4a75-aec6-7804d5bc0cd7",
   "metadata": {
    "tags": []
   },
   "outputs": [
    {
     "name": "stdout",
     "output_type": "stream",
     "text": [
      "以下是计算2019年泰格医药企业硕士及以上人员占职工人数比例的Python代码:\n",
      "\n",
      "```python\n",
      "import math\n",
      "\n",
      "# 计算硕士及以上人员数\n",
      "master_degrees = 1254\n",
      "# 计算职工总数\n",
      "employee_count = 4959\n",
      "# 计算比例\n",
      "master_degrees_ratio = math.floor(master_degrees / employee_count * 100)\n",
      "# 输出结果,保留两位小数,不带百分号\n",
      "print(master_degrees_ratio)\n",
      "```\n",
      "\n",
      "输出结果为:\n",
      "\n",
      "```\n",
      "0.217722923529411\n",
      "```\n",
      "\n",
      "因此,2019年泰格医药企业硕士及以上人员占职工人数比例为0.217722923529411。\n"
     ]
    }
   ],
   "source": [
    "inputs = {'text':prompt, 'history': []}\n",
    "result = pipe(inputs,temperature=0.7)\n",
    "# inputs = {'text':'介绍下清华大学', 'history': result['history']}\n",
    "# result = pipe(inputs)\n",
    "print(result['response'])"
   ]
  },
  {
   "cell_type": "code",
   "execution_count": 218,
   "id": "77582bd1-9586-445a-b658-a37fe815c983",
   "metadata": {
    "tags": []
   },
   "outputs": [
    {
     "name": "stdout",
     "output_type": "stream",
     "text": [
      "25\n"
     ]
    }
   ],
   "source": [
    "exec(re.findall('```python([.\\s\\S]*?)```',result['response'],re.M)[0].strip())"
   ]
  },
  {
   "cell_type": "code",
   "execution_count": null,
   "id": "98e0684d-1baa-4ddf-a19c-a0e4db9da799",
   "metadata": {},
   "outputs": [],
   "source": []
  },
  {
   "cell_type": "code",
   "execution_count": 223,
   "id": "7517fedf-1e25-47fe-8aac-998c37b5eeb6",
   "metadata": {},
   "outputs": [],
   "source": [
    "prompt='【背景知识】\\n证券全称:杭州泰格医药科技股份有限公司||证券简称:泰格医药||证券代码:300347\\n- 泰格医药(全称:杭州泰格医药科技股份有限公司)的2019年报内容:\\n信息来源为年度报告 。\\n 职工人数为4959 。\\n 研发人员为4429 。\\n 研发人员比率为89.31 。\\n 硕士以上人数为1254。\\n\\n【计算公式】企业硕士及以上人员占职工人数比例=(硕士人数 + 博士及以上人数)/职工总数\\n【提问】\\n输出计算2019年泰格医药企业硕士及以上人员占职工人数比例的python代码，结果要保留两位小数且不要带百分号。\\n'"
   ]
  },
  {
   "cell_type": "code",
   "execution_count": 224,
   "id": "97eba3ae-a6a2-4650-a30f-d1cbd719bf3d",
   "metadata": {
    "tags": []
   },
   "outputs": [
    {
     "name": "stdout",
     "output_type": "stream",
     "text": [
      "以下是计算2019年泰格医药企业硕士及以上人员占职工人数比例的Python代码:\n",
      "\n",
      "```python\n",
      "import math\n",
      "\n",
      "# 计算硕士及以上人员数\n",
      "master_and_phd_count = 1254\n",
      "\n",
      "# 计算职工总数\n",
      "employee_count = 4959\n",
      "\n",
      "# 计算硕士及以上人员占职工人数比例\n",
      "硕士及以上_ratio = master_and_phd_count / employee_count\n",
      "\n",
      "# 输出结果,保留两位小数,不带百分号\n",
      "print(f\"{master_and_phd_count/employee_count:.2f}\")\n",
      "```\n",
      "\n",
      "输出结果为:\n",
      "\n",
      "```\n",
      "0.08931\n",
      "```\n",
      "\n",
      "因此,2019年泰格医药企业硕士及以上人员占职工人数比例为0.08931。\n"
     ]
    }
   ],
   "source": [
    "inputs = {'text':prompt, 'history': []}\n",
    "result = pipe(inputs,temperature=0.7)\n",
    "# inputs = {'text':'介绍下清华大学', 'history': result['history']}\n",
    "# result = pipe(inputs)\n",
    "print(result['response'])"
   ]
  },
  {
   "cell_type": "code",
   "execution_count": 225,
   "id": "e0e31030-46e0-40fd-b6f9-2de352f881c4",
   "metadata": {
    "tags": []
   },
   "outputs": [
    {
     "name": "stdout",
     "output_type": "stream",
     "text": [
      "0.25\n"
     ]
    }
   ],
   "source": [
    "exec(re.findall('```python([.\\s\\S]*?)```',result['response'],re.M)[0].strip())"
   ]
  },
  {
   "cell_type": "code",
   "execution_count": null,
   "id": "5a8d184b-aa53-43c8-9281-1d0e31c3df9d",
   "metadata": {},
   "outputs": [],
   "source": []
  },
  {
   "cell_type": "code",
   "execution_count": 222,
   "id": "2e8060c6-12b3-4333-835b-cebd72e09bd9",
   "metadata": {},
   "outputs": [
    {
     "data": {
      "text/plain": [
       "0.25287356321839083"
      ]
     },
     "execution_count": 222,
     "metadata": {},
     "output_type": "execute_result"
    }
   ],
   "source": [
    "1254/4959"
   ]
  },
  {
   "cell_type": "code",
   "execution_count": null,
   "id": "c312f498-9c99-4135-83ee-0701ddcae0d0",
   "metadata": {},
   "outputs": [],
   "source": []
  },
  {
   "cell_type": "code",
   "execution_count": null,
   "id": "230ae5c0-9d95-4c2c-8594-75df3e3b7a75",
   "metadata": {},
   "outputs": [],
   "source": []
  },
  {
   "cell_type": "code",
   "execution_count": null,
   "id": "be72a5dd-35fa-4ebe-9e57-ccc82f33a292",
   "metadata": {},
   "outputs": [],
   "source": [
    "exec(re.findall('```python([.\\s\\S]*?)```',result['response'],re.M)[0].strip())"
   ]
  },
  {
   "cell_type": "code",
   "execution_count": 114,
   "id": "c6e7d5f4-2bbe-438a-aa70-1f9a7cb120a5",
   "metadata": {},
   "outputs": [],
   "source": [
    "prompt=\"\"\"【背景知识】\n",
    "证券全称:江苏华信新材料股份有限公司||证券简称:华信新材||证券代码:300717\n",
    "- 华信新材(全称:江苏华信新材料股份有限公司)的2019年报内容:\n",
    "信息来源为年度报告 。\n",
    " 职工人数为400 。\n",
    " 研发人员为55 。\n",
    " 研发人员比率为13.75 。\n",
    " 硕士人数为2 。\n",
    " 硕士以上人数为4 。\n",
    " 博士人数为2 。\n",
    " 博士以上人数为2。\n",
    "\n",
    "【提问】\n",
    "输出计算华信新材在2019年研发人员占职工人数比例的Python代码,保留2位小数。\"\"\""
   ]
  },
  {
   "cell_type": "code",
   "execution_count": 115,
   "id": "ec892463-b434-4719-a02f-a7c30fd22441",
   "metadata": {},
   "outputs": [
    {
     "name": "stdout",
     "output_type": "stream",
     "text": [
      "以下是计算华信新材在2019年研发人员占职工人数比例的Python代码:\n",
      "\n",
      "```python\n",
      "import numpy as np\n",
      "\n",
      "# 根据年报数据,计算职工人数和研发人员人数\n",
      "employee_num = 400\n",
      "research_and_development_num = 55\n",
      "\n",
      "# 计算比例\n",
      "ratio = research_and_development_num / employee_num\n",
      "\n",
      "# 输出结果,保留2位小数\n",
      "print(ratio, round(ratio, 2))\n",
      "```\n",
      "\n",
      "输出结果为:\n",
      "\n",
      "```\n",
      "0.137 \n",
      "```\n",
      "\n",
      "因此,华信新材在2019年的研发人员占职工人数比例为13.7%。\n"
     ]
    }
   ],
   "source": [
    "inputs = {'text':prompt, 'history': []}\n",
    "result = pipe(inputs)\n",
    "# inputs = {'text':'介绍下清华大学', 'history': result['history']}\n",
    "# result = pipe(inputs)\n",
    "print(result['response'])"
   ]
  },
  {
   "cell_type": "raw",
   "id": "5c7ff55b-3178-43a6-bfda-ee593a475e78",
   "metadata": {},
   "source": [
    "输出计算华信新材在2019年的研发人员占职工人数比例的python代码，保留2位小数，需要百分比。"
   ]
  },
  {
   "cell_type": "code",
   "execution_count": null,
   "id": "89e03c95-00a3-4927-88e0-8f744591f059",
   "metadata": {},
   "outputs": [],
   "source": []
  },
  {
   "cell_type": "code",
   "execution_count": null,
   "id": "a1832192-4a15-4fde-ac39-9f550c3c91e8",
   "metadata": {},
   "outputs": [],
   "source": []
  },
  {
   "cell_type": "code",
   "execution_count": null,
   "id": "1cafaf62-81dc-446f-b9c1-9a0042dbd071",
   "metadata": {},
   "outputs": [],
   "source": []
  },
  {
   "cell_type": "code",
   "execution_count": null,
   "id": "e0ecf6e9-7be8-4e3c-84c6-c99ba5a579d6",
   "metadata": {},
   "outputs": [],
   "source": []
  },
  {
   "cell_type": "code",
   "execution_count": null,
   "id": "51a4f565-8bea-43e4-8ab0-0737e63a3505",
   "metadata": {},
   "outputs": [],
   "source": []
  },
  {
   "cell_type": "code",
   "execution_count": null,
   "id": "abe86e8f-a082-4b36-aafa-9a94443f830e",
   "metadata": {},
   "outputs": [],
   "source": []
  },
  {
   "cell_type": "code",
   "execution_count": null,
   "id": "fdfd2e91-056e-4975-9893-f86e08898ca1",
   "metadata": {},
   "outputs": [],
   "source": []
  },
  {
   "cell_type": "code",
   "execution_count": null,
   "id": "9e494fea-6188-4d7a-a735-2101994335f8",
   "metadata": {},
   "outputs": [],
   "source": []
  },
  {
   "cell_type": "code",
   "execution_count": 91,
   "id": "60ad7548-0898-493b-8c89-92c9b47d0f3b",
   "metadata": {
    "collapsed": true,
    "jupyter": {
     "outputs_hidden": true
    },
    "tags": []
   },
   "outputs": [
    {
     "name": "stdout",
     "output_type": "stream",
     "text": [
      "以下是计算华信新材在2019年的研发人员占职工人数比例的Python代码,保留2位小数,需要百分比:\n",
      "\n",
      "```python\n",
      "import math\n",
      "\n",
      "# 计算比例\n",
      "r = (2 / 400) * 100\n",
      "\n",
      "# 输出结果,保留2位小数,需要百分比\n",
      "print(r, round(r, 2))\n",
      "```\n",
      "\n",
      "输出结果为:\n",
      "\n",
      "```\n",
      "0.055555555556\n",
      "```\n",
      "\n",
      "因此,华信新材在2019年的研发人员占职工人数比例为5.56%。\n"
     ]
    }
   ],
   "source": [
    "inputs = {'text':prompt, 'history': []}\n",
    "result = pipe(inputs)\n",
    "# inputs = {'text':'介绍下清华大学', 'history': result['history']}\n",
    "# result = pipe(inputs)\n",
    "print(result['response'])"
   ]
  },
  {
   "cell_type": "code",
   "execution_count": 92,
   "id": "ee9fd434-be69-4877-b731-3c6c715f3e4f",
   "metadata": {},
   "outputs": [
    {
     "name": "stdout",
     "output_type": "stream",
     "text": [
      "0.5 0.5\n"
     ]
    }
   ],
   "source": [
    "exec(re.findall('```python([.\\s\\S]*?)```',result['response'],re.M)[0].strip())"
   ]
  },
  {
   "cell_type": "code",
   "execution_count": null,
   "id": "f4dc7619-4d73-44e6-98c4-f4291ff5c82a",
   "metadata": {},
   "outputs": [],
   "source": []
  },
  {
   "cell_type": "code",
   "execution_count": null,
   "id": "78985dad-72e2-410a-98a0-9f0070bf1164",
   "metadata": {},
   "outputs": [],
   "source": []
  },
  {
   "cell_type": "code",
   "execution_count": null,
   "id": "b3953f51-9b70-4aa3-a663-7aa15156a7f5",
   "metadata": {},
   "outputs": [],
   "source": []
  },
  {
   "cell_type": "code",
   "execution_count": null,
   "id": "ff3f9227-a787-49be-8701-b8fe7c6ccf53",
   "metadata": {},
   "outputs": [],
   "source": []
  },
  {
   "cell_type": "code",
   "execution_count": null,
   "id": "dd97a1dd-8b00-41ef-9efe-8827ab644984",
   "metadata": {},
   "outputs": [],
   "source": []
  },
  {
   "cell_type": "code",
   "execution_count": null,
   "id": "a7978c49-6883-4eee-9acf-e2be24e101cc",
   "metadata": {},
   "outputs": [],
   "source": []
  },
  {
   "cell_type": "code",
   "execution_count": 64,
   "id": "f898c147-ca08-418d-8fc1-d49a4b53542c",
   "metadata": {},
   "outputs": [],
   "source": [
    "tmp"
   ]
  },
  {
   "cell_type": "raw",
   "id": "6d93e754-9695-4b35-9ebb-911582245b7e",
   "metadata": {},
   "source": [
    "error1"
   ]
  },
  {
   "cell_type": "code",
   "execution_count": 40,
   "id": "ec8f5db0-cd35-48b5-abe4-2cfc553890f9",
   "metadata": {},
   "outputs": [
    {
     "ename": "TypeError",
     "evalue": "string indices must be integers",
     "output_type": "error",
     "traceback": [
      "\u001b[0;31m---------------------------------------------------------------------------\u001b[0m",
      "\u001b[0;31mTypeError\u001b[0m                                 Traceback (most recent call last)",
      "Cell \u001b[0;32mIn[40], line 40\u001b[0m\n\u001b[1;32m     34\u001b[0m report_data \u001b[38;5;241m=\u001b[39m {\n\u001b[1;32m     35\u001b[0m     \u001b[38;5;124m'\u001b[39m\u001b[38;5;124m营业收入\u001b[39m\u001b[38;5;124m'\u001b[39m: [\u001b[38;5;241m100000000.0\u001b[39m, \u001b[38;5;241m120000000.0\u001b[39m, \u001b[38;5;241m150000000.0\u001b[39m],\n\u001b[1;32m     36\u001b[0m     \u001b[38;5;124m'\u001b[39m\u001b[38;5;124m营业成本\u001b[39m\u001b[38;5;124m'\u001b[39m: [\u001b[38;5;241m80000000.0\u001b[39m, \u001b[38;5;241m70000000.0\u001b[39m, \u001b[38;5;241m60000000.0\u001b[39m]\n\u001b[1;32m     37\u001b[0m }\n\u001b[1;32m     39\u001b[0m \u001b[38;5;66;03m# 计算三个树在2019年的研发人员占职工人数的比例\u001b[39;00m\n\u001b[0;32m---> 40\u001b[0m tree1_revenue_revenue_percent \u001b[38;5;241m=\u001b[39m \u001b[43mcalculate_revenue_based_on_report_2\u001b[49m\u001b[43m(\u001b[49m\u001b[43mreport_data\u001b[49m\u001b[43m)\u001b[49m\n\u001b[1;32m     41\u001b[0m tree2_revenue_revenue_percent \u001b[38;5;241m=\u001b[39m calculate_revenue_based_on_report_2(report_data)\n\u001b[1;32m     42\u001b[0m tree3_revenue_revenue_percent \u001b[38;5;241m=\u001b[39m calculate_revenue_based_on_report_2(report_data)\n",
      "Cell \u001b[0;32mIn[40], line 17\u001b[0m, in \u001b[0;36mcalculate_revenue_based_on_report_2\u001b[0;34m(report_data)\u001b[0m\n\u001b[1;32m     15\u001b[0m expenses \u001b[38;5;241m=\u001b[39m \u001b[38;5;241m0\u001b[39m\n\u001b[1;32m     16\u001b[0m \u001b[38;5;28;01mfor\u001b[39;00m item \u001b[38;5;129;01min\u001b[39;00m report_data:\n\u001b[0;32m---> 17\u001b[0m     \u001b[38;5;28;01mif\u001b[39;00m \u001b[43mitem\u001b[49m\u001b[43m[\u001b[49m\u001b[38;5;124;43m'\u001b[39;49m\u001b[38;5;124;43mcolumn_name\u001b[39;49m\u001b[38;5;124;43m'\u001b[39;49m\u001b[43m]\u001b[49m \u001b[38;5;241m==\u001b[39m \u001b[38;5;124m'\u001b[39m\u001b[38;5;124m营业收入\u001b[39m\u001b[38;5;124m'\u001b[39m:\n\u001b[1;32m     18\u001b[0m         revenue \u001b[38;5;241m+\u001b[39m\u001b[38;5;241m=\u001b[39m \u001b[38;5;28mfloat\u001b[39m(item[\u001b[38;5;124m'\u001b[39m\u001b[38;5;124mvalue\u001b[39m\u001b[38;5;124m'\u001b[39m])\n\u001b[1;32m     19\u001b[0m     \u001b[38;5;28;01melif\u001b[39;00m item[\u001b[38;5;124m'\u001b[39m\u001b[38;5;124mcolumn_name\u001b[39m\u001b[38;5;124m'\u001b[39m] \u001b[38;5;241m==\u001b[39m \u001b[38;5;124m'\u001b[39m\u001b[38;5;124m营业成本\u001b[39m\u001b[38;5;124m'\u001b[39m:\n",
      "\u001b[0;31mTypeError\u001b[0m: string indices must be integers"
     ]
    }
   ],
   "source": [
    "import math\n",
    "\n",
    "def calculate_revenue_based_on_report(report_data):\n",
    "    revenue = 0\n",
    "    expenses = 0\n",
    "    for item in report_data:\n",
    "        if item['column_name'] == '营业收入':\n",
    "            revenue += float(item['value'])\n",
    "        elif item['column_name'] == '营业成本':\n",
    "            expenses += float(item['value'])\n",
    "    return revenue / expenses\n",
    "\n",
    "def calculate_revenue_based_on_report_2(report_data):\n",
    "    revenue = 0\n",
    "    expenses = 0\n",
    "    for item in report_data:\n",
    "        if item['column_name'] == '营业收入':\n",
    "            revenue += float(item['value'])\n",
    "        elif item['column_name'] == '营业成本':\n",
    "            expenses += float(item['value'])\n",
    "    return revenue / expenses\n",
    "\n",
    "def calculate_revenue_based_on_report_3(report_data):\n",
    "    revenue = 0\n",
    "    expenses = 0\n",
    "    for item in report_data:\n",
    "        if item['column_name'] == '营业收入':\n",
    "            revenue += float(item['value'])\n",
    "        elif item['column_name'] == '营业成本':\n",
    "            expenses += float(item['value'])\n",
    "    return revenue / expenses\n",
    "\n",
    "# 输入报告数据\n",
    "report_data = {\n",
    "    '营业收入': [100000000.0, 120000000.0, 150000000.0],\n",
    "    '营业成本': [80000000.0, 70000000.0, 60000000.0]\n",
    "}\n",
    "\n",
    "# 计算三个树在2019年的研发人员占职工人数的比例\n",
    "tree1_revenue_revenue_percent = calculate_revenue_based_on_report_2(report_data)\n",
    "tree2_revenue_revenue_percent = calculate_revenue_based_on_report_2(report_data)\n",
    "tree3_revenue_revenue_percent = calculate_revenue_based_on_report_2(report_data)\n",
    "\n",
    "# 输出结果\n",
    "print(\"树1在2019年的研发人员占职工人数的比例为:\", tree1_revenue_revenue_percent)\n",
    "print(\"树2在2019年的研发人员占职工人数的比例为:\", tree2_revenue_revenue_percent)\n",
    "print(\"树3在2019年的研发人员占职工人数的比例为:\", tree3_revenue_revenue_percent)"
   ]
  },
  {
   "cell_type": "code",
   "execution_count": null,
   "id": "1d6a9c2b-8e82-4d61-a7a2-84075f944121",
   "metadata": {},
   "outputs": [],
   "source": []
  },
  {
   "cell_type": "code",
   "execution_count": null,
   "id": "9a991dd2-f1b9-46a1-bfcb-a0112d85707b",
   "metadata": {},
   "outputs": [],
   "source": []
  },
  {
   "cell_type": "code",
   "execution_count": 36,
   "id": "4d8b9dcc-1d33-4c6b-a03f-4132616c7e2e",
   "metadata": {},
   "outputs": [
    {
     "ename": "SyntaxError",
     "evalue": "invalid character '。' (U+3002) (80854428.py, line 4)",
     "output_type": "error",
     "traceback": [
      "\u001b[0;36m  Cell \u001b[0;32mIn[36], line 4\u001b[0;36m\u001b[0m\n\u001b[0;31m    信息来源为年度报告。\u001b[0m\n\u001b[0m             ^\u001b[0m\n\u001b[0;31mSyntaxError\u001b[0m\u001b[0;31m:\u001b[0m invalid character '。' (U+3002)\n"
     ]
    }
   ],
   "source": [
    "import math\n",
    "\n",
    "# 雪浪环境2019年报内容\n",
    "信息来源为年度报告。\n",
    "职工人数为702。\n",
    "研发人员为172。\n",
    "研发人员比率为24.5。\n",
    "硕士人数为13。\n",
    "硕士以上人数为13。\n",
    "\n",
    "# 计算研发人员占职工人数的比例\n",
    "研发人员占比 = (研发人员 / 职工人数) * 100%\n",
    "\n",
    "# 输出计算结果,保留2位小数\n",
    "print(\"研发人员占比为{:.2f}%\".format(研发人员占比))"
   ]
  },
  {
   "cell_type": "code",
   "execution_count": null,
   "id": "ce4249a1-c1ea-4d38-85b7-e5d576a657f1",
   "metadata": {},
   "outputs": [],
   "source": []
  },
  {
   "cell_type": "code",
   "execution_count": null,
   "id": "3e15322d-409a-4c7a-bc99-14bbec76d32a",
   "metadata": {},
   "outputs": [],
   "source": []
  },
  {
   "cell_type": "code",
   "execution_count": null,
   "id": "14c7959b-d198-4e5f-bbc8-42ad463cae16",
   "metadata": {},
   "outputs": [],
   "source": []
  },
  {
   "cell_type": "code",
   "execution_count": 4,
   "id": "937c27ca-82ca-455d-87b8-97bf89f242a3",
   "metadata": {},
   "outputs": [
    {
     "name": "stdout",
     "output_type": "stream",
     "text": [
      "{'response': '2020年金宇生物技术股份有限公司的年报显示，公司在社会责任方面取得了显著的成绩。具体来说，公司通过加强环境管理，提高资源利用效率，降低生产过程中的污染排放，减少固体废弃物产生，提高废弃物资源化利用率，从而实现绿色生产。此外，公司还加大研发投入，推动新产品研发，提高产品质量和市场竞争力，提升客户满意度。同时，公司积极参与公益事业，为社会做出贡献。', 'history': [('能否根据2020年金宇生物技术股份有限公司的年报，给我简要介绍一下报告期内公司的社会责任工作情况？', '2020年金宇生物技术股份有限公司的年报显示，公司在社会责任方面取得了显著的成绩。具体来说，公司通过加强环境管理，提高资源利用效率，降低生产过程中的污染排放，减少固体废弃物产生，提高废弃物资源化利用率，从而实现绿色生产。此外，公司还加大研发投入，推动新产品研发，提高产品质量和市场竞争力，提升客户满意度。同时，公司积极参与公益事业，为社会做出贡献。')]}\n"
     ]
    }
   ],
   "source": [
    "inputs = {'text':'能否根据2020年金宇生物技术股份有限公司的年报，给我简要介绍一下报告期内公司的社会责任工作情况？', 'history': []}\n",
    "result = pipe(inputs)\n",
    "# inputs = {'text':'介绍下清华大学', 'history': result['history']}\n",
    "# result = pipe(inputs)\n",
    "print(result)"
   ]
  },
  {
   "cell_type": "code",
   "execution_count": 6,
   "id": "2a1a6690-4e2c-4337-994b-28accda9c364",
   "metadata": {},
   "outputs": [
    {
     "name": "stdout",
     "output_type": "stream",
     "text": [
      "研发费用是公司用于研发新产品、新技术或新业务的过程所需的费用,包括人员工资、材料费用、设备费用、专业人员费用、测试费用等。研发费用对公司的技术创新和竞争优势有着重要的影响,具体体现在以下方面:\n",
      "\n",
      "1. 技术创新:研发费用是公司进行技术创新的重要保障。公司需要投入大量的资金和人力资源,进行研发活动,以推动技术创新的发展。通过研发新产品或新技术,公司可以吸引更多的客户,提高市场占有率,同时也可以增加公司的竞争优势。\n",
      "\n",
      "2. 竞争优势:研发费用可以帮助公司建立竞争优势。通过投入研发费用,公司可以开发出更具竞争力的产品或技术,从而在市场上获得更高的市场份额。此外,研发费用还可以帮助公司保持技术创新的持续性和敏捷性,使其能够更好地适应市场的变化。\n",
      "\n",
      "3. 促进组织发展:研发费用还可以促进公司的组织发展。通过研发新产品或新技术,公司可以吸引更多的优秀人才,提高员工的技术水平和创新能力,从而推动公司的发展。\n",
      "\n",
      "4. 管理风险:研发费用也具有一定的风险管理作用。在研发过程中,公司需要投入大量的资金和人力资源,如果研发失败,可能会造成巨大的损失。通过合理的研发费用管理,公司可以降低研发失败的风险,同时也可以更好地控制研发的成本和进度。\n",
      "\n",
      "综上所述,研发费用对公司的技术创新和竞争优势具有重要的影响。通过合理的研发费用管理,公司可以最大化地发挥研发费用的价值,提高公司的创新能力和发展水平。\n"
     ]
    }
   ],
   "source": [
    "inputs = {'text':'研发费用对公司的技术创新和竞争优势有何影响？', 'history': []}\n",
    "result = pipe(inputs)\n",
    "# inputs = {'text':'介绍下清华大学', 'history': result['history']}\n",
    "# result = pipe(inputs)\n",
    "print(result['response'])"
   ]
  },
  {
   "cell_type": "code",
   "execution_count": 7,
   "id": "6573cdf2-8b22-4852-9f2f-1d684c750324",
   "metadata": {},
   "outputs": [],
   "source": [
    "template=\"简洁和专业的来回答用户的问题，在回答涉及数字的回复时，请用纯数字，若问题有要求小数点请遵守。如果无法从中得到答案，可以乱编或改写提问句子回复。答案请使用中文。 问题是：{question}.\""
   ]
  },
  {
   "cell_type": "code",
   "execution_count": 9,
   "id": "a7527cce-a8d8-4938-b4f0-aa1bf47f6b45",
   "metadata": {},
   "outputs": [
    {
     "name": "stdout",
     "output_type": "stream",
     "text": [
      "简洁和专业的来回答用户的问题，在回答涉及数字的回复时，请用纯数字，若问题有要求小数点请遵守。如果无法从中得到答案，可以乱编或改写提问句子回复。答案请使用中文。 问题是：研发费用对公司的技术创新和竞争优势有何影响？.\n",
      "研发费用对公司的技术创新和竞争优势具有重要的影响。通过投入研发费用,公司可以吸引和留住高水平的技术人才,推动技术创新,提升公司的核心竞争力。另外,研发费用还可以用于购置必要的设备和技术,提高生产效率和产品质量。在竞争激烈的市场环境中,拥有技术优势和创新能力的企业更容易获得市场份额和利润。\n"
     ]
    }
   ],
   "source": [
    "prompt = template.replace('{question}','研发费用对公司的技术创新和竞争优势有何影响？')\n",
    "inputs = {'text':prompt, 'history': []}\n",
    "result = pipe(inputs)\n",
    "# inputs = {'text':'介绍下清华大学', 'history': result['history']}\n",
    "# result = pipe(inputs)\n",
    "print(inputs['text'])\n",
    "print(result['response'])"
   ]
  },
  {
   "cell_type": "code",
   "execution_count": null,
   "id": "f0c16ea9-055e-442b-82ef-4f90f73f593e",
   "metadata": {},
   "outputs": [],
   "source": []
  },
  {
   "cell_type": "code",
   "execution_count": null,
   "id": "9b6b61e2-7fb5-4f58-aeb8-a70d5db15c67",
   "metadata": {},
   "outputs": [],
   "source": []
  },
  {
   "cell_type": "code",
   "execution_count": 10,
   "id": "6522ca96-915e-4756-ac7e-8065c69be9cf",
   "metadata": {},
   "outputs": [],
   "source": [
    "template2=\"简洁和专业的来回答用户的问题。 问题是：{question}.\""
   ]
  },
  {
   "cell_type": "code",
   "execution_count": 11,
   "id": "dd07e9cc-e301-4e6d-921e-4eaac1b7bb93",
   "metadata": {},
   "outputs": [
    {
     "name": "stdout",
     "output_type": "stream",
     "text": [
      "简洁和专业的来回答用户的问题。 问题是：研发费用对公司的技术创新和竞争优势有何影响？.\n",
      "研发费用对公司的技术创新和竞争优势具有重要的影响。\n",
      "\n",
      "研发费用是公司为开发新产品、改进现有产品或解决技术问题而投入的资源,包括研究费用、设计费用、开发费用和测试费用等。通过研发费用,公司可以吸引和留住高素质的工程师和研究人员,推动技术创新和提高公司的技术水平。这些投入也带来了一些直接和间接的好处,例如:\n",
      "\n",
      "1. 技术创新:通过研发费用,公司可以雇佣专业的研究员和工程师,开展创新性的研究项目。这些研究项目可以为公司开发出更具竞争力的产品和技术,从而提高公司的市场地位和行业竞争力。\n",
      "\n",
      "2. 竞争优势:通过研发费用,公司可以改善产品的性能和功能,提高产品的附加值。这有助于公司在市场上获得竞争优势,增加市场份额,提高盈利能力。\n",
      "\n",
      "3. 品牌价值:通过研发费用,公司可以推出具有创新性和独特性的产品,提高公司的品牌价值和知名度。这有助于吸引更多的客户和提高公司的市场地位。\n",
      "\n",
      "4. 风险承受能力:通过研发费用,公司可以承担更多的技术风险和开发成本,提高公司的风险承受能力和适应能力。\n",
      "\n",
      "研发费用是公司技术创新和竞争优势的重要支撑,通过合理的投入和明智的利用,可以帮助公司获得长期的健康发展。\n"
     ]
    }
   ],
   "source": [
    "prompt = template2.replace('{question}','研发费用对公司的技术创新和竞争优势有何影响？')\n",
    "inputs = {'text':prompt, 'history': []}\n",
    "result = pipe(inputs)\n",
    "# inputs = {'text':'介绍下清华大学', 'history': result['history']}\n",
    "# result = pipe(inputs)\n",
    "print(inputs['text'])\n",
    "print(result['response'])"
   ]
  },
  {
   "cell_type": "code",
   "execution_count": 16,
   "id": "446ea20d-e4b1-4d52-b267-6f5611c7c838",
   "metadata": {},
   "outputs": [],
   "source": [
    "template3 = \"{question}\""
   ]
  },
  {
   "cell_type": "code",
   "execution_count": 17,
   "id": "de2cbaf3-1e1b-4c13-b7f4-46768a7921a3",
   "metadata": {},
   "outputs": [
    {
     "name": "stdout",
     "output_type": "stream",
     "text": [
      "研发费用对公司的技术创新和竞争优势有何影响？\n",
      "研发费用是公司用于新产品或技术的开发、设计、测试和维护等方面的支出。研发费用对公司的技术创新和竞争优势具有重要的影响。\n",
      "\n",
      "一方面,研发费用可以促进公司的技术创新。通过投入大量的人力、物力和财力,公司可以吸引优秀的科技人才,推动公司科技创新,提升公司的技术水平和市场竞争力。\n",
      "\n",
      "另一方面,研发费用可以增强公司的竞争优势。在某些领域,研发费用可以使得公司在技术上比竞争对手更加成熟和领先,从而在市场上获得更大的份额和利润。\n",
      "\n",
      "然而,过高的研发费用也可能会对公司的财务状况产生负面影响。如果公司的研发费用过高,可能会导致利润率下降,净现金流减少,从而影响公司的财务状况。\n",
      "\n",
      "因此,公司应该在合理的范围内控制研发费用,以确保其能够实现技术创新和竞争优势,同时不会对公司的财务状况造成过大的负面影响。\n"
     ]
    }
   ],
   "source": [
    "prompt = template3.replace('{question}','研发费用对公司的技术创新和竞争优势有何影响？')\n",
    "inputs = {'text':prompt, 'history': []}\n",
    "result = pipe(inputs)\n",
    "# inputs = {'text':'介绍下清华大学', 'history': result['history']}\n",
    "# result = pipe(inputs)\n",
    "print(inputs['text'])\n",
    "print(result['response'])"
   ]
  },
  {
   "cell_type": "code",
   "execution_count": null,
   "id": "507e484f-7bc5-46c0-ae81-4096c50c10b8",
   "metadata": {},
   "outputs": [],
   "source": []
  },
  {
   "cell_type": "code",
   "execution_count": null,
   "id": "9bfaea8f-9108-47a3-9693-f79e8fd0ec64",
   "metadata": {},
   "outputs": [],
   "source": []
  },
  {
   "cell_type": "raw",
   "id": "dbfd5ff9-ecf2-4701-8041-e5bf6d2c5817",
   "metadata": {},
   "source": []
  },
  {
   "cell_type": "code",
   "execution_count": 7,
   "id": "16227fe5-415e-4d37-886f-e7dae8b1349a",
   "metadata": {},
   "outputs": [],
   "source": [
    "template=\"简洁和专业的来回答用户的问题，在回答涉及数字的回复时，请用纯数字，若问题有要求小数点请遵守。如果无法从中得到答案，可以乱编或改写提问句子回复。答案请使用中文。 问题是：{question}.\""
   ]
  },
  {
   "cell_type": "code",
   "execution_count": 12,
   "id": "46008dd3-9e20-4124-9a95-d53dd0407947",
   "metadata": {},
   "outputs": [
    {
     "name": "stdout",
     "output_type": "stream",
     "text": [
      "简洁和专业的来回答用户的问题，在回答涉及数字的回复时，请用纯数字，若问题有要求小数点请遵守。如果无法从中得到答案，可以乱编或改写提问句子回复。答案请使用中文。 问题是：合并财务报表的编制方法有哪些？.\n",
      "合并财务报表的编制方法包括:\n",
      "\n",
      "1. 直接法:将所有子公司的财务报表直接合并编制。\n",
      "\n",
      "2. 间接法:将所有子公司的财务报表汇总后再合并编制。\n",
      "\n",
      "3. 完全合并法:将所有子公司的财务报表进行必要的调整,使其能够直接合并编制。\n",
      "\n",
      "4. 差额合并法:将所有子公司的财务报表进行必要的调整,然后将差额合并。\n",
      "\n",
      "5. 权益法:通过权益法对子公司进行控制,并将其财务报表合并编制。\n",
      "\n",
      "在合并财务报表时,需要遵守一定的规定,例如会计政策、货币计量、披露要求等。如果需要进行合并财务报表的编制,请咨询专业人士或参考相关法规和标准。\n"
     ]
    }
   ],
   "source": [
    "prompt = template.replace('{question}','合并财务报表的编制方法有哪些？')\n",
    "inputs = {'text':prompt, 'history': []}\n",
    "result = pipe(inputs)\n",
    "# inputs = {'text':'介绍下清华大学', 'history': result['history']}\n",
    "# result = pipe(inputs)\n",
    "print(inputs['text'])\n",
    "print(result['response'])"
   ]
  },
  {
   "cell_type": "code",
   "execution_count": 20,
   "id": "7f5856f5-8d95-4070-9e15-3f74a9a862a4",
   "metadata": {},
   "outputs": [
    {
     "name": "stdout",
     "output_type": "stream",
     "text": [
      "简洁和专业的来回答用户的问题。 问题是：合并财务报表的编制方法有哪些？.\n",
      "合并财务报表的编制方法主要包括以下几种：\n",
      "\n",
      "1. 直接购买法：在购买方和被购买方之间直接进行财务报表的合并。这种方法适用于购买方和被购买方规模较小，且财务报表较为简单的情况。\n",
      "\n",
      "2. 间接购买法：在购买方和被购买方之间通过一个中介机构进行财务报表的合并。这种方法适用于购买方和被购买方规模较大，或者财务报表较为复杂的情况。\n",
      "\n",
      "3. 控股合并法：购买方通过控股另一个公司，从而实现对被购买方的控制。在控股合并法中，购买方的财务报表应包括被购买方的财务报表。\n",
      "\n",
      "4. 吸收合并法：购买方通过吸收被购买方的资产和负债，实现财务报表的合并。这种方法适用于购买方实力较强，而被购买方规模较小的情况。\n",
      "\n",
      "5. 合并报表法：购买方和被购买方在财务报表上合并成为一个新的实体，编制新的财务报表。这种方法适用于购买方和被购买方在财务报表上具有高度的相关性。\n",
      "\n",
      "在实际操作中，应根据购买方和被购买方的实际情况，选择合适的合并财务报表编制方法。\n"
     ]
    }
   ],
   "source": [
    "prompt = template2.replace('{question}','合并财务报表的编制方法有哪些？')\n",
    "inputs = {'text':prompt, 'history': []}\n",
    "result = pipe(inputs)\n",
    "# inputs = {'text':'介绍下清华大学', 'history': result['history']}\n",
    "# result = pipe(inputs)\n",
    "print(inputs['text'])\n",
    "print(result['response'])"
   ]
  },
  {
   "cell_type": "code",
   "execution_count": 18,
   "id": "79a495c6-6c04-4d35-811a-910e6a229e48",
   "metadata": {},
   "outputs": [
    {
     "name": "stdout",
     "output_type": "stream",
     "text": [
      "合并财务报表的编制方法有哪些？\n",
      "根据题目要求，合并财务报表的编制方法有哪些，我们可以通过查阅相关知识来得出答案。\n",
      "\n",
      "根据《企业会计准则》的规定，合并财务报表的编制方法有两种：\n",
      "\n",
      "1. 母子公司报表法：按照母子公司之间的控制关系，分别编制母公司报表和子公司报表，然后将母公司和子公司的报表合并形成合并报表。\n",
      "\n",
      "2. 权益性投资法：按照权益性投资关系，编制母公司报表和子公司报表，然后将母公司和子公司的报表合并形成合并报表。\n",
      "\n",
      "因此，合并财务报表的编制方法有两种：母子公司报表法和权益性投资法。\n"
     ]
    }
   ],
   "source": [
    "prompt = template3.replace('{question}','合并财务报表的编制方法有哪些？')\n",
    "inputs = {'text':prompt, 'history': []}\n",
    "result = pipe(inputs)\n",
    "# inputs = {'text':'介绍下清华大学', 'history': result['history']}\n",
    "# result = pipe(inputs)\n",
    "print(inputs['text'])\n",
    "print(result['response'])"
   ]
  },
  {
   "cell_type": "code",
   "execution_count": null,
   "id": "fbd9c3cf-98ea-474d-8f4e-8289bc77735f",
   "metadata": {},
   "outputs": [],
   "source": []
  },
  {
   "cell_type": "raw",
   "id": "9f49e116-6676-450f-8c59-b4a2473f9cdf",
   "metadata": {},
   "source": []
  },
  {
   "cell_type": "code",
   "execution_count": null,
   "id": "439429a8-c7dd-4726-ae6e-f9e72ebc8e3e",
   "metadata": {},
   "outputs": [
    {
     "name": "stdout",
     "output_type": "stream",
     "text": [
      "简洁和专业的来回答用户的问题，在回答涉及数字的回复时，请用纯数字，若问题有要求小数点请遵守。如果无法从中得到答案，可以乱编或改写提问句子回复。答案请使用中文。 问题是：财务杠杆和经营杠杆有什么区别？.\n",
      "财务杠杆和经营杠杆是两种不同的杠杆效应。\n",
      "\n",
      "财务杠杆是指公司通过借债来扩大资产规模,从而增加股东权益回报率的一种方式。在财务杠杆中,公司会将借来的资金用于投资和收购业务,而这些活动会产生利息和股息成本。财务杠杆的作用是提高公司收益的波动性,同时降低股东的门槛和权益回报率。\n",
      "\n",
      "经营杠杆则是指公司通过提高销售收入来扩大资产规模,从而增加股东权益回报率的一种方式。在经营杠杆中,公司会增加销售量和/或提高产品价格,从而增加收入和利润。经营杠杆的作用是提高公司的边际贡献和利润率,同时增加股东的权益回报率。\n",
      "\n",
      "因此,财务杠杆和经营杠杆的区别在于它们扩大资产规模的方式和影响股东权益的方式。\n"
     ]
    }
   ],
   "source": [
    "prompt = template.replace('{question}','财务杠杆和经营杠杆有什么区别？')\n",
    "inputs = {'text':prompt, 'history': []}\n",
    "result = pipe(inputs)\n",
    "# inputs = {'text':'介绍下清华大学', 'history': result['history']}\n",
    "# result = pipe(inputs)\n",
    "print(inputs['text'])\n",
    "print(result['response'])"
   ]
  },
  {
   "cell_type": "code",
   "execution_count": null,
   "id": "e9376a24-b558-4021-bac9-5085ca9c0c43",
   "metadata": {},
   "outputs": [
    {
     "name": "stdout",
     "output_type": "stream",
     "text": [
      "简洁和专业的来回答用户的问题。 问题是：财务杠杆和经营杠杆有什么区别？.\n",
      "财务杠杆和经营杠杆是两种不同的企业杠杆效应。\n",
      "\n",
      "财务杠杆是指企业通过债务融资来扩大经营规模和收益的一种财务手段。在财务杠杆中,企业债务的利息支出被加入到企业的净利润中,从而提高了企业的普通股股东的收益率。财务杠杆效应是指通过债务融资扩大经营规模和收益,从而提高企业普通股股东的收益率。\n",
      "\n",
      "经营杠杆则是指企业内部管理不善或产品或服务的定价不当,导致企业成本增加、销售收入下降,从而降低企业利润率的一种内部管理现象。经营杠杆效应是指由于企业内部管理不善或产品或服务的定价不当,导致企业成本增加、销售收入下降,从而降低企业利润率。\n",
      "\n",
      "因此,财务杠杆和经营杠杆是两种不同的企业杠杆效应,前者是指通过债务融资扩大经营规模和收益,后者是指由于企业内部管理不善或产品或服务的定价不当,导致企业成本增加、销售收入下降,从而降低企业利润率。\n"
     ]
    }
   ],
   "source": [
    "prompt = template2.replace('{question}','财务杠杆和经营杠杆有什么区别？')\n",
    "inputs = {'text':prompt, 'history': []}\n",
    "result = pipe(inputs)\n",
    "# inputs = {'text':'介绍下清华大学', 'history': result['history']}\n",
    "# result = pipe(inputs)\n",
    "print(inputs['text'])\n",
    "print(result['response'])"
   ]
  },
  {
   "cell_type": "code",
   "execution_count": null,
   "id": "fe28e104-fe8a-4d76-a3e3-e0f6eccfe74c",
   "metadata": {},
   "outputs": [
    {
     "name": "stdout",
     "output_type": "stream",
     "text": [
      "财务杠杆和经营杠杆有什么区别？\n",
      "财务杠杆和经营杠杆是两种不同的企业财务分析工具，它们各自有不同的作用。\n",
      "\n",
      "1. 经营杠杆：反映的是企业固定成本占总成本的比重，即固定成本占总成本的比重越大，则经营杠杆越大。经营杠杆系数=总成本/息税前利润，息税前利润是息税和前利润之和，总成本=固定成本+变动成本，固定成本包括折旧、工资等，变动成本包括原材料、销售费用等。\n",
      "\n",
      "2. 财务杠杆：反映的是企业固定成本占总成本的比重，即固定成本占总成本的比重越大，则财务杠杆越大。财务杠杆系数=息税前利润/（息税前利润-固定成本），息税前利润是息税和前利润之和，固定成本包括折旧、工资等，息税是利息和税金之和。\n",
      "\n",
      "经营杠杆和财务杠杆的区别在于，经营杠杆反映的是企业固定成本占总成本的比重，而财务杠杆反映的是企业固定成本占总成本的比重。经营杠杆系数是总成本/息税前利润，而财务杠杆系数是息税前利润/（息税前利润-固定成本）。\n"
     ]
    }
   ],
   "source": [
    "prompt = template3.replace('{question}','财务杠杆和经营杠杆有什么区别？')\n",
    "inputs = {'text':prompt, 'history': []}\n",
    "result = pipe(inputs)\n",
    "# inputs = {'text':'介绍下清华大学', 'history': result['history']}\n",
    "# result = pipe(inputs)\n",
    "print(inputs['text'])\n",
    "print(result['response'])"
   ]
  },
  {
   "cell_type": "code",
   "execution_count": null,
   "id": "8a5a3870-86ca-452f-868b-9618a1bbb3cc",
   "metadata": {},
   "outputs": [],
   "source": []
  },
  {
   "cell_type": "code",
   "execution_count": null,
   "id": "ff9b7796-b5b3-458c-b378-c88f1473fd18",
   "metadata": {},
   "outputs": [],
   "source": []
  },
  {
   "cell_type": "code",
   "execution_count": 25,
   "id": "5b312d06-1825-4fb1-984d-e947bfcd82fd",
   "metadata": {},
   "outputs": [],
   "source": [
    "question='资本公积金和盈余公积金对公司的股东权益和财务灵活性有何影响？'"
   ]
  },
  {
   "cell_type": "code",
   "execution_count": 26,
   "id": "3d2d3638-364b-4cd6-8a8c-c33049bc20f6",
   "metadata": {},
   "outputs": [
    {
     "name": "stdout",
     "output_type": "stream",
     "text": [
      "简洁和专业的来回答用户的问题，在回答涉及数字的回复时，请用纯数字，若问题有要求小数点请遵守。如果无法从中得到答案，可以乱编或改写提问句子回复。答案请使用中文。 问题是：资本公积金和盈余公积金对公司的股东权益和财务灵活性有何影响？.\n",
      "资本公积金和盈余公积金是公司净利润中用于补充公司资本和股东权益的公积金。它们对公司的股东权益和财务灵活性有以下影响：\n",
      "\n",
      "1. 影响股东权益：资本公积金用于公司增资扩股，增加公司股本，从而增加股东的权益。而盈余公积金则是公司净利润的一部分，用于储备和扩大公司经营，从而增加公司的灵活性和稳定性。\n",
      "\n",
      "2. 影响财务灵活性：资本公积金的增加可以增加公司的股本，从而提高公司的融资能力，使其更能够应对市场风险和扩大业务规模。而盈余公积金则可以用于公司的经营和扩张，从而提高公司的盈利能力和财务灵活性。\n",
      "\n",
      "3. 影响公司治理：公司可以利用资本公积金来增加股本，从而提高公司在市场上的地位和竞争力。而盈余公积金的储备也可以增强公司治理结构的健康性和可持续性。\n",
      "\n",
      "总之，资本公积金和盈余公积金对公司的股东权益、财务灵活性和治理结构都具有重要影响。\n"
     ]
    }
   ],
   "source": [
    "prompt = template.replace('{question}',question)\n",
    "inputs = {'text':prompt, 'history': []}\n",
    "result = pipe(inputs)\n",
    "# inputs = {'text':'介绍下清华大学', 'history': result['history']}\n",
    "# result = pipe(inputs)\n",
    "print(inputs['text'])\n",
    "print(result['response'])"
   ]
  },
  {
   "cell_type": "code",
   "execution_count": 27,
   "id": "f252a0c6-ff2c-4460-9e2c-7127996773eb",
   "metadata": {},
   "outputs": [
    {
     "name": "stdout",
     "output_type": "stream",
     "text": [
      "简洁和专业的来回答用户的问题。 问题是：资本公积金和盈余公积金对公司的股东权益和财务灵活性有何影响？.\n",
      "资本公积金和盈余公积金是公司净利润中不同部分的公积金形式。它们对公司的股东权益和财务灵活性产生了不同的影响。\n",
      "\n",
      "资本公积金主要用于公司的股权融资，例如发行股票或进行并购等。资本公积金的增加可以帮助公司扩大资本规模，提高公司的市场竞争力。此外，资本公积金还可以用于公司的内部员工股权激励计划，从而增强员工的归属感和忠诚度。\n",
      "\n",
      "盈余公积金则是公司净利润中的一部分，主要用于公司内部职工福利和风险应对。盈余公积金的增加可以帮助公司提高内部员工的福利待遇，减少公司的风险承受能力。\n",
      "\n",
      "总的来说，资本公积金主要关注公司的财务灵活性和市场竞争力，而盈余公积金则主要关注公司的内部管理和员工福利。\n"
     ]
    }
   ],
   "source": [
    "prompt = template2.replace('{question}',question)\n",
    "inputs = {'text':prompt, 'history': []}\n",
    "result = pipe(inputs)\n",
    "# inputs = {'text':'介绍下清华大学', 'history': result['history']}\n",
    "# result = pipe(inputs)\n",
    "print(inputs['text'])\n",
    "print(result['response'])"
   ]
  },
  {
   "cell_type": "code",
   "execution_count": 28,
   "id": "1baa2525-8636-409a-9c47-5edfe11ea7db",
   "metadata": {},
   "outputs": [
    {
     "name": "stdout",
     "output_type": "stream",
     "text": [
      "资本公积金和盈余公积金对公司的股东权益和财务灵活性有何影响？\n",
      "资本公积金和盈余公积金是公司利润留存的不同形式，它们对公司的股东权益和财务灵活性产生了一定的影响。\n",
      "\n",
      "1. 股东权益：\n",
      "\n",
      "资本公积金主要来源于公司的股本溢价，即超过股票面值的部分。资本公积金用于增加公司股本、扩大生产经营规模等。因此，资本公积金的增加会增加股东的权益，提高每股收益。\n",
      "\n",
      "盈余公积金则是公司历年实现的净利润留存部分。盈余公积金的增加意味着公司历年盈利留存比例的提高，进而可以提高公司的每股收益，对股东权益产生积极影响。\n",
      "\n",
      "2. 财务灵活性：\n",
      "\n",
      "资本公积金的增加可能会降低公司的短期偿债能力，因为资本公积金是公司的长期资金，相对而言，偿还长期债务的压力较小。但是，这也会增加公司的长期偿债能力，有利于公司未来的发展。\n",
      "\n",
      "盈余公积金的增加可以提高公司的净利润，进而提高每股收益，但是，这并不直接影响公司的短期偿债能力。然而，盈余公积金的增加也可能意味着公司历年的盈利留存比例较高，公司的短期资金需求可能受到一定程度的限制，从而影响公司的财务灵活性。\n",
      "\n",
      "总的来说，资本公积金和盈余公积金对公司的股东权益和财务灵活性产生了一定影响。具体而言，资本公积金的增加对股东权益有积极影响，而盈余公积金的增加则更多地影响公司的财务灵活性。然而，这些影响因公司具体情况而异，投资者在分析公司时需要充分了解公司的财务状况、业务模式和未来发展战略等因素。\n"
     ]
    }
   ],
   "source": [
    "prompt = template3.replace('{question}',question)\n",
    "inputs = {'text':prompt, 'history': []}\n",
    "result = pipe(inputs)\n",
    "# inputs = {'text':'介绍下清华大学', 'history': result['history']}\n",
    "# result = pipe(inputs)\n",
    "print(inputs['text'])\n",
    "print(result['response'])"
   ]
  },
  {
   "cell_type": "code",
   "execution_count": null,
   "id": "df2a5547-8525-4551-8bc6-917466af3507",
   "metadata": {},
   "outputs": [],
   "source": []
  },
  {
   "cell_type": "code",
   "execution_count": 29,
   "id": "f9737f39-5574-4d7b-9d80-7ccd9d394d70",
   "metadata": {},
   "outputs": [],
   "source": [
    "question='合营安排的分类及共同经营的会计处理方法是什么？'"
   ]
  },
  {
   "cell_type": "code",
   "execution_count": 30,
   "id": "fa7bd951-fec4-4adf-93f0-0aedc24791b8",
   "metadata": {},
   "outputs": [
    {
     "name": "stdout",
     "output_type": "stream",
     "text": [
      "简洁和专业的来回答用户的问题，在回答涉及数字的回复时，请用纯数字，若问题有要求小数点请遵守。如果无法从中得到答案，可以乱编或改写提问句子回复。答案请使用中文。 问题是：合营安排的分类及共同经营的会计处理方法是什么？.\n",
      "合营安排是指两个或多个非独立实体之间达成的合作安排，共同经营则是指两个或多个非独立实体之间共同经营企业。在会计处理方面，合营安排可以采用权益法或成本法进行分类处理。权益法是指合营方在企业中持有的股权比例与享有权益相对应，对企业的净利润进行核算；而成本法是指合营方在企业中持有的股权比例与享有成本相对应，对企业的净利润进行核算。共同经营的会计处理方法可以采用权益法或成本法进行分类核算，具体核算方法应根据实际情况进行选择。\n"
     ]
    }
   ],
   "source": [
    "prompt = template.replace('{question}',question)\n",
    "inputs = {'text':prompt, 'history': []}\n",
    "result = pipe(inputs)\n",
    "# inputs = {'text':'介绍下清华大学', 'history': result['history']}\n",
    "# result = pipe(inputs)\n",
    "print(inputs['text'])\n",
    "print(result['response'])"
   ]
  },
  {
   "cell_type": "code",
   "execution_count": 31,
   "id": "3947683b-0ae8-467e-bd5d-ac7dc1db14fe",
   "metadata": {},
   "outputs": [
    {
     "name": "stdout",
     "output_type": "stream",
     "text": [
      "简洁和专业的来回答用户的问题。 问题是：合营安排的分类及共同经营的会计处理方法是什么？.\n",
      "合营安排是指两个或更多个独立企业之间的合作关系，共同经营则是指这些企业共同协作经营一个业务或项目。在会计处理方面，合营安排可以采用以下两种方式：\n",
      "\n",
      "1. 共同经营企业法：共同经营企业法是指合营安排中两个或更多企业共同建立一个公司，共同经营业务。在共同经营企业法下，各方的利益和风险是相互关联的。各方的会计处理可以采用权益法，即将各方的利润和损失进行合并计算，最后再按照各自的出资比例进行分配。\n",
      "\n",
      "2. 合营企业法：合营企业法是指合营安排中两个或更多企业共同建立一个独立的法人实体，共同经营业务。在合营企业法下，各方的利益和风险是独立的。各方的会计处理可以采用成本法，即将各方的成本进行分摊，最终再按照各自的出资比例进行分配。\n",
      "\n",
      "总之，合营安排的分类及共同经营的会计处理方法可以根据实际情况进行选择，以达到最佳的财务效果。\n"
     ]
    }
   ],
   "source": [
    "prompt = template2.replace('{question}',question)\n",
    "inputs = {'text':prompt, 'history': []}\n",
    "result = pipe(inputs)\n",
    "# inputs = {'text':'介绍下清华大学', 'history': result['history']}\n",
    "# result = pipe(inputs)\n",
    "print(inputs['text'])\n",
    "print(result['response'])"
   ]
  },
  {
   "cell_type": "code",
   "execution_count": 32,
   "id": "cdca906a-683b-4677-ba50-b4b04b68e50f",
   "metadata": {},
   "outputs": [
    {
     "name": "stdout",
     "output_type": "stream",
     "text": [
      "合营安排的分类及共同经营的会计处理方法是什么？\n",
      "合营安排包括共同经营和其他合营安排。共同经营是指两个或两个以上的参与方共同控制一个企业，并分享企业利润和承担企业债务。其他合营安排则是指两个或两个以上的参与方共同控制一个企业，但不分享企业利润和承担企业债务。\n",
      "\n",
      "共同经营的会计处理方法是按照各参与方在共同经营中所占份额比例计算共同经营利润，按照所承担的份额比例分摊共同经营损失。具体会计处理如下：\n",
      "\n",
      "借：共同经营资产 共同经营负债 共同经营收入 共同经营费用\n",
      "\n",
      "贷：共同经营利润 共同经营损失 共同经营收益 共同经营费用\n",
      "\n",
      "其他合营安排的会计处理方法与共同经营类似，也是按照各参与方在合营安排中所占份额比例计算合营利润和分摊合营损失。具体会计处理如下：\n",
      "\n",
      "借：合营资产 合营负债 合营收入 合营费用\n",
      "\n",
      "贷：合营利润 合营损失 合营收益 合营费用\n"
     ]
    }
   ],
   "source": [
    "prompt = template3.replace('{question}',question)\n",
    "inputs = {'text':prompt, 'history': []}\n",
    "result = pipe(inputs)\n",
    "# inputs = {'text':'介绍下清华大学', 'history': result['history']}\n",
    "# result = pipe(inputs)\n",
    "print(inputs['text'])\n",
    "print(result['response'])"
   ]
  },
  {
   "cell_type": "code",
   "execution_count": null,
   "id": "9225ab20-6af5-4dd4-89c6-68c9a28f69c0",
   "metadata": {},
   "outputs": [],
   "source": []
  },
  {
   "cell_type": "code",
   "execution_count": null,
   "id": "80cb8aaf-75a7-4f01-b511-8539799a9f26",
   "metadata": {},
   "outputs": [],
   "source": []
  },
  {
   "cell_type": "code",
   "execution_count": null,
   "id": "a691a7ab-0cc3-4795-84a7-9d91c47ffde7",
   "metadata": {},
   "outputs": [],
   "source": []
  },
  {
   "cell_type": "code",
   "execution_count": null,
   "id": "b1a766aa-56ad-4f4e-8b02-57bd3da7b5b0",
   "metadata": {},
   "outputs": [],
   "source": []
  },
  {
   "cell_type": "code",
   "execution_count": null,
   "id": "e8911d05-f5fb-414f-a0dd-6259f975eef8",
   "metadata": {},
   "outputs": [],
   "source": []
  },
  {
   "cell_type": "code",
   "execution_count": null,
   "id": "a394d211-841a-4d7e-aa61-c52a9a689677",
   "metadata": {},
   "outputs": [],
   "source": []
  },
  {
   "cell_type": "code",
   "execution_count": null,
   "id": "f5c810b7-8950-4049-869d-954c92d1e022",
   "metadata": {},
   "outputs": [],
   "source": []
  },
  {
   "cell_type": "code",
   "execution_count": null,
   "id": "1b1f9e31-5c49-4be3-bb9c-09adda5e0e11",
   "metadata": {},
   "outputs": [],
   "source": []
  },
  {
   "cell_type": "code",
   "execution_count": null,
   "id": "41f62017-c47c-440b-8a8d-270d4fcc772d",
   "metadata": {},
   "outputs": [],
   "source": []
  },
  {
   "cell_type": "code",
   "execution_count": null,
   "id": "d0c5ae4d-9403-4f66-9c51-0eaaedc0ab75",
   "metadata": {},
   "outputs": [],
   "source": []
  },
  {
   "cell_type": "code",
   "execution_count": null,
   "id": "43ef470b-0b36-4326-93e4-d3c17c47f144",
   "metadata": {},
   "outputs": [],
   "source": []
  },
  {
   "cell_type": "code",
   "execution_count": null,
   "id": "60610ccd-3cfb-42c6-853a-0469a2a1005e",
   "metadata": {},
   "outputs": [],
   "source": []
  },
  {
   "cell_type": "code",
   "execution_count": 5,
   "id": "86b98655-8b39-4bf7-bfcc-90f151b9e12b",
   "metadata": {},
   "outputs": [],
   "source": [
    "import json\n",
    "import pandas as pd"
   ]
  },
  {
   "cell_type": "code",
   "execution_count": 8,
   "id": "b849058a-1f8d-42e0-8772-992a631fc98f",
   "metadata": {},
   "outputs": [],
   "source": [
    "test_data = []\n",
    "with open('/root/autodl-tmp/chatglm_llm_fintech_raw_dataset/test_questions.jsonl','rt',encoding='utf-8') as f:\n",
    "    for line in f:\n",
    "        one_data = json.loads(line.strip())\n",
    "        test_data.append(one_data)"
   ]
  },
  {
   "cell_type": "code",
   "execution_count": 9,
   "id": "1a39de69-e549-4a3e-8530-be6d16adcd6e",
   "metadata": {},
   "outputs": [
    {
     "data": {
      "text/plain": [
       "5000"
      ]
     },
     "execution_count": 9,
     "metadata": {},
     "output_type": "execute_result"
    }
   ],
   "source": [
    "len(test_data)"
   ]
  },
  {
   "cell_type": "code",
   "execution_count": 10,
   "id": "2f60ca47-d271-4ca8-a0c8-29c23f556ea9",
   "metadata": {},
   "outputs": [
    {
     "data": {
      "text/plain": [
       "{'id': 0, 'question': '能否根据2020年金宇生物技术股份有限公司的年报，给我简要介绍一下报告期内公司的社会责任工作情况？'}"
      ]
     },
     "execution_count": 10,
     "metadata": {},
     "output_type": "execute_result"
    }
   ],
   "source": [
    "test_data[0]"
   ]
  },
  {
   "cell_type": "code",
   "execution_count": 11,
   "id": "43f76e79-372d-4203-8c5a-ccbe7a301129",
   "metadata": {},
   "outputs": [],
   "source": [
    "from tqdm import tqdm"
   ]
  },
  {
   "cell_type": "code",
   "execution_count": 12,
   "id": "3e303802-0268-4108-b70c-a3bc2e2791c3",
   "metadata": {},
   "outputs": [
    {
     "name": "stderr",
     "output_type": "stream",
     "text": [
      "100%|██████████| 5000/5000 [3:51:38<00:00,  2.78s/it]   \n"
     ]
    }
   ],
   "source": [
    "test_data_answer = []\n",
    "for one in tqdm(test_data):\n",
    "    inputs = {'text':one['question'], 'history': []}\n",
    "    result = pipe(inputs)\n",
    "    test_data_answer.append({'id':one['id'],'question':one['question'],'answer':result})"
   ]
  },
  {
   "cell_type": "code",
   "execution_count": 13,
   "id": "4ecfdd37-095d-44f8-9d4a-4a430ae3c66e",
   "metadata": {},
   "outputs": [
    {
     "data": {
      "text/plain": [
       "5000"
      ]
     },
     "execution_count": 13,
     "metadata": {},
     "output_type": "execute_result"
    }
   ],
   "source": [
    "len(test_data_answer)"
   ]
  },
  {
   "cell_type": "code",
   "execution_count": 14,
   "id": "2e87ab45-5674-4393-a0ce-4ff10234341c",
   "metadata": {
    "collapsed": true,
    "jupyter": {
     "outputs_hidden": true
    },
    "tags": []
   },
   "outputs": [
    {
     "data": {
      "text/plain": [
       "{'id': 0,\n",
       " 'question': '能否根据2020年金宇生物技术股份有限公司的年报，给我简要介绍一下报告期内公司的社会责任工作情况？',\n",
       " 'answer': {'response': '2020年金宇生物技术股份有限公司的年报显示，公司在社会责任方面主要开展了以下工作：\\n\\n1. 疫情期间，公司通过电话、短信、网络等多种形式，提醒员工做好个人防护，避免前往疫情高风险区。同时，公司为员工每人无偿捐赠口罩1000个，为有需要的员工提供口罩平价渠道购买。此外，公司还通过在线办公、远程教育等措施，确保员工权益。\\n\\n2. 定期举办员工培训活动，提升员工技能水平。培训内容涵盖生物产品知识、质量管理、法律法规等方面，以提高员工的专业素质。\\n\\n3. 公司积极参与社会公益活动。2020年，公司通过向困难农村地区捐赠物资、为贫困地区学生捐赠学习用品等方式，助力我国贫困地区的发展。此外，公司还积极参与核酸检测工作，为疫情防控贡献力量。\\n\\n4. 加强环境管理，提高资源利用率。公司通过优化生产流程、提高资源利用率等措施，降低生产成本，减少废水、废气、废渣等排放，保护环境。\\n\\n5. 加强员工关怀，提高员工满意度。公司定期举办员工文化活动，提升员工凝聚力；并通过完善员工福利制度，提高员工的福利待遇。\\n\\n总之，2020年金宇生物技术股份有限公司在社会责任方面呈现出积极向上的态度，为我国的发展贡献了一份力量。',\n",
       "  'history': [('能否根据2020年金宇生物技术股份有限公司的年报，给我简要介绍一下报告期内公司的社会责任工作情况？',\n",
       "    '2020年金宇生物技术股份有限公司的年报显示，公司在社会责任方面主要开展了以下工作：\\n\\n1. 疫情期间，公司通过电话、短信、网络等多种形式，提醒员工做好个人防护，避免前往疫情高风险区。同时，公司为员工每人无偿捐赠口罩1000个，为有需要的员工提供口罩平价渠道购买。此外，公司还通过在线办公、远程教育等措施，确保员工权益。\\n\\n2. 定期举办员工培训活动，提升员工技能水平。培训内容涵盖生物产品知识、质量管理、法律法规等方面，以提高员工的专业素质。\\n\\n3. 公司积极参与社会公益活动。2020年，公司通过向困难农村地区捐赠物资、为贫困地区学生捐赠学习用品等方式，助力我国贫困地区的发展。此外，公司还积极参与核酸检测工作，为疫情防控贡献力量。\\n\\n4. 加强环境管理，提高资源利用率。公司通过优化生产流程、提高资源利用率等措施，降低生产成本，减少废水、废气、废渣等排放，保护环境。\\n\\n5. 加强员工关怀，提高员工满意度。公司定期举办员工文化活动，提升员工凝聚力；并通过完善员工福利制度，提高员工的福利待遇。\\n\\n总之，2020年金宇生物技术股份有限公司在社会责任方面呈现出积极向上的态度，为我国的发展贡献了一份力量。')]}}"
      ]
     },
     "execution_count": 14,
     "metadata": {},
     "output_type": "execute_result"
    }
   ],
   "source": [
    "test_data_answer[0]"
   ]
  },
  {
   "cell_type": "code",
   "execution_count": 18,
   "id": "d81f9840-3ed8-4253-acd1-b3b246102354",
   "metadata": {},
   "outputs": [],
   "source": [
    "with open('/root/autodl-tmp/chatglm_llm_fintech_raw_dataset/机器爱学习_result.json','wt',encoding='utf8') as f:\n",
    "    for one_answer in test_data_answer:\n",
    "        f.write(json.dumps(one_answer, ensure_ascii=False)+'\\n')"
   ]
  },
  {
   "cell_type": "code",
   "execution_count": 19,
   "id": "70408673-9b1b-48f3-80de-514aca80e52f",
   "metadata": {},
   "outputs": [
    {
     "name": "stdout",
     "output_type": "stream",
     "text": [
      "-rw-r--r-- 1 root root 5.5M 7月  28 21:22 /root/autodl-tmp/chatglm_llm_fintech_raw_dataset/机器爱学习_result.json\n"
     ]
    }
   ],
   "source": [
    "!ls -lh /root/autodl-tmp/chatglm_llm_fintech_raw_dataset/机器爱学习_result.json"
   ]
  },
  {
   "cell_type": "code",
   "execution_count": 21,
   "id": "7109f598-9a84-4c83-80c7-63817d8cc1ec",
   "metadata": {},
   "outputs": [
    {
     "data": {
      "text/plain": [
       "{'id': 0,\n",
       " 'question': '能否根据2020年金宇生物技术股份有限公司的年报，给我简要介绍一下报告期内公司的社会责任工作情况？',\n",
       " 'answer': {'response': '2020年金宇生物技术股份有限公司的年报显示，公司在社会责任方面主要开展了以下工作：\\n\\n1. 疫情期间，公司通过电话、短信、网络等多种形式，提醒员工做好个人防护，避免前往疫情高风险区。同时，公司为员工每人无偿捐赠口罩1000个，为有需要的员工提供口罩平价渠道购买。此外，公司还通过在线办公、远程教育等措施，确保员工权益。\\n\\n2. 定期举办员工培训活动，提升员工技能水平。培训内容涵盖生物产品知识、质量管理、法律法规等方面，以提高员工的专业素质。\\n\\n3. 公司积极参与社会公益活动。2020年，公司通过向困难农村地区捐赠物资、为贫困地区学生捐赠学习用品等方式，助力我国贫困地区的发展。此外，公司还积极参与核酸检测工作，为疫情防控贡献力量。\\n\\n4. 加强环境管理，提高资源利用率。公司通过优化生产流程、提高资源利用率等措施，降低生产成本，减少废水、废气、废渣等排放，保护环境。\\n\\n5. 加强员工关怀，提高员工满意度。公司定期举办员工文化活动，提升员工凝聚力；并通过完善员工福利制度，提高员工的福利待遇。\\n\\n总之，2020年金宇生物技术股份有限公司在社会责任方面呈现出积极向上的态度，为我国的发展贡献了一份力量。',\n",
       "  'history': [('能否根据2020年金宇生物技术股份有限公司的年报，给我简要介绍一下报告期内公司的社会责任工作情况？',\n",
       "    '2020年金宇生物技术股份有限公司的年报显示，公司在社会责任方面主要开展了以下工作：\\n\\n1. 疫情期间，公司通过电话、短信、网络等多种形式，提醒员工做好个人防护，避免前往疫情高风险区。同时，公司为员工每人无偿捐赠口罩1000个，为有需要的员工提供口罩平价渠道购买。此外，公司还通过在线办公、远程教育等措施，确保员工权益。\\n\\n2. 定期举办员工培训活动，提升员工技能水平。培训内容涵盖生物产品知识、质量管理、法律法规等方面，以提高员工的专业素质。\\n\\n3. 公司积极参与社会公益活动。2020年，公司通过向困难农村地区捐赠物资、为贫困地区学生捐赠学习用品等方式，助力我国贫困地区的发展。此外，公司还积极参与核酸检测工作，为疫情防控贡献力量。\\n\\n4. 加强环境管理，提高资源利用率。公司通过优化生产流程、提高资源利用率等措施，降低生产成本，减少废水、废气、废渣等排放，保护环境。\\n\\n5. 加强员工关怀，提高员工满意度。公司定期举办员工文化活动，提升员工凝聚力；并通过完善员工福利制度，提高员工的福利待遇。\\n\\n总之，2020年金宇生物技术股份有限公司在社会责任方面呈现出积极向上的态度，为我国的发展贡献了一份力量。')]}}"
      ]
     },
     "execution_count": 21,
     "metadata": {},
     "output_type": "execute_result"
    }
   ],
   "source": [
    "test_data_answer[0]"
   ]
  },
  {
   "cell_type": "code",
   "execution_count": 22,
   "id": "2b319247-86ed-455a-9227-fb18d24ec918",
   "metadata": {},
   "outputs": [],
   "source": [
    "submit_answer = []\n",
    "for one in test_data_answer:\n",
    "    submit_answer.append({'id' : one['id'], 'question': one['question'], 'answer': one['answer']['response']})"
   ]
  },
  {
   "cell_type": "code",
   "execution_count": 23,
   "id": "0c07c406-ac42-4026-9cc6-36812b2da679",
   "metadata": {},
   "outputs": [
    {
     "data": {
      "text/plain": [
       "5000"
      ]
     },
     "execution_count": 23,
     "metadata": {},
     "output_type": "execute_result"
    }
   ],
   "source": [
    "len(submit_answer)"
   ]
  },
  {
   "cell_type": "code",
   "execution_count": 24,
   "id": "9094fc97-01f6-4506-865f-f47d7751f153",
   "metadata": {},
   "outputs": [
    {
     "data": {
      "text/plain": [
       "{'id': 4999,\n",
       " 'question': '有友食品股份有限公司2021年应付职工薪酬是多少元?',\n",
       " 'answer': '根据题目所给的信息，有友食品股份有限公司在2021年应付职工薪酬的金额是多少呢？\\n\\n首先，我们需要知道有友食品股份有限公司2021年的净利润是多少。题目中没有给出具体的数字，但是我们知道，净利润与应付职工薪酬是有一定的关系的。因此，我们可以先计算出净利润。\\n\\n假设有友食品股份有限公司2021年的净利润为1000万元，那么其应付职工薪酬的金额应该是多少呢？根据题目中的信息，应付职工薪酬的100%应该等于净利润的100%。因此，应付职工薪酬的金额应该是1000万元的100%，即100万元。\\n\\n因此，有友食品股份有限公司2021年应付职工薪酬的金额是100万元。'}"
      ]
     },
     "execution_count": 24,
     "metadata": {},
     "output_type": "execute_result"
    }
   ],
   "source": [
    "submit_answer[-1]"
   ]
  },
  {
   "cell_type": "code",
   "execution_count": 25,
   "id": "9dc90dcb-a03a-4795-8b5a-3ec7378ed847",
   "metadata": {},
   "outputs": [
    {
     "data": {
      "text/plain": [
       "{'id': 4000,\n",
       " 'question': '请简要分析绍兴贝斯美化工股份有限公司2019年公司地位的情况。',\n",
       " 'answer': '绍兴贝斯美化工股份有限公司2019年的公司地位有以下几点：\\n\\n1. 公司规模：公司规模较小，总股本为1.38亿元，流通股本为0.68亿元。\\n\\n2. 公司地位：公司为一家化工企业，主要从事氯气、氯碱、烧碱和聚氯乙烯等化工产品的生产与销售。在所处行业中，公司规模较小，但具有一定的竞争力和市场占有率。\\n\\n3. 公司业绩：公司2019年实现营业收入为2.96亿元，同比增长20.44%；净利润为0.24亿元，同比增长45.25%。公司的业绩增长较快，主要得益于产品价格上涨和规模扩大。\\n\\n4. 公司地位：公司为一家技术领先的企业，拥有多项专利技术，并被评为“浙江省化工科学技术奖”和“中国氯碱工业优秀企业”。此外，公司还是氯碱行业的国家标准制定者之一，具有较高的行业影响力和地位。\\n\\n5. 公司规模：公司规模适中，总资产为5.37亿元，净资产为2.88亿元。公司的资产负债率适中，负债压力较小。\\n\\n综上所述，绍兴贝斯美化工股份有限公司2019年的公司地位具有一定的竞争力和市场占有率，但规模较小，资产负债率适中。公司需要继续努力提升产品质量和扩大规模，以提高市场占有率和利润水平。'}"
      ]
     },
     "execution_count": 25,
     "metadata": {},
     "output_type": "execute_result"
    }
   ],
   "source": [
    "submit_answer[4000]"
   ]
  },
  {
   "cell_type": "code",
   "execution_count": 26,
   "id": "f656b90d-36d7-4820-800d-bcd69c6382c6",
   "metadata": {},
   "outputs": [],
   "source": [
    "with open('/root/autodl-tmp/chatglm_llm_fintech_raw_dataset/机器爱学习_result.json','wt',encoding='utf8') as f:\n",
    "    for one_answer in submit_answer:\n",
    "        f.write(json.dumps(one_answer, ensure_ascii=False)+'\\n')"
   ]
  },
  {
   "cell_type": "code",
   "execution_count": 27,
   "id": "76ef4a89-991a-4225-b125-309c7fdf7b7b",
   "metadata": {},
   "outputs": [
    {
     "name": "stdout",
     "output_type": "stream",
     "text": [
      "{\"id\": 0, \"question\": \"能否根据2020年金宇生物技术股份有限公司的年报，给我简要介绍一下报告期内公司的社会责任工作情况？\", \"answer\": \"2020年金宇生物技术股份有限公司的年报显示，公司在社会责任方面主要开展了以下工作：\\n\\n1. 疫情期间，公司通过电话、短信、网络等多种形式，提醒员工做好个人防护，避免前往疫情高风险区。同时，公司为员工每人无偿捐赠口罩1000个，为有需要的员工提供口罩平价渠道购买。此外，公司还通过在线办公、远程教育等措施，确保员工权益。\\n\\n2. 定期举办员工培训活动，提升员工技能水平。培训内容涵盖生物产品知识、质量管理、法律法规等方面，以提高员工的专业素质。\\n\\n3. 公司积极参与社会公益活动。2020年，公司通过向困难农村地区捐赠物资、为贫困地区学生捐赠学习用品等方式，助力我国贫困地区的发展。此外，公司还积极参与核酸检测工作，为疫情防控贡献力量。\\n\\n4. 加强环境管理，提高资源利用率。公司通过优化生产流程、提高资源利用率等措施，降低生产成本，减少废水、废气、废渣等排放，保护环境。\\n\\n5. 加强员工关怀，提高员工满意度。公司定期举办员工文化活动，提升员工凝聚力；并通过完善员工福利制度，提高员工的福利待遇。\\n\\n总之，2020年金宇生物技术股份有限公司在社会责任方面呈现出积极向上的态度，为我国的发展贡献了一份力量。\"}\n",
      "{\"id\": 1, \"question\": \"请根据江化微2019年的年报，简要介绍报告期内公司主要销售客户的客户集中度情况，并结合同行业情况进行分析。\", \"answer\": \"根据江化微2019年的年报，公司在报告期内，主要销售客户集中度情况如下：\\n\\n1.  top10 客户：报告期内，公司前10名客户的销售额占公司总销售额的比重为54.14%，集中度较高。其中，前五大客户分别为：中石化、中石油、中国石化、中国乙烯和齐翔化工，占公司总销售额的比重分别为24.87%、20.84%、13.12%、11.89%和8.56%。\\n\\n2. top20 客户：报告期内，公司前20名客户的销售额占公司总销售额的比重为39.90%，集中度较高。其中，前五大客户分别为：中石化、中石油、中国石化、中国乙烯和齐翔化工，占公司总销售额的比重分别为24.87%、20.84%、13.12%、11.89%和8.56%。\\n\\n3. top30 客户：报告期内，公司前30名客户的销售额占公司总销售额的比重为36.92%，集中度较高。其中，前五大客户分别为：中石化、中石油、中国石化、中国乙烯和齐翔化工，占公司总销售额的比重分别为24.87%、20.84%、13.12%、11.89%和8.56%。\\n\\n同行业情况方面，2019年，我国石油化工行业整体呈现前移的趋势，行业整体需求增加，竞争加剧。在这种情况下，公司的主要销售客户集中度较高也在情理之中。此外，公司的主要客户集中度较高，也反映出公司具有较好的市场竞争力和市场渗透力，有助于公司在行业中保持稳定的地位。\"}\n",
      "{\"id\": 2, \"question\": \"2019年四方科技电子信箱是什么?\", \"answer\": \"很抱歉，我无法回答这个问题，因为我是在2021年的知识库上进行训练的，四方科技电子信箱的具体信息可能仅在最近几年内发生变化。建议您访问四方科技的官方网站或联系他们的客服人员，以获取最新的信息。\"}\n",
      "{\"id\": 3, \"question\": \"研发费用对公司的技术创新和竞争优势有何影响？\", \"answer\": \"研发费用是公司用于研究、开发和测试新产品、新技术、新业务等的费用,对公司的技术创新和竞争优势具有重要的影响。\\n\\n以下是研发费用对公司的技术创新和竞争优势产生影响的几点:\\n\\n1. 技术领先优势:通过研发费用,公司可以引进新技术、新产品,提升公司的技术水平,建立技术领先优势,增加公司在市场上的竞争优势。\\n\\n2. 产品创新优势:通过研发费用,公司可以开发出更具创新性的产品,满足消费者的需求,提升公司的产品在市场上的竞争力。\\n\\n3. 市场竞争力:通过研发费用,公司可以提升产品和服务的质量,增强公司的市场竞争力,提高公司在市场上的生存能力。\\n\\n4. 品牌建设:通过研发费用,公司可以提升品牌形象和品牌价值,增加消费者对公司的认可度和忠诚度,提升公司的品牌竞争优势。\\n\\n5. 降低风险:通过研发费用,公司可以降低新产品、新技术的风险,增加公司在市场上的风险承受能力。\\n\\n研发费用对于公司的技术创新和竞争优势具有重要的影响。通过合理的研发费用的使用,公司可以实现技术领先、产品创新、市场竞争力提升等目标,进一步提升公司的综合竞争优势。\"}\n",
      "{\"id\": 4, \"question\": \"康希诺生物股份公司在2020年的资产负债比率具体是多少，需要保留至小数点后两位？\", \"answer\": \"我无法提供具体的资产负债比率数据，因为我是一个人工智能助手，我的训练时间截止到2023年，我无法获取实时数据。建议您查阅康希诺生物科技股份有限公司（股票代码：300222.SZ）的官方财报或专业金融数据平台，以获取最新的资产负债比率数据。\"}\n"
     ]
    }
   ],
   "source": [
    "!head -n 5  /root/autodl-tmp/chatglm_llm_fintech_raw_dataset/机器爱学习_result.json"
   ]
  },
  {
   "cell_type": "code",
   "execution_count": null,
   "id": "271574dd-4b54-4672-924e-bec0e66c8e88",
   "metadata": {},
   "outputs": [],
   "source": []
  }
 ],
 "metadata": {
  "kernelspec": {
   "display_name": "cft",
   "language": "python",
   "name": "cft"
  },
  "language_info": {
   "codemirror_mode": {
    "name": "ipython",
    "version": 3
   },
   "file_extension": ".py",
   "mimetype": "text/x-python",
   "name": "python",
   "nbconvert_exporter": "python",
   "pygments_lexer": "ipython3",
   "version": "3.9.17"
  }
 },
 "nbformat": 4,
 "nbformat_minor": 5
}
