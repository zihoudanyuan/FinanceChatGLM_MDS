{
 "cells": [
  {
   "cell_type": "markdown",
   "id": "7d1453a2-5bf5-482c-89e0-736ac141b167",
   "metadata": {},
   "source": [
    "# dd"
   ]
  },
  {
   "cell_type": "code",
   "execution_count": 1,
   "id": "8dc1db35-ed2f-48f5-a482-94d0c9de24f3",
   "metadata": {},
   "outputs": [
    {
     "name": "stderr",
     "output_type": "stream",
     "text": [
      "2023-08-12 14:24:18,637 - modelscope - INFO - PyTorch version 2.0.1 Found.\n",
      "2023-08-12 14:24:18,641 - modelscope - INFO - Loading ast index from /root/.cache/modelscope/ast_indexer\n",
      "2023-08-12 14:24:18,755 - modelscope - INFO - Loading done! Current index file version is 1.7.2rc0, with md5 a8483eaf2dd681be6adfddef73f0a6f6 and a total number of 863 components indexed\n",
      "/root/miniconda3/envs/cft/lib/python3.9/site-packages/tqdm/auto.py:21: TqdmWarning: IProgress not found. Please update jupyter and ipywidgets. See https://ipywidgets.readthedocs.io/en/stable/user_install.html\n",
      "  from .autonotebook import tqdm as notebook_tqdm\n"
     ]
    }
   ],
   "source": [
    "# 备注：最新模型版本要求modelscope >= 1.7.2\n",
    "\n",
    "# 当前可用版本：\n",
    "# Step1: pip3 install \"modelscope==1.7.2rc0\" -f https://modelscope.oss-cn-beijing.aliyuncs.com/releases/repo.html\n",
    "# Step2: 如为dsw notebook环境需要重启kernel\n",
    "\n",
    "from modelscope.utils.constant import Tasks\n",
    "from modelscope import Model\n",
    "from modelscope.pipelines import pipeline"
   ]
  },
  {
   "cell_type": "code",
   "execution_count": 2,
   "id": "1d877b47-fd6b-4ca7-93ae-dda35f264ffb",
   "metadata": {},
   "outputs": [
    {
     "name": "stderr",
     "output_type": "stream",
     "text": [
      "2023-08-12 14:24:19,290 - modelscope - INFO - initialize model from /root/autodl-tmp/ZhipuAI/chatglm2-6b\n",
      "Loading checkpoint shards: 100%|██████████| 7/7 [00:10<00:00,  1.52s/it]\n",
      "The tokenizer class you load from this checkpoint is not the same type as the class this function is called from. It may result in unexpected tokenization. \n",
      "The tokenizer class you load from this checkpoint is 'ChatGLMTokenizer'. \n",
      "The class this function is called from is 'ChatGLM2Tokenizer'.\n",
      "2023-08-12 14:24:32,203 - modelscope - WARNING - No preprocessor field found in cfg.\n",
      "2023-08-12 14:24:32,204 - modelscope - WARNING - No val key and type key found in preprocessor domain of configuration.json file.\n",
      "2023-08-12 14:24:32,204 - modelscope - WARNING - Cannot find available config to build preprocessor at mode inference, current config: {'model_dir': '/root/autodl-tmp/ZhipuAI/chatglm2-6b'}. trying to build by task and model information.\n",
      "2023-08-12 14:24:32,204 - modelscope - WARNING - No preprocessor key ('chatglm2-6b', 'chat') found in PREPROCESSOR_MAP, skip building preprocessor.\n"
     ]
    }
   ],
   "source": [
    "model = Model.from_pretrained('/root/autodl-tmp/ZhipuAI/chatglm2-6b', device_map='auto')\n",
    "pipe = pipeline(task=Tasks.chat, model=model)"
   ]
  },
  {
   "cell_type": "code",
   "execution_count": 3,
   "id": "890ffcbe-ce50-4ae2-88c4-1ce95cb4f4a5",
   "metadata": {},
   "outputs": [
    {
     "name": "stdout",
     "output_type": "stream",
     "text": [
      "{'response': '清华大学是中国著名的高等教育机构之一，位于中国北京市海淀区双清路 30 号，是中国最早成立的现代大学之一，也是中国综合性大学综合实力排名前列的学校之一。\\n\\n清华大学成立于 1911 年，最初为教育背景， 1912 年更名为清华学校。1928 年更名为国立清华大学。1937 年抗日战争全面爆发后南迁长沙，与北京大学、南开大学组建国立长沙临时大学，1938 年迁至 西南联合大学。1946 年迁回清华园，成为清华大学。\\n\\n清华大学是中国的一所顶尖大学，以其在科学、工程和技术领域的研究和教育而著称。 清华大学的校训是“自强不息、厚德载物”，学校的精神是“清华人不仅要有卓越的学术能力，更要有强烈的社会责任感和使命感”。\\n\\n清华大学拥有世界一流的教学设施和科学研究机构，有 21 个学院和 56 个本科专业，以及 54 个硕士和 42 个博士学位授权单位。清华大学的教授和学者在世界上享有盛誉，清华大学的毕业生也在各行各业中取得了巨大的成就。', 'history': [('你好', '你好👋！我是人工智能助手 ChatGLM2-6B，很高兴见到你，欢迎问我任何问题。'), ('介绍下清华大学', '清华大学是中国著名的高等教育机构之一，位于中国北京市海淀区双清路 30 号，是中国最早成立的现代大学之一，也是中国综合性大学综合实力排名前列的学校之一。\\n\\n清华大学成立于 1911 年，最初为教育背景， 1912 年更名为清华学校。1928 年更名为国立清华大学。1937 年抗日战争全面爆发后南迁长沙，与北京大学、南开大学组建国立长沙临时大学，1938 年迁至 西南联合大学。1946 年迁回清华园，成为清华大学。\\n\\n清华大学是中国的一所顶尖大学，以其在科学、工程和技术领域的研究和教育而著称。 清华大学的校训是“自强不息、厚德载物”，学校的精神是“清华人不仅要有卓越的学术能力，更要有强烈的社会责任感和使命感”。\\n\\n清华大学拥有世界一流的教学设施和科学研究机构，有 21 个学院和 56 个本科专业，以及 54 个硕士和 42 个博士学位授权单位。清华大学的教授和学者在世界上享有盛誉，清华大学的毕业生也在各行各业中取得了巨大的成就。')]}\n"
     ]
    }
   ],
   "source": [
    "inputs = {'text':'你好', 'history': []}\n",
    "result = pipe(inputs)\n",
    "inputs = {'text':'介绍下清华大学', 'history': result['history']}\n",
    "result = pipe(inputs)\n",
    "print(result)"
   ]
  },
  {
   "cell_type": "code",
   "execution_count": 4,
   "id": "937c27ca-82ca-455d-87b8-97bf89f242a3",
   "metadata": {},
   "outputs": [
    {
     "name": "stdout",
     "output_type": "stream",
     "text": [
      "{'response': '2020年金宇生物技术股份有限公司的年报显示，公司在社会责任方面取得了显著的成绩。具体来说，公司通过加强环境管理，提高资源利用效率，降低生产过程中的污染排放，减少固体废弃物产生，提高废弃物资源化利用率，从而实现绿色生产。此外，公司还加大研发投入，推动新产品研发，提高产品质量和市场竞争力，提升客户满意度。同时，公司积极参与公益事业，为社会做出贡献。', 'history': [('能否根据2020年金宇生物技术股份有限公司的年报，给我简要介绍一下报告期内公司的社会责任工作情况？', '2020年金宇生物技术股份有限公司的年报显示，公司在社会责任方面取得了显著的成绩。具体来说，公司通过加强环境管理，提高资源利用效率，降低生产过程中的污染排放，减少固体废弃物产生，提高废弃物资源化利用率，从而实现绿色生产。此外，公司还加大研发投入，推动新产品研发，提高产品质量和市场竞争力，提升客户满意度。同时，公司积极参与公益事业，为社会做出贡献。')]}\n"
     ]
    }
   ],
   "source": [
    "inputs = {'text':'能否根据2020年金宇生物技术股份有限公司的年报，给我简要介绍一下报告期内公司的社会责任工作情况？', 'history': []}\n",
    "result = pipe(inputs)\n",
    "# inputs = {'text':'介绍下清华大学', 'history': result['history']}\n",
    "# result = pipe(inputs)\n",
    "print(result)"
   ]
  },
  {
   "cell_type": "code",
   "execution_count": 6,
   "id": "2a1a6690-4e2c-4337-994b-28accda9c364",
   "metadata": {},
   "outputs": [
    {
     "name": "stdout",
     "output_type": "stream",
     "text": [
      "研发费用是公司用于研发新产品、新技术或新业务的过程所需的费用,包括人员工资、材料费用、设备费用、专业人员费用、测试费用等。研发费用对公司的技术创新和竞争优势有着重要的影响,具体体现在以下方面:\n",
      "\n",
      "1. 技术创新:研发费用是公司进行技术创新的重要保障。公司需要投入大量的资金和人力资源,进行研发活动,以推动技术创新的发展。通过研发新产品或新技术,公司可以吸引更多的客户,提高市场占有率,同时也可以增加公司的竞争优势。\n",
      "\n",
      "2. 竞争优势:研发费用可以帮助公司建立竞争优势。通过投入研发费用,公司可以开发出更具竞争力的产品或技术,从而在市场上获得更高的市场份额。此外,研发费用还可以帮助公司保持技术创新的持续性和敏捷性,使其能够更好地适应市场的变化。\n",
      "\n",
      "3. 促进组织发展:研发费用还可以促进公司的组织发展。通过研发新产品或新技术,公司可以吸引更多的优秀人才,提高员工的技术水平和创新能力,从而推动公司的发展。\n",
      "\n",
      "4. 管理风险:研发费用也具有一定的风险管理作用。在研发过程中,公司需要投入大量的资金和人力资源,如果研发失败,可能会造成巨大的损失。通过合理的研发费用管理,公司可以降低研发失败的风险,同时也可以更好地控制研发的成本和进度。\n",
      "\n",
      "综上所述,研发费用对公司的技术创新和竞争优势具有重要的影响。通过合理的研发费用管理,公司可以最大化地发挥研发费用的价值,提高公司的创新能力和发展水平。\n"
     ]
    }
   ],
   "source": [
    "inputs = {'text':'研发费用对公司的技术创新和竞争优势有何影响？', 'history': []}\n",
    "result = pipe(inputs)\n",
    "# inputs = {'text':'介绍下清华大学', 'history': result['history']}\n",
    "# result = pipe(inputs)\n",
    "print(result['response'])"
   ]
  },
  {
   "cell_type": "code",
   "execution_count": 7,
   "id": "6573cdf2-8b22-4852-9f2f-1d684c750324",
   "metadata": {},
   "outputs": [],
   "source": [
    "template=\"简洁和专业的来回答用户的问题，在回答涉及数字的回复时，请用纯数字，若问题有要求小数点请遵守。如果无法从中得到答案，可以乱编或改写提问句子回复。答案请使用中文。 问题是：{question}.\""
   ]
  },
  {
   "cell_type": "code",
   "execution_count": 9,
   "id": "a7527cce-a8d8-4938-b4f0-aa1bf47f6b45",
   "metadata": {},
   "outputs": [
    {
     "name": "stdout",
     "output_type": "stream",
     "text": [
      "简洁和专业的来回答用户的问题，在回答涉及数字的回复时，请用纯数字，若问题有要求小数点请遵守。如果无法从中得到答案，可以乱编或改写提问句子回复。答案请使用中文。 问题是：研发费用对公司的技术创新和竞争优势有何影响？.\n",
      "研发费用对公司的技术创新和竞争优势具有重要的影响。通过投入研发费用,公司可以吸引和留住高水平的技术人才,推动技术创新,提升公司的核心竞争力。另外,研发费用还可以用于购置必要的设备和技术,提高生产效率和产品质量。在竞争激烈的市场环境中,拥有技术优势和创新能力的企业更容易获得市场份额和利润。\n"
     ]
    }
   ],
   "source": [
    "prompt = template.replace('{question}','研发费用对公司的技术创新和竞争优势有何影响？')\n",
    "inputs = {'text':prompt, 'history': []}\n",
    "result = pipe(inputs)\n",
    "# inputs = {'text':'介绍下清华大学', 'history': result['history']}\n",
    "# result = pipe(inputs)\n",
    "print(inputs['text'])\n",
    "print(result['response'])"
   ]
  },
  {
   "cell_type": "code",
   "execution_count": null,
   "id": "f0c16ea9-055e-442b-82ef-4f90f73f593e",
   "metadata": {},
   "outputs": [],
   "source": []
  },
  {
   "cell_type": "code",
   "execution_count": null,
   "id": "9b6b61e2-7fb5-4f58-aeb8-a70d5db15c67",
   "metadata": {},
   "outputs": [],
   "source": []
  },
  {
   "cell_type": "code",
   "execution_count": 10,
   "id": "6522ca96-915e-4756-ac7e-8065c69be9cf",
   "metadata": {},
   "outputs": [],
   "source": [
    "template2=\"简洁和专业的来回答用户的问题。 问题是：{question}.\""
   ]
  },
  {
   "cell_type": "code",
   "execution_count": 11,
   "id": "dd07e9cc-e301-4e6d-921e-4eaac1b7bb93",
   "metadata": {},
   "outputs": [
    {
     "name": "stdout",
     "output_type": "stream",
     "text": [
      "简洁和专业的来回答用户的问题。 问题是：研发费用对公司的技术创新和竞争优势有何影响？.\n",
      "研发费用对公司的技术创新和竞争优势具有重要的影响。\n",
      "\n",
      "研发费用是公司为开发新产品、改进现有产品或解决技术问题而投入的资源,包括研究费用、设计费用、开发费用和测试费用等。通过研发费用,公司可以吸引和留住高素质的工程师和研究人员,推动技术创新和提高公司的技术水平。这些投入也带来了一些直接和间接的好处,例如:\n",
      "\n",
      "1. 技术创新:通过研发费用,公司可以雇佣专业的研究员和工程师,开展创新性的研究项目。这些研究项目可以为公司开发出更具竞争力的产品和技术,从而提高公司的市场地位和行业竞争力。\n",
      "\n",
      "2. 竞争优势:通过研发费用,公司可以改善产品的性能和功能,提高产品的附加值。这有助于公司在市场上获得竞争优势,增加市场份额,提高盈利能力。\n",
      "\n",
      "3. 品牌价值:通过研发费用,公司可以推出具有创新性和独特性的产品,提高公司的品牌价值和知名度。这有助于吸引更多的客户和提高公司的市场地位。\n",
      "\n",
      "4. 风险承受能力:通过研发费用,公司可以承担更多的技术风险和开发成本,提高公司的风险承受能力和适应能力。\n",
      "\n",
      "研发费用是公司技术创新和竞争优势的重要支撑,通过合理的投入和明智的利用,可以帮助公司获得长期的健康发展。\n"
     ]
    }
   ],
   "source": [
    "prompt = template2.replace('{question}','研发费用对公司的技术创新和竞争优势有何影响？')\n",
    "inputs = {'text':prompt, 'history': []}\n",
    "result = pipe(inputs)\n",
    "# inputs = {'text':'介绍下清华大学', 'history': result['history']}\n",
    "# result = pipe(inputs)\n",
    "print(inputs['text'])\n",
    "print(result['response'])"
   ]
  },
  {
   "cell_type": "code",
   "execution_count": 16,
   "id": "446ea20d-e4b1-4d52-b267-6f5611c7c838",
   "metadata": {},
   "outputs": [],
   "source": [
    "template3 = \"{question}\""
   ]
  },
  {
   "cell_type": "code",
   "execution_count": 17,
   "id": "de2cbaf3-1e1b-4c13-b7f4-46768a7921a3",
   "metadata": {},
   "outputs": [
    {
     "name": "stdout",
     "output_type": "stream",
     "text": [
      "研发费用对公司的技术创新和竞争优势有何影响？\n",
      "研发费用是公司用于新产品或技术的开发、设计、测试和维护等方面的支出。研发费用对公司的技术创新和竞争优势具有重要的影响。\n",
      "\n",
      "一方面,研发费用可以促进公司的技术创新。通过投入大量的人力、物力和财力,公司可以吸引优秀的科技人才,推动公司科技创新,提升公司的技术水平和市场竞争力。\n",
      "\n",
      "另一方面,研发费用可以增强公司的竞争优势。在某些领域,研发费用可以使得公司在技术上比竞争对手更加成熟和领先,从而在市场上获得更大的份额和利润。\n",
      "\n",
      "然而,过高的研发费用也可能会对公司的财务状况产生负面影响。如果公司的研发费用过高,可能会导致利润率下降,净现金流减少,从而影响公司的财务状况。\n",
      "\n",
      "因此,公司应该在合理的范围内控制研发费用,以确保其能够实现技术创新和竞争优势,同时不会对公司的财务状况造成过大的负面影响。\n"
     ]
    }
   ],
   "source": [
    "prompt = template3.replace('{question}','研发费用对公司的技术创新和竞争优势有何影响？')\n",
    "inputs = {'text':prompt, 'history': []}\n",
    "result = pipe(inputs)\n",
    "# inputs = {'text':'介绍下清华大学', 'history': result['history']}\n",
    "# result = pipe(inputs)\n",
    "print(inputs['text'])\n",
    "print(result['response'])"
   ]
  },
  {
   "cell_type": "code",
   "execution_count": null,
   "id": "507e484f-7bc5-46c0-ae81-4096c50c10b8",
   "metadata": {},
   "outputs": [],
   "source": []
  },
  {
   "cell_type": "code",
   "execution_count": null,
   "id": "9bfaea8f-9108-47a3-9693-f79e8fd0ec64",
   "metadata": {},
   "outputs": [],
   "source": []
  },
  {
   "cell_type": "raw",
   "id": "dbfd5ff9-ecf2-4701-8041-e5bf6d2c5817",
   "metadata": {},
   "source": []
  },
  {
   "cell_type": "code",
   "execution_count": 7,
   "id": "16227fe5-415e-4d37-886f-e7dae8b1349a",
   "metadata": {},
   "outputs": [],
   "source": [
    "template=\"简洁和专业的来回答用户的问题，在回答涉及数字的回复时，请用纯数字，若问题有要求小数点请遵守。如果无法从中得到答案，可以乱编或改写提问句子回复。答案请使用中文。 问题是：{question}.\""
   ]
  },
  {
   "cell_type": "code",
   "execution_count": 12,
   "id": "46008dd3-9e20-4124-9a95-d53dd0407947",
   "metadata": {},
   "outputs": [
    {
     "name": "stdout",
     "output_type": "stream",
     "text": [
      "简洁和专业的来回答用户的问题，在回答涉及数字的回复时，请用纯数字，若问题有要求小数点请遵守。如果无法从中得到答案，可以乱编或改写提问句子回复。答案请使用中文。 问题是：合并财务报表的编制方法有哪些？.\n",
      "合并财务报表的编制方法包括:\n",
      "\n",
      "1. 直接法:将所有子公司的财务报表直接合并编制。\n",
      "\n",
      "2. 间接法:将所有子公司的财务报表汇总后再合并编制。\n",
      "\n",
      "3. 完全合并法:将所有子公司的财务报表进行必要的调整,使其能够直接合并编制。\n",
      "\n",
      "4. 差额合并法:将所有子公司的财务报表进行必要的调整,然后将差额合并。\n",
      "\n",
      "5. 权益法:通过权益法对子公司进行控制,并将其财务报表合并编制。\n",
      "\n",
      "在合并财务报表时,需要遵守一定的规定,例如会计政策、货币计量、披露要求等。如果需要进行合并财务报表的编制,请咨询专业人士或参考相关法规和标准。\n"
     ]
    }
   ],
   "source": [
    "prompt = template.replace('{question}','合并财务报表的编制方法有哪些？')\n",
    "inputs = {'text':prompt, 'history': []}\n",
    "result = pipe(inputs)\n",
    "# inputs = {'text':'介绍下清华大学', 'history': result['history']}\n",
    "# result = pipe(inputs)\n",
    "print(inputs['text'])\n",
    "print(result['response'])"
   ]
  },
  {
   "cell_type": "code",
   "execution_count": 20,
   "id": "7f5856f5-8d95-4070-9e15-3f74a9a862a4",
   "metadata": {},
   "outputs": [
    {
     "name": "stdout",
     "output_type": "stream",
     "text": [
      "简洁和专业的来回答用户的问题。 问题是：合并财务报表的编制方法有哪些？.\n",
      "合并财务报表的编制方法主要包括以下几种：\n",
      "\n",
      "1. 直接购买法：在购买方和被购买方之间直接进行财务报表的合并。这种方法适用于购买方和被购买方规模较小，且财务报表较为简单的情况。\n",
      "\n",
      "2. 间接购买法：在购买方和被购买方之间通过一个中介机构进行财务报表的合并。这种方法适用于购买方和被购买方规模较大，或者财务报表较为复杂的情况。\n",
      "\n",
      "3. 控股合并法：购买方通过控股另一个公司，从而实现对被购买方的控制。在控股合并法中，购买方的财务报表应包括被购买方的财务报表。\n",
      "\n",
      "4. 吸收合并法：购买方通过吸收被购买方的资产和负债，实现财务报表的合并。这种方法适用于购买方实力较强，而被购买方规模较小的情况。\n",
      "\n",
      "5. 合并报表法：购买方和被购买方在财务报表上合并成为一个新的实体，编制新的财务报表。这种方法适用于购买方和被购买方在财务报表上具有高度的相关性。\n",
      "\n",
      "在实际操作中，应根据购买方和被购买方的实际情况，选择合适的合并财务报表编制方法。\n"
     ]
    }
   ],
   "source": [
    "prompt = template2.replace('{question}','合并财务报表的编制方法有哪些？')\n",
    "inputs = {'text':prompt, 'history': []}\n",
    "result = pipe(inputs)\n",
    "# inputs = {'text':'介绍下清华大学', 'history': result['history']}\n",
    "# result = pipe(inputs)\n",
    "print(inputs['text'])\n",
    "print(result['response'])"
   ]
  },
  {
   "cell_type": "code",
   "execution_count": 18,
   "id": "79a495c6-6c04-4d35-811a-910e6a229e48",
   "metadata": {},
   "outputs": [
    {
     "name": "stdout",
     "output_type": "stream",
     "text": [
      "合并财务报表的编制方法有哪些？\n",
      "根据题目要求，合并财务报表的编制方法有哪些，我们可以通过查阅相关知识来得出答案。\n",
      "\n",
      "根据《企业会计准则》的规定，合并财务报表的编制方法有两种：\n",
      "\n",
      "1. 母子公司报表法：按照母子公司之间的控制关系，分别编制母公司报表和子公司报表，然后将母公司和子公司的报表合并形成合并报表。\n",
      "\n",
      "2. 权益性投资法：按照权益性投资关系，编制母公司报表和子公司报表，然后将母公司和子公司的报表合并形成合并报表。\n",
      "\n",
      "因此，合并财务报表的编制方法有两种：母子公司报表法和权益性投资法。\n"
     ]
    }
   ],
   "source": [
    "prompt = template3.replace('{question}','合并财务报表的编制方法有哪些？')\n",
    "inputs = {'text':prompt, 'history': []}\n",
    "result = pipe(inputs)\n",
    "# inputs = {'text':'介绍下清华大学', 'history': result['history']}\n",
    "# result = pipe(inputs)\n",
    "print(inputs['text'])\n",
    "print(result['response'])"
   ]
  },
  {
   "cell_type": "code",
   "execution_count": null,
   "id": "fbd9c3cf-98ea-474d-8f4e-8289bc77735f",
   "metadata": {},
   "outputs": [],
   "source": []
  },
  {
   "cell_type": "raw",
   "id": "9f49e116-6676-450f-8c59-b4a2473f9cdf",
   "metadata": {},
   "source": []
  },
  {
   "cell_type": "code",
   "execution_count": null,
   "id": "439429a8-c7dd-4726-ae6e-f9e72ebc8e3e",
   "metadata": {},
   "outputs": [
    {
     "name": "stdout",
     "output_type": "stream",
     "text": [
      "简洁和专业的来回答用户的问题，在回答涉及数字的回复时，请用纯数字，若问题有要求小数点请遵守。如果无法从中得到答案，可以乱编或改写提问句子回复。答案请使用中文。 问题是：财务杠杆和经营杠杆有什么区别？.\n",
      "财务杠杆和经营杠杆是两种不同的杠杆效应。\n",
      "\n",
      "财务杠杆是指公司通过借债来扩大资产规模,从而增加股东权益回报率的一种方式。在财务杠杆中,公司会将借来的资金用于投资和收购业务,而这些活动会产生利息和股息成本。财务杠杆的作用是提高公司收益的波动性,同时降低股东的门槛和权益回报率。\n",
      "\n",
      "经营杠杆则是指公司通过提高销售收入来扩大资产规模,从而增加股东权益回报率的一种方式。在经营杠杆中,公司会增加销售量和/或提高产品价格,从而增加收入和利润。经营杠杆的作用是提高公司的边际贡献和利润率,同时增加股东的权益回报率。\n",
      "\n",
      "因此,财务杠杆和经营杠杆的区别在于它们扩大资产规模的方式和影响股东权益的方式。\n"
     ]
    }
   ],
   "source": [
    "prompt = template.replace('{question}','财务杠杆和经营杠杆有什么区别？')\n",
    "inputs = {'text':prompt, 'history': []}\n",
    "result = pipe(inputs)\n",
    "# inputs = {'text':'介绍下清华大学', 'history': result['history']}\n",
    "# result = pipe(inputs)\n",
    "print(inputs['text'])\n",
    "print(result['response'])"
   ]
  },
  {
   "cell_type": "code",
   "execution_count": null,
   "id": "e9376a24-b558-4021-bac9-5085ca9c0c43",
   "metadata": {},
   "outputs": [
    {
     "name": "stdout",
     "output_type": "stream",
     "text": [
      "简洁和专业的来回答用户的问题。 问题是：财务杠杆和经营杠杆有什么区别？.\n",
      "财务杠杆和经营杠杆是两种不同的企业杠杆效应。\n",
      "\n",
      "财务杠杆是指企业通过债务融资来扩大经营规模和收益的一种财务手段。在财务杠杆中,企业债务的利息支出被加入到企业的净利润中,从而提高了企业的普通股股东的收益率。财务杠杆效应是指通过债务融资扩大经营规模和收益,从而提高企业普通股股东的收益率。\n",
      "\n",
      "经营杠杆则是指企业内部管理不善或产品或服务的定价不当,导致企业成本增加、销售收入下降,从而降低企业利润率的一种内部管理现象。经营杠杆效应是指由于企业内部管理不善或产品或服务的定价不当,导致企业成本增加、销售收入下降,从而降低企业利润率。\n",
      "\n",
      "因此,财务杠杆和经营杠杆是两种不同的企业杠杆效应,前者是指通过债务融资扩大经营规模和收益,后者是指由于企业内部管理不善或产品或服务的定价不当,导致企业成本增加、销售收入下降,从而降低企业利润率。\n"
     ]
    }
   ],
   "source": [
    "prompt = template2.replace('{question}','财务杠杆和经营杠杆有什么区别？')\n",
    "inputs = {'text':prompt, 'history': []}\n",
    "result = pipe(inputs)\n",
    "# inputs = {'text':'介绍下清华大学', 'history': result['history']}\n",
    "# result = pipe(inputs)\n",
    "print(inputs['text'])\n",
    "print(result['response'])"
   ]
  },
  {
   "cell_type": "code",
   "execution_count": null,
   "id": "fe28e104-fe8a-4d76-a3e3-e0f6eccfe74c",
   "metadata": {},
   "outputs": [
    {
     "name": "stdout",
     "output_type": "stream",
     "text": [
      "财务杠杆和经营杠杆有什么区别？\n",
      "财务杠杆和经营杠杆是两种不同的企业财务分析工具，它们各自有不同的作用。\n",
      "\n",
      "1. 经营杠杆：反映的是企业固定成本占总成本的比重，即固定成本占总成本的比重越大，则经营杠杆越大。经营杠杆系数=总成本/息税前利润，息税前利润是息税和前利润之和，总成本=固定成本+变动成本，固定成本包括折旧、工资等，变动成本包括原材料、销售费用等。\n",
      "\n",
      "2. 财务杠杆：反映的是企业固定成本占总成本的比重，即固定成本占总成本的比重越大，则财务杠杆越大。财务杠杆系数=息税前利润/（息税前利润-固定成本），息税前利润是息税和前利润之和，固定成本包括折旧、工资等，息税是利息和税金之和。\n",
      "\n",
      "经营杠杆和财务杠杆的区别在于，经营杠杆反映的是企业固定成本占总成本的比重，而财务杠杆反映的是企业固定成本占总成本的比重。经营杠杆系数是总成本/息税前利润，而财务杠杆系数是息税前利润/（息税前利润-固定成本）。\n"
     ]
    }
   ],
   "source": [
    "prompt = template3.replace('{question}','财务杠杆和经营杠杆有什么区别？')\n",
    "inputs = {'text':prompt, 'history': []}\n",
    "result = pipe(inputs)\n",
    "# inputs = {'text':'介绍下清华大学', 'history': result['history']}\n",
    "# result = pipe(inputs)\n",
    "print(inputs['text'])\n",
    "print(result['response'])"
   ]
  },
  {
   "cell_type": "code",
   "execution_count": null,
   "id": "8a5a3870-86ca-452f-868b-9618a1bbb3cc",
   "metadata": {},
   "outputs": [],
   "source": []
  },
  {
   "cell_type": "code",
   "execution_count": null,
   "id": "ff9b7796-b5b3-458c-b378-c88f1473fd18",
   "metadata": {},
   "outputs": [],
   "source": []
  },
  {
   "cell_type": "code",
   "execution_count": 25,
   "id": "5b312d06-1825-4fb1-984d-e947bfcd82fd",
   "metadata": {},
   "outputs": [],
   "source": [
    "question='资本公积金和盈余公积金对公司的股东权益和财务灵活性有何影响？'"
   ]
  },
  {
   "cell_type": "code",
   "execution_count": 26,
   "id": "3d2d3638-364b-4cd6-8a8c-c33049bc20f6",
   "metadata": {},
   "outputs": [
    {
     "name": "stdout",
     "output_type": "stream",
     "text": [
      "简洁和专业的来回答用户的问题，在回答涉及数字的回复时，请用纯数字，若问题有要求小数点请遵守。如果无法从中得到答案，可以乱编或改写提问句子回复。答案请使用中文。 问题是：资本公积金和盈余公积金对公司的股东权益和财务灵活性有何影响？.\n",
      "资本公积金和盈余公积金是公司净利润中用于补充公司资本和股东权益的公积金。它们对公司的股东权益和财务灵活性有以下影响：\n",
      "\n",
      "1. 影响股东权益：资本公积金用于公司增资扩股，增加公司股本，从而增加股东的权益。而盈余公积金则是公司净利润的一部分，用于储备和扩大公司经营，从而增加公司的灵活性和稳定性。\n",
      "\n",
      "2. 影响财务灵活性：资本公积金的增加可以增加公司的股本，从而提高公司的融资能力，使其更能够应对市场风险和扩大业务规模。而盈余公积金则可以用于公司的经营和扩张，从而提高公司的盈利能力和财务灵活性。\n",
      "\n",
      "3. 影响公司治理：公司可以利用资本公积金来增加股本，从而提高公司在市场上的地位和竞争力。而盈余公积金的储备也可以增强公司治理结构的健康性和可持续性。\n",
      "\n",
      "总之，资本公积金和盈余公积金对公司的股东权益、财务灵活性和治理结构都具有重要影响。\n"
     ]
    }
   ],
   "source": [
    "prompt = template.replace('{question}',question)\n",
    "inputs = {'text':prompt, 'history': []}\n",
    "result = pipe(inputs)\n",
    "# inputs = {'text':'介绍下清华大学', 'history': result['history']}\n",
    "# result = pipe(inputs)\n",
    "print(inputs['text'])\n",
    "print(result['response'])"
   ]
  },
  {
   "cell_type": "code",
   "execution_count": 27,
   "id": "f252a0c6-ff2c-4460-9e2c-7127996773eb",
   "metadata": {},
   "outputs": [
    {
     "name": "stdout",
     "output_type": "stream",
     "text": [
      "简洁和专业的来回答用户的问题。 问题是：资本公积金和盈余公积金对公司的股东权益和财务灵活性有何影响？.\n",
      "资本公积金和盈余公积金是公司净利润中不同部分的公积金形式。它们对公司的股东权益和财务灵活性产生了不同的影响。\n",
      "\n",
      "资本公积金主要用于公司的股权融资，例如发行股票或进行并购等。资本公积金的增加可以帮助公司扩大资本规模，提高公司的市场竞争力。此外，资本公积金还可以用于公司的内部员工股权激励计划，从而增强员工的归属感和忠诚度。\n",
      "\n",
      "盈余公积金则是公司净利润中的一部分，主要用于公司内部职工福利和风险应对。盈余公积金的增加可以帮助公司提高内部员工的福利待遇，减少公司的风险承受能力。\n",
      "\n",
      "总的来说，资本公积金主要关注公司的财务灵活性和市场竞争力，而盈余公积金则主要关注公司的内部管理和员工福利。\n"
     ]
    }
   ],
   "source": [
    "prompt = template2.replace('{question}',question)\n",
    "inputs = {'text':prompt, 'history': []}\n",
    "result = pipe(inputs)\n",
    "# inputs = {'text':'介绍下清华大学', 'history': result['history']}\n",
    "# result = pipe(inputs)\n",
    "print(inputs['text'])\n",
    "print(result['response'])"
   ]
  },
  {
   "cell_type": "code",
   "execution_count": 28,
   "id": "1baa2525-8636-409a-9c47-5edfe11ea7db",
   "metadata": {},
   "outputs": [
    {
     "name": "stdout",
     "output_type": "stream",
     "text": [
      "资本公积金和盈余公积金对公司的股东权益和财务灵活性有何影响？\n",
      "资本公积金和盈余公积金是公司利润留存的不同形式，它们对公司的股东权益和财务灵活性产生了一定的影响。\n",
      "\n",
      "1. 股东权益：\n",
      "\n",
      "资本公积金主要来源于公司的股本溢价，即超过股票面值的部分。资本公积金用于增加公司股本、扩大生产经营规模等。因此，资本公积金的增加会增加股东的权益，提高每股收益。\n",
      "\n",
      "盈余公积金则是公司历年实现的净利润留存部分。盈余公积金的增加意味着公司历年盈利留存比例的提高，进而可以提高公司的每股收益，对股东权益产生积极影响。\n",
      "\n",
      "2. 财务灵活性：\n",
      "\n",
      "资本公积金的增加可能会降低公司的短期偿债能力，因为资本公积金是公司的长期资金，相对而言，偿还长期债务的压力较小。但是，这也会增加公司的长期偿债能力，有利于公司未来的发展。\n",
      "\n",
      "盈余公积金的增加可以提高公司的净利润，进而提高每股收益，但是，这并不直接影响公司的短期偿债能力。然而，盈余公积金的增加也可能意味着公司历年的盈利留存比例较高，公司的短期资金需求可能受到一定程度的限制，从而影响公司的财务灵活性。\n",
      "\n",
      "总的来说，资本公积金和盈余公积金对公司的股东权益和财务灵活性产生了一定影响。具体而言，资本公积金的增加对股东权益有积极影响，而盈余公积金的增加则更多地影响公司的财务灵活性。然而，这些影响因公司具体情况而异，投资者在分析公司时需要充分了解公司的财务状况、业务模式和未来发展战略等因素。\n"
     ]
    }
   ],
   "source": [
    "prompt = template3.replace('{question}',question)\n",
    "inputs = {'text':prompt, 'history': []}\n",
    "result = pipe(inputs)\n",
    "# inputs = {'text':'介绍下清华大学', 'history': result['history']}\n",
    "# result = pipe(inputs)\n",
    "print(inputs['text'])\n",
    "print(result['response'])"
   ]
  },
  {
   "cell_type": "code",
   "execution_count": null,
   "id": "df2a5547-8525-4551-8bc6-917466af3507",
   "metadata": {},
   "outputs": [],
   "source": []
  },
  {
   "cell_type": "code",
   "execution_count": 29,
   "id": "f9737f39-5574-4d7b-9d80-7ccd9d394d70",
   "metadata": {},
   "outputs": [],
   "source": [
    "question='合营安排的分类及共同经营的会计处理方法是什么？'"
   ]
  },
  {
   "cell_type": "code",
   "execution_count": 30,
   "id": "fa7bd951-fec4-4adf-93f0-0aedc24791b8",
   "metadata": {},
   "outputs": [
    {
     "name": "stdout",
     "output_type": "stream",
     "text": [
      "简洁和专业的来回答用户的问题，在回答涉及数字的回复时，请用纯数字，若问题有要求小数点请遵守。如果无法从中得到答案，可以乱编或改写提问句子回复。答案请使用中文。 问题是：合营安排的分类及共同经营的会计处理方法是什么？.\n",
      "合营安排是指两个或多个非独立实体之间达成的合作安排，共同经营则是指两个或多个非独立实体之间共同经营企业。在会计处理方面，合营安排可以采用权益法或成本法进行分类处理。权益法是指合营方在企业中持有的股权比例与享有权益相对应，对企业的净利润进行核算；而成本法是指合营方在企业中持有的股权比例与享有成本相对应，对企业的净利润进行核算。共同经营的会计处理方法可以采用权益法或成本法进行分类核算，具体核算方法应根据实际情况进行选择。\n"
     ]
    }
   ],
   "source": [
    "prompt = template.replace('{question}',question)\n",
    "inputs = {'text':prompt, 'history': []}\n",
    "result = pipe(inputs)\n",
    "# inputs = {'text':'介绍下清华大学', 'history': result['history']}\n",
    "# result = pipe(inputs)\n",
    "print(inputs['text'])\n",
    "print(result['response'])"
   ]
  },
  {
   "cell_type": "code",
   "execution_count": 31,
   "id": "3947683b-0ae8-467e-bd5d-ac7dc1db14fe",
   "metadata": {},
   "outputs": [
    {
     "name": "stdout",
     "output_type": "stream",
     "text": [
      "简洁和专业的来回答用户的问题。 问题是：合营安排的分类及共同经营的会计处理方法是什么？.\n",
      "合营安排是指两个或更多个独立企业之间的合作关系，共同经营则是指这些企业共同协作经营一个业务或项目。在会计处理方面，合营安排可以采用以下两种方式：\n",
      "\n",
      "1. 共同经营企业法：共同经营企业法是指合营安排中两个或更多企业共同建立一个公司，共同经营业务。在共同经营企业法下，各方的利益和风险是相互关联的。各方的会计处理可以采用权益法，即将各方的利润和损失进行合并计算，最后再按照各自的出资比例进行分配。\n",
      "\n",
      "2. 合营企业法：合营企业法是指合营安排中两个或更多企业共同建立一个独立的法人实体，共同经营业务。在合营企业法下，各方的利益和风险是独立的。各方的会计处理可以采用成本法，即将各方的成本进行分摊，最终再按照各自的出资比例进行分配。\n",
      "\n",
      "总之，合营安排的分类及共同经营的会计处理方法可以根据实际情况进行选择，以达到最佳的财务效果。\n"
     ]
    }
   ],
   "source": [
    "prompt = template2.replace('{question}',question)\n",
    "inputs = {'text':prompt, 'history': []}\n",
    "result = pipe(inputs)\n",
    "# inputs = {'text':'介绍下清华大学', 'history': result['history']}\n",
    "# result = pipe(inputs)\n",
    "print(inputs['text'])\n",
    "print(result['response'])"
   ]
  },
  {
   "cell_type": "code",
   "execution_count": 32,
   "id": "cdca906a-683b-4677-ba50-b4b04b68e50f",
   "metadata": {},
   "outputs": [
    {
     "name": "stdout",
     "output_type": "stream",
     "text": [
      "合营安排的分类及共同经营的会计处理方法是什么？\n",
      "合营安排包括共同经营和其他合营安排。共同经营是指两个或两个以上的参与方共同控制一个企业，并分享企业利润和承担企业债务。其他合营安排则是指两个或两个以上的参与方共同控制一个企业，但不分享企业利润和承担企业债务。\n",
      "\n",
      "共同经营的会计处理方法是按照各参与方在共同经营中所占份额比例计算共同经营利润，按照所承担的份额比例分摊共同经营损失。具体会计处理如下：\n",
      "\n",
      "借：共同经营资产 共同经营负债 共同经营收入 共同经营费用\n",
      "\n",
      "贷：共同经营利润 共同经营损失 共同经营收益 共同经营费用\n",
      "\n",
      "其他合营安排的会计处理方法与共同经营类似，也是按照各参与方在合营安排中所占份额比例计算合营利润和分摊合营损失。具体会计处理如下：\n",
      "\n",
      "借：合营资产 合营负债 合营收入 合营费用\n",
      "\n",
      "贷：合营利润 合营损失 合营收益 合营费用\n"
     ]
    }
   ],
   "source": [
    "prompt = template3.replace('{question}',question)\n",
    "inputs = {'text':prompt, 'history': []}\n",
    "result = pipe(inputs)\n",
    "# inputs = {'text':'介绍下清华大学', 'history': result['history']}\n",
    "# result = pipe(inputs)\n",
    "print(inputs['text'])\n",
    "print(result['response'])"
   ]
  },
  {
   "cell_type": "code",
   "execution_count": null,
   "id": "9225ab20-6af5-4dd4-89c6-68c9a28f69c0",
   "metadata": {},
   "outputs": [],
   "source": []
  },
  {
   "cell_type": "code",
   "execution_count": null,
   "id": "80cb8aaf-75a7-4f01-b511-8539799a9f26",
   "metadata": {},
   "outputs": [],
   "source": []
  },
  {
   "cell_type": "code",
   "execution_count": null,
   "id": "a691a7ab-0cc3-4795-84a7-9d91c47ffde7",
   "metadata": {},
   "outputs": [],
   "source": []
  },
  {
   "cell_type": "code",
   "execution_count": null,
   "id": "b1a766aa-56ad-4f4e-8b02-57bd3da7b5b0",
   "metadata": {},
   "outputs": [],
   "source": []
  },
  {
   "cell_type": "code",
   "execution_count": null,
   "id": "e8911d05-f5fb-414f-a0dd-6259f975eef8",
   "metadata": {},
   "outputs": [],
   "source": []
  },
  {
   "cell_type": "code",
   "execution_count": null,
   "id": "a394d211-841a-4d7e-aa61-c52a9a689677",
   "metadata": {},
   "outputs": [],
   "source": []
  },
  {
   "cell_type": "code",
   "execution_count": null,
   "id": "f5c810b7-8950-4049-869d-954c92d1e022",
   "metadata": {},
   "outputs": [],
   "source": []
  },
  {
   "cell_type": "code",
   "execution_count": null,
   "id": "1b1f9e31-5c49-4be3-bb9c-09adda5e0e11",
   "metadata": {},
   "outputs": [],
   "source": []
  },
  {
   "cell_type": "code",
   "execution_count": null,
   "id": "41f62017-c47c-440b-8a8d-270d4fcc772d",
   "metadata": {},
   "outputs": [],
   "source": []
  },
  {
   "cell_type": "code",
   "execution_count": null,
   "id": "d0c5ae4d-9403-4f66-9c51-0eaaedc0ab75",
   "metadata": {},
   "outputs": [],
   "source": []
  },
  {
   "cell_type": "code",
   "execution_count": null,
   "id": "43ef470b-0b36-4326-93e4-d3c17c47f144",
   "metadata": {},
   "outputs": [],
   "source": []
  },
  {
   "cell_type": "code",
   "execution_count": null,
   "id": "60610ccd-3cfb-42c6-853a-0469a2a1005e",
   "metadata": {},
   "outputs": [],
   "source": []
  },
  {
   "cell_type": "code",
   "execution_count": 5,
   "id": "86b98655-8b39-4bf7-bfcc-90f151b9e12b",
   "metadata": {},
   "outputs": [],
   "source": [
    "import json\n",
    "import pandas as pd"
   ]
  },
  {
   "cell_type": "code",
   "execution_count": 8,
   "id": "b849058a-1f8d-42e0-8772-992a631fc98f",
   "metadata": {},
   "outputs": [],
   "source": [
    "test_data = []\n",
    "with open('/root/autodl-tmp/chatglm_llm_fintech_raw_dataset/test_questions.jsonl','rt',encoding='utf-8') as f:\n",
    "    for line in f:\n",
    "        one_data = json.loads(line.strip())\n",
    "        test_data.append(one_data)"
   ]
  },
  {
   "cell_type": "code",
   "execution_count": 9,
   "id": "1a39de69-e549-4a3e-8530-be6d16adcd6e",
   "metadata": {},
   "outputs": [
    {
     "data": {
      "text/plain": [
       "5000"
      ]
     },
     "execution_count": 9,
     "metadata": {},
     "output_type": "execute_result"
    }
   ],
   "source": [
    "len(test_data)"
   ]
  },
  {
   "cell_type": "code",
   "execution_count": 10,
   "id": "2f60ca47-d271-4ca8-a0c8-29c23f556ea9",
   "metadata": {},
   "outputs": [
    {
     "data": {
      "text/plain": [
       "{'id': 0, 'question': '能否根据2020年金宇生物技术股份有限公司的年报，给我简要介绍一下报告期内公司的社会责任工作情况？'}"
      ]
     },
     "execution_count": 10,
     "metadata": {},
     "output_type": "execute_result"
    }
   ],
   "source": [
    "test_data[0]"
   ]
  },
  {
   "cell_type": "code",
   "execution_count": 11,
   "id": "43f76e79-372d-4203-8c5a-ccbe7a301129",
   "metadata": {},
   "outputs": [],
   "source": [
    "from tqdm import tqdm"
   ]
  },
  {
   "cell_type": "code",
   "execution_count": 12,
   "id": "3e303802-0268-4108-b70c-a3bc2e2791c3",
   "metadata": {},
   "outputs": [
    {
     "name": "stderr",
     "output_type": "stream",
     "text": [
      "100%|██████████| 5000/5000 [3:51:38<00:00,  2.78s/it]   \n"
     ]
    }
   ],
   "source": [
    "test_data_answer = []\n",
    "for one in tqdm(test_data):\n",
    "    inputs = {'text':one['question'], 'history': []}\n",
    "    result = pipe(inputs)\n",
    "    test_data_answer.append({'id':one['id'],'question':one['question'],'answer':result})"
   ]
  },
  {
   "cell_type": "code",
   "execution_count": 13,
   "id": "4ecfdd37-095d-44f8-9d4a-4a430ae3c66e",
   "metadata": {},
   "outputs": [
    {
     "data": {
      "text/plain": [
       "5000"
      ]
     },
     "execution_count": 13,
     "metadata": {},
     "output_type": "execute_result"
    }
   ],
   "source": [
    "len(test_data_answer)"
   ]
  },
  {
   "cell_type": "code",
   "execution_count": 14,
   "id": "2e87ab45-5674-4393-a0ce-4ff10234341c",
   "metadata": {
    "collapsed": true,
    "jupyter": {
     "outputs_hidden": true
    },
    "tags": []
   },
   "outputs": [
    {
     "data": {
      "text/plain": [
       "{'id': 0,\n",
       " 'question': '能否根据2020年金宇生物技术股份有限公司的年报，给我简要介绍一下报告期内公司的社会责任工作情况？',\n",
       " 'answer': {'response': '2020年金宇生物技术股份有限公司的年报显示，公司在社会责任方面主要开展了以下工作：\\n\\n1. 疫情期间，公司通过电话、短信、网络等多种形式，提醒员工做好个人防护，避免前往疫情高风险区。同时，公司为员工每人无偿捐赠口罩1000个，为有需要的员工提供口罩平价渠道购买。此外，公司还通过在线办公、远程教育等措施，确保员工权益。\\n\\n2. 定期举办员工培训活动，提升员工技能水平。培训内容涵盖生物产品知识、质量管理、法律法规等方面，以提高员工的专业素质。\\n\\n3. 公司积极参与社会公益活动。2020年，公司通过向困难农村地区捐赠物资、为贫困地区学生捐赠学习用品等方式，助力我国贫困地区的发展。此外，公司还积极参与核酸检测工作，为疫情防控贡献力量。\\n\\n4. 加强环境管理，提高资源利用率。公司通过优化生产流程、提高资源利用率等措施，降低生产成本，减少废水、废气、废渣等排放，保护环境。\\n\\n5. 加强员工关怀，提高员工满意度。公司定期举办员工文化活动，提升员工凝聚力；并通过完善员工福利制度，提高员工的福利待遇。\\n\\n总之，2020年金宇生物技术股份有限公司在社会责任方面呈现出积极向上的态度，为我国的发展贡献了一份力量。',\n",
       "  'history': [('能否根据2020年金宇生物技术股份有限公司的年报，给我简要介绍一下报告期内公司的社会责任工作情况？',\n",
       "    '2020年金宇生物技术股份有限公司的年报显示，公司在社会责任方面主要开展了以下工作：\\n\\n1. 疫情期间，公司通过电话、短信、网络等多种形式，提醒员工做好个人防护，避免前往疫情高风险区。同时，公司为员工每人无偿捐赠口罩1000个，为有需要的员工提供口罩平价渠道购买。此外，公司还通过在线办公、远程教育等措施，确保员工权益。\\n\\n2. 定期举办员工培训活动，提升员工技能水平。培训内容涵盖生物产品知识、质量管理、法律法规等方面，以提高员工的专业素质。\\n\\n3. 公司积极参与社会公益活动。2020年，公司通过向困难农村地区捐赠物资、为贫困地区学生捐赠学习用品等方式，助力我国贫困地区的发展。此外，公司还积极参与核酸检测工作，为疫情防控贡献力量。\\n\\n4. 加强环境管理，提高资源利用率。公司通过优化生产流程、提高资源利用率等措施，降低生产成本，减少废水、废气、废渣等排放，保护环境。\\n\\n5. 加强员工关怀，提高员工满意度。公司定期举办员工文化活动，提升员工凝聚力；并通过完善员工福利制度，提高员工的福利待遇。\\n\\n总之，2020年金宇生物技术股份有限公司在社会责任方面呈现出积极向上的态度，为我国的发展贡献了一份力量。')]}}"
      ]
     },
     "execution_count": 14,
     "metadata": {},
     "output_type": "execute_result"
    }
   ],
   "source": [
    "test_data_answer[0]"
   ]
  },
  {
   "cell_type": "code",
   "execution_count": 18,
   "id": "d81f9840-3ed8-4253-acd1-b3b246102354",
   "metadata": {},
   "outputs": [],
   "source": [
    "with open('/root/autodl-tmp/chatglm_llm_fintech_raw_dataset/机器爱学习_result.json','wt',encoding='utf8') as f:\n",
    "    for one_answer in test_data_answer:\n",
    "        f.write(json.dumps(one_answer, ensure_ascii=False)+'\\n')"
   ]
  },
  {
   "cell_type": "code",
   "execution_count": 19,
   "id": "70408673-9b1b-48f3-80de-514aca80e52f",
   "metadata": {},
   "outputs": [
    {
     "name": "stdout",
     "output_type": "stream",
     "text": [
      "-rw-r--r-- 1 root root 5.5M 7月  28 21:22 /root/autodl-tmp/chatglm_llm_fintech_raw_dataset/机器爱学习_result.json\n"
     ]
    }
   ],
   "source": [
    "!ls -lh /root/autodl-tmp/chatglm_llm_fintech_raw_dataset/机器爱学习_result.json"
   ]
  },
  {
   "cell_type": "code",
   "execution_count": 21,
   "id": "7109f598-9a84-4c83-80c7-63817d8cc1ec",
   "metadata": {},
   "outputs": [
    {
     "data": {
      "text/plain": [
       "{'id': 0,\n",
       " 'question': '能否根据2020年金宇生物技术股份有限公司的年报，给我简要介绍一下报告期内公司的社会责任工作情况？',\n",
       " 'answer': {'response': '2020年金宇生物技术股份有限公司的年报显示，公司在社会责任方面主要开展了以下工作：\\n\\n1. 疫情期间，公司通过电话、短信、网络等多种形式，提醒员工做好个人防护，避免前往疫情高风险区。同时，公司为员工每人无偿捐赠口罩1000个，为有需要的员工提供口罩平价渠道购买。此外，公司还通过在线办公、远程教育等措施，确保员工权益。\\n\\n2. 定期举办员工培训活动，提升员工技能水平。培训内容涵盖生物产品知识、质量管理、法律法规等方面，以提高员工的专业素质。\\n\\n3. 公司积极参与社会公益活动。2020年，公司通过向困难农村地区捐赠物资、为贫困地区学生捐赠学习用品等方式，助力我国贫困地区的发展。此外，公司还积极参与核酸检测工作，为疫情防控贡献力量。\\n\\n4. 加强环境管理，提高资源利用率。公司通过优化生产流程、提高资源利用率等措施，降低生产成本，减少废水、废气、废渣等排放，保护环境。\\n\\n5. 加强员工关怀，提高员工满意度。公司定期举办员工文化活动，提升员工凝聚力；并通过完善员工福利制度，提高员工的福利待遇。\\n\\n总之，2020年金宇生物技术股份有限公司在社会责任方面呈现出积极向上的态度，为我国的发展贡献了一份力量。',\n",
       "  'history': [('能否根据2020年金宇生物技术股份有限公司的年报，给我简要介绍一下报告期内公司的社会责任工作情况？',\n",
       "    '2020年金宇生物技术股份有限公司的年报显示，公司在社会责任方面主要开展了以下工作：\\n\\n1. 疫情期间，公司通过电话、短信、网络等多种形式，提醒员工做好个人防护，避免前往疫情高风险区。同时，公司为员工每人无偿捐赠口罩1000个，为有需要的员工提供口罩平价渠道购买。此外，公司还通过在线办公、远程教育等措施，确保员工权益。\\n\\n2. 定期举办员工培训活动，提升员工技能水平。培训内容涵盖生物产品知识、质量管理、法律法规等方面，以提高员工的专业素质。\\n\\n3. 公司积极参与社会公益活动。2020年，公司通过向困难农村地区捐赠物资、为贫困地区学生捐赠学习用品等方式，助力我国贫困地区的发展。此外，公司还积极参与核酸检测工作，为疫情防控贡献力量。\\n\\n4. 加强环境管理，提高资源利用率。公司通过优化生产流程、提高资源利用率等措施，降低生产成本，减少废水、废气、废渣等排放，保护环境。\\n\\n5. 加强员工关怀，提高员工满意度。公司定期举办员工文化活动，提升员工凝聚力；并通过完善员工福利制度，提高员工的福利待遇。\\n\\n总之，2020年金宇生物技术股份有限公司在社会责任方面呈现出积极向上的态度，为我国的发展贡献了一份力量。')]}}"
      ]
     },
     "execution_count": 21,
     "metadata": {},
     "output_type": "execute_result"
    }
   ],
   "source": [
    "test_data_answer[0]"
   ]
  },
  {
   "cell_type": "code",
   "execution_count": 22,
   "id": "2b319247-86ed-455a-9227-fb18d24ec918",
   "metadata": {},
   "outputs": [],
   "source": [
    "submit_answer = []\n",
    "for one in test_data_answer:\n",
    "    submit_answer.append({'id' : one['id'], 'question': one['question'], 'answer': one['answer']['response']})"
   ]
  },
  {
   "cell_type": "code",
   "execution_count": 23,
   "id": "0c07c406-ac42-4026-9cc6-36812b2da679",
   "metadata": {},
   "outputs": [
    {
     "data": {
      "text/plain": [
       "5000"
      ]
     },
     "execution_count": 23,
     "metadata": {},
     "output_type": "execute_result"
    }
   ],
   "source": [
    "len(submit_answer)"
   ]
  },
  {
   "cell_type": "code",
   "execution_count": 24,
   "id": "9094fc97-01f6-4506-865f-f47d7751f153",
   "metadata": {},
   "outputs": [
    {
     "data": {
      "text/plain": [
       "{'id': 4999,\n",
       " 'question': '有友食品股份有限公司2021年应付职工薪酬是多少元?',\n",
       " 'answer': '根据题目所给的信息，有友食品股份有限公司在2021年应付职工薪酬的金额是多少呢？\\n\\n首先，我们需要知道有友食品股份有限公司2021年的净利润是多少。题目中没有给出具体的数字，但是我们知道，净利润与应付职工薪酬是有一定的关系的。因此，我们可以先计算出净利润。\\n\\n假设有友食品股份有限公司2021年的净利润为1000万元，那么其应付职工薪酬的金额应该是多少呢？根据题目中的信息，应付职工薪酬的100%应该等于净利润的100%。因此，应付职工薪酬的金额应该是1000万元的100%，即100万元。\\n\\n因此，有友食品股份有限公司2021年应付职工薪酬的金额是100万元。'}"
      ]
     },
     "execution_count": 24,
     "metadata": {},
     "output_type": "execute_result"
    }
   ],
   "source": [
    "submit_answer[-1]"
   ]
  },
  {
   "cell_type": "code",
   "execution_count": 25,
   "id": "9dc90dcb-a03a-4795-8b5a-3ec7378ed847",
   "metadata": {},
   "outputs": [
    {
     "data": {
      "text/plain": [
       "{'id': 4000,\n",
       " 'question': '请简要分析绍兴贝斯美化工股份有限公司2019年公司地位的情况。',\n",
       " 'answer': '绍兴贝斯美化工股份有限公司2019年的公司地位有以下几点：\\n\\n1. 公司规模：公司规模较小，总股本为1.38亿元，流通股本为0.68亿元。\\n\\n2. 公司地位：公司为一家化工企业，主要从事氯气、氯碱、烧碱和聚氯乙烯等化工产品的生产与销售。在所处行业中，公司规模较小，但具有一定的竞争力和市场占有率。\\n\\n3. 公司业绩：公司2019年实现营业收入为2.96亿元，同比增长20.44%；净利润为0.24亿元，同比增长45.25%。公司的业绩增长较快，主要得益于产品价格上涨和规模扩大。\\n\\n4. 公司地位：公司为一家技术领先的企业，拥有多项专利技术，并被评为“浙江省化工科学技术奖”和“中国氯碱工业优秀企业”。此外，公司还是氯碱行业的国家标准制定者之一，具有较高的行业影响力和地位。\\n\\n5. 公司规模：公司规模适中，总资产为5.37亿元，净资产为2.88亿元。公司的资产负债率适中，负债压力较小。\\n\\n综上所述，绍兴贝斯美化工股份有限公司2019年的公司地位具有一定的竞争力和市场占有率，但规模较小，资产负债率适中。公司需要继续努力提升产品质量和扩大规模，以提高市场占有率和利润水平。'}"
      ]
     },
     "execution_count": 25,
     "metadata": {},
     "output_type": "execute_result"
    }
   ],
   "source": [
    "submit_answer[4000]"
   ]
  },
  {
   "cell_type": "code",
   "execution_count": 26,
   "id": "f656b90d-36d7-4820-800d-bcd69c6382c6",
   "metadata": {},
   "outputs": [],
   "source": [
    "with open('/root/autodl-tmp/chatglm_llm_fintech_raw_dataset/机器爱学习_result.json','wt',encoding='utf8') as f:\n",
    "    for one_answer in submit_answer:\n",
    "        f.write(json.dumps(one_answer, ensure_ascii=False)+'\\n')"
   ]
  },
  {
   "cell_type": "code",
   "execution_count": 27,
   "id": "76ef4a89-991a-4225-b125-309c7fdf7b7b",
   "metadata": {},
   "outputs": [
    {
     "name": "stdout",
     "output_type": "stream",
     "text": [
      "{\"id\": 0, \"question\": \"能否根据2020年金宇生物技术股份有限公司的年报，给我简要介绍一下报告期内公司的社会责任工作情况？\", \"answer\": \"2020年金宇生物技术股份有限公司的年报显示，公司在社会责任方面主要开展了以下工作：\\n\\n1. 疫情期间，公司通过电话、短信、网络等多种形式，提醒员工做好个人防护，避免前往疫情高风险区。同时，公司为员工每人无偿捐赠口罩1000个，为有需要的员工提供口罩平价渠道购买。此外，公司还通过在线办公、远程教育等措施，确保员工权益。\\n\\n2. 定期举办员工培训活动，提升员工技能水平。培训内容涵盖生物产品知识、质量管理、法律法规等方面，以提高员工的专业素质。\\n\\n3. 公司积极参与社会公益活动。2020年，公司通过向困难农村地区捐赠物资、为贫困地区学生捐赠学习用品等方式，助力我国贫困地区的发展。此外，公司还积极参与核酸检测工作，为疫情防控贡献力量。\\n\\n4. 加强环境管理，提高资源利用率。公司通过优化生产流程、提高资源利用率等措施，降低生产成本，减少废水、废气、废渣等排放，保护环境。\\n\\n5. 加强员工关怀，提高员工满意度。公司定期举办员工文化活动，提升员工凝聚力；并通过完善员工福利制度，提高员工的福利待遇。\\n\\n总之，2020年金宇生物技术股份有限公司在社会责任方面呈现出积极向上的态度，为我国的发展贡献了一份力量。\"}\n",
      "{\"id\": 1, \"question\": \"请根据江化微2019年的年报，简要介绍报告期内公司主要销售客户的客户集中度情况，并结合同行业情况进行分析。\", \"answer\": \"根据江化微2019年的年报，公司在报告期内，主要销售客户集中度情况如下：\\n\\n1.  top10 客户：报告期内，公司前10名客户的销售额占公司总销售额的比重为54.14%，集中度较高。其中，前五大客户分别为：中石化、中石油、中国石化、中国乙烯和齐翔化工，占公司总销售额的比重分别为24.87%、20.84%、13.12%、11.89%和8.56%。\\n\\n2. top20 客户：报告期内，公司前20名客户的销售额占公司总销售额的比重为39.90%，集中度较高。其中，前五大客户分别为：中石化、中石油、中国石化、中国乙烯和齐翔化工，占公司总销售额的比重分别为24.87%、20.84%、13.12%、11.89%和8.56%。\\n\\n3. top30 客户：报告期内，公司前30名客户的销售额占公司总销售额的比重为36.92%，集中度较高。其中，前五大客户分别为：中石化、中石油、中国石化、中国乙烯和齐翔化工，占公司总销售额的比重分别为24.87%、20.84%、13.12%、11.89%和8.56%。\\n\\n同行业情况方面，2019年，我国石油化工行业整体呈现前移的趋势，行业整体需求增加，竞争加剧。在这种情况下，公司的主要销售客户集中度较高也在情理之中。此外，公司的主要客户集中度较高，也反映出公司具有较好的市场竞争力和市场渗透力，有助于公司在行业中保持稳定的地位。\"}\n",
      "{\"id\": 2, \"question\": \"2019年四方科技电子信箱是什么?\", \"answer\": \"很抱歉，我无法回答这个问题，因为我是在2021年的知识库上进行训练的，四方科技电子信箱的具体信息可能仅在最近几年内发生变化。建议您访问四方科技的官方网站或联系他们的客服人员，以获取最新的信息。\"}\n",
      "{\"id\": 3, \"question\": \"研发费用对公司的技术创新和竞争优势有何影响？\", \"answer\": \"研发费用是公司用于研究、开发和测试新产品、新技术、新业务等的费用,对公司的技术创新和竞争优势具有重要的影响。\\n\\n以下是研发费用对公司的技术创新和竞争优势产生影响的几点:\\n\\n1. 技术领先优势:通过研发费用,公司可以引进新技术、新产品,提升公司的技术水平,建立技术领先优势,增加公司在市场上的竞争优势。\\n\\n2. 产品创新优势:通过研发费用,公司可以开发出更具创新性的产品,满足消费者的需求,提升公司的产品在市场上的竞争力。\\n\\n3. 市场竞争力:通过研发费用,公司可以提升产品和服务的质量,增强公司的市场竞争力,提高公司在市场上的生存能力。\\n\\n4. 品牌建设:通过研发费用,公司可以提升品牌形象和品牌价值,增加消费者对公司的认可度和忠诚度,提升公司的品牌竞争优势。\\n\\n5. 降低风险:通过研发费用,公司可以降低新产品、新技术的风险,增加公司在市场上的风险承受能力。\\n\\n研发费用对于公司的技术创新和竞争优势具有重要的影响。通过合理的研发费用的使用,公司可以实现技术领先、产品创新、市场竞争力提升等目标,进一步提升公司的综合竞争优势。\"}\n",
      "{\"id\": 4, \"question\": \"康希诺生物股份公司在2020年的资产负债比率具体是多少，需要保留至小数点后两位？\", \"answer\": \"我无法提供具体的资产负债比率数据，因为我是一个人工智能助手，我的训练时间截止到2023年，我无法获取实时数据。建议您查阅康希诺生物科技股份有限公司（股票代码：300222.SZ）的官方财报或专业金融数据平台，以获取最新的资产负债比率数据。\"}\n"
     ]
    }
   ],
   "source": [
    "!head -n 5  /root/autodl-tmp/chatglm_llm_fintech_raw_dataset/机器爱学习_result.json"
   ]
  },
  {
   "cell_type": "code",
   "execution_count": null,
   "id": "271574dd-4b54-4672-924e-bec0e66c8e88",
   "metadata": {},
   "outputs": [],
   "source": []
  }
 ],
 "metadata": {
  "kernelspec": {
   "display_name": "cft",
   "language": "python",
   "name": "cft"
  },
  "language_info": {
   "codemirror_mode": {
    "name": "ipython",
    "version": 3
   },
   "file_extension": ".py",
   "mimetype": "text/x-python",
   "name": "python",
   "nbconvert_exporter": "python",
   "pygments_lexer": "ipython3",
   "version": "3.9.17"
  }
 },
 "nbformat": 4,
 "nbformat_minor": 5
}
