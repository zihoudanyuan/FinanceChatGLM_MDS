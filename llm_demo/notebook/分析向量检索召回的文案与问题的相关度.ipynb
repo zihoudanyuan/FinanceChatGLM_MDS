{
 "cells": [
  {
   "cell_type": "markdown",
   "id": "ee8dc560-24d4-403a-a121-1251156d9c04",
   "metadata": {},
   "source": [
    "# 分析向量检索召回的文案与问题的相关度"
   ]
  },
  {
   "cell_type": "code",
   "execution_count": 10,
   "id": "a970dfb1-0b85-40d8-9807-f9b18f824f13",
   "metadata": {},
   "outputs": [],
   "source": [
    "import pickle\n",
    "import json\n",
    "from collections import defaultdict"
   ]
  },
  {
   "cell_type": "code",
   "execution_count": 2,
   "id": "9e3c8d41-94fb-4b3e-b83a-b1ea12e70cb5",
   "metadata": {},
   "outputs": [
    {
     "name": "stdout",
     "output_type": "stream",
     "text": [
      "v2  v3\tv3_question_knowledge_store_file.pkl\n"
     ]
    }
   ],
   "source": [
    "!ls /root/autodl-tmp/fintech_data/index"
   ]
  },
  {
   "cell_type": "code",
   "execution_count": 4,
   "id": "0b502b61-250a-4101-a143-db8f37839d7c",
   "metadata": {},
   "outputs": [],
   "source": [
    "kg = pickle.load(open('/root/autodl-tmp/fintech_data/index/v3_question_knowledge_store_file.pkl','rb'))"
   ]
  },
  {
   "cell_type": "code",
   "execution_count": 5,
   "id": "47af31c3-2eb7-49c8-9a7a-26954dec0547",
   "metadata": {},
   "outputs": [
    {
     "data": {
      "text/plain": [
       "4647"
      ]
     },
     "execution_count": 5,
     "metadata": {},
     "output_type": "execute_result"
    }
   ],
   "source": [
    "len(kg)"
   ]
  },
  {
   "cell_type": "code",
   "execution_count": 12,
   "id": "d205ab8b-8baf-46de-a38b-82841f585062",
   "metadata": {},
   "outputs": [],
   "source": [
    "q2c=defaultdict(str)"
   ]
  },
  {
   "cell_type": "code",
   "execution_count": 14,
   "id": "5059b20a-0e9f-43ad-9e53-c04ee3666108",
   "metadata": {},
   "outputs": [],
   "source": [
    "    test_data = []\n",
    "    with open('/root/autodl-tmp/chatglm_llm_fintech_raw_dataset/test_questions.jsonl','rt',encoding='utf-8') as f:\n",
    "        for line in f:\n",
    "            question_obj = json.loads(line.strip())\n",
    "            # if need_search_in_kg(question_obj):\n",
    "            test_data.append(question_obj)\n",
    "            q2c[question_obj['id']] = question_obj['question']"
   ]
  },
  {
   "cell_type": "code",
   "execution_count": 19,
   "id": "d068a4de-f933-40d1-a708-758ff38f4d70",
   "metadata": {},
   "outputs": [
    {
     "name": "stdout",
     "output_type": "stream",
     "text": [
      "一汽解放在2019年的职工总数是多少？ \n",
      " 3、公司拥有强大的供应体系和完备的营销网络。\n",
      "公司目前拥有稳定的供应商500余家；\n",
      "拥有一汽奔腾经销商300余家，一汽马自达经销商200余家，为一汽轿车的持续发展，提供了持续的动能。\n",
      "第四节经营情况讨论与分析\n",
      "一、概述\n",
      "（2）一汽马自达汽车销售有限公司为本公司控股子公司，本公司持有其56%的股权，其2019\n",
      "年度净利润较上年同期减少82.01%，主要是由于本年度整车销量减少所致。\n",
      "(3)一汽财务有限公司为本公司的联营企业，本公司持有其21.81%的股权，其2019年度公司确认的投资收益为49,470.09万元，同比减少21.10%，其主营业务为办理集团内部金融业务及其他经人民银行批准的金融业务。\n",
      "（4）鑫安汽车保险股份有限公司为本公司的联营企业，本公司持有其17.50%的股权，其2019\n",
      "年度公司确认的投资收益为1,927.23万元，同比增加14.54%，其主营业务为各种机动车辆保险业务，与机动车辆保险有关的其他财产保险业务，短期健康保险和意外伤害保险业务等业务。\n",
      "相关信息披露详见财务报表附注五、22及附注七、28。\n",
      "1、事项描述\n",
      "截至2019年12月31日，一汽轿车公司预计负债余额中计提产品质量保证金19,538.78\n",
      "万元。\n",
      "根据汽车销售合同及国家有关法规要求，客户在保修期内可获得一汽轿车公司提供的免费保修服务。\n"
     ]
    }
   ],
   "source": [
    "for qid,context in kg.items():\n",
    "    if '率' in q2c[qid] or '费' in q2c[qid]  or '利润' in q2c[qid]:\n",
    "        continue\n",
    "    print(q2c[qid],'\\n', context)\n",
    "    break"
   ]
  },
  {
   "cell_type": "code",
   "execution_count": null,
   "id": "d52c5b57-f591-47aa-98b0-983cc8249628",
   "metadata": {},
   "outputs": [],
   "source": []
  }
 ],
 "metadata": {
  "kernelspec": {
   "display_name": "cft",
   "language": "python",
   "name": "cft"
  },
  "language_info": {
   "codemirror_mode": {
    "name": "ipython",
    "version": 3
   },
   "file_extension": ".py",
   "mimetype": "text/x-python",
   "name": "python",
   "nbconvert_exporter": "python",
   "pygments_lexer": "ipython3",
   "version": "3.9.17"
  }
 },
 "nbformat": 4,
 "nbformat_minor": 5
}
